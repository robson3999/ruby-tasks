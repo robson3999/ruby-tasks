{
 "cells": [
  {
   "cell_type": "markdown",
   "metadata": {},
   "source": [
    "# ActiveRecord"
   ]
  },
  {
   "cell_type": "markdown",
   "metadata": {},
   "source": [
    "Zanim przystąpimy do pracy, musimy skonfigurować bazę danych. Ponieważ pracujemy bez użycia Railsów, konieczne jest\n",
    "ręczne zestawienie połączenia oraz stworzenie odpowiednich tabel w bazie. Zadania te realizowane są przez\n",
    "skrypt `db_setup.rb`. Aby go uruchomić wpisujemy\n",
    "```ruby\n",
    "$:.unshift \".\"\n",
    "require 'db_setup'\n",
    "```"
   ]
  },
  {
   "cell_type": "code",
   "execution_count": 1,
   "metadata": {
    "collapsed": false,
    "scrolled": true
   },
   "outputs": [
    {
     "ename": "Gem::LoadError",
     "evalue": "Specified 'sqlite3' for database adapter, but the gem is not loaded. Add `gem 'sqlite3'` to your Gemfile (and ensure its version is at the minimum required by ActiveRecord).",
     "output_type": "error",
     "traceback": [
      "\u001b[31mGem::LoadError\u001b[0m: Specified 'sqlite3' for database adapter, but the gem is not loaded. Add `gem 'sqlite3'` to your Gemfile (and ensure its version is at the minimum required by ActiveRecord).",
      "\u001b[37m/home/robert/.rvm/gems/ruby-2.2.3/gems/activerecord-4.2.4/lib/active_record/connection_adapters/connection_specification.rb:177:in `rescue in spec'\u001b[0m",
      "\u001b[37m/home/robert/.rvm/gems/ruby-2.2.3/gems/activerecord-4.2.4/lib/active_record/connection_adapters/connection_specification.rb:174:in `spec'\u001b[0m",
      "\u001b[37m/home/robert/.rvm/gems/ruby-2.2.3/gems/activerecord-4.2.4/lib/active_record/connection_handling.rb:50:in `establish_connection'\u001b[0m",
      "\u001b[37m/home/robert/Dokumenty/git/ruby-tasks/db_setup.rb:4:in `<top (required)>'\u001b[0m",
      "\u001b[37m/home/robert/.rvm/rubies/ruby-2.2.3/lib/ruby/site_ruby/2.2.0/rubygems/core_ext/kernel_require.rb:54:in `require'\u001b[0m",
      "\u001b[37m/home/robert/.rvm/rubies/ruby-2.2.3/lib/ruby/site_ruby/2.2.0/rubygems/core_ext/kernel_require.rb:54:in `require'\u001b[0m",
      "\u001b[37m<main>:1:in `<main>'\u001b[0m",
      "\u001b[37m/home/robert/.rvm/gems/ruby-2.2.3/gems/iruby-0.2.7/lib/iruby/backend.rb:44:in `eval'\u001b[0m",
      "\u001b[37m/home/robert/.rvm/gems/ruby-2.2.3/gems/iruby-0.2.7/lib/iruby/backend.rb:44:in `eval'\u001b[0m",
      "\u001b[37m/home/robert/.rvm/gems/ruby-2.2.3/gems/iruby-0.2.7/lib/iruby/backend.rb:12:in `eval'\u001b[0m",
      "\u001b[37m/home/robert/.rvm/gems/ruby-2.2.3/gems/iruby-0.2.7/lib/iruby/kernel.rb:87:in `execute_request'\u001b[0m",
      "\u001b[37m/home/robert/.rvm/gems/ruby-2.2.3/gems/iruby-0.2.7/lib/iruby/kernel.rb:47:in `dispatch'\u001b[0m",
      "\u001b[37m/home/robert/.rvm/gems/ruby-2.2.3/gems/iruby-0.2.7/lib/iruby/kernel.rb:37:in `run'\u001b[0m",
      "\u001b[37m/home/robert/.rvm/gems/ruby-2.2.3/gems/iruby-0.2.7/lib/iruby/command.rb:70:in `run_kernel'\u001b[0m",
      "\u001b[37m/home/robert/.rvm/gems/ruby-2.2.3/gems/iruby-0.2.7/lib/iruby/command.rb:34:in `run'\u001b[0m",
      "\u001b[37m/home/robert/.rvm/gems/ruby-2.2.3/gems/iruby-0.2.7/bin/iruby:5:in `<top (required)>'\u001b[0m",
      "\u001b[37m/home/robert/.rvm/gems/ruby-2.2.3/bin/iruby:23:in `load'\u001b[0m",
      "\u001b[37m/home/robert/.rvm/gems/ruby-2.2.3/bin/iruby:23:in `<main>'\u001b[0m",
      "\u001b[37m/home/robert/.rvm/gems/ruby-2.2.3/bin/ruby_executable_hooks:15:in `eval'\u001b[0m",
      "\u001b[37m/home/robert/.rvm/gems/ruby-2.2.3/bin/ruby_executable_hooks:15:in `<main>'\u001b[0m"
     ]
    }
   ],
   "source": [
    "$:.unshift \".\"\n",
    "require 'db_setup'"
   ]
  },
  {
   "cell_type": "markdown",
   "metadata": {},
   "source": [
    "W dalszych zadaniach będzie wykonywać polecenia korzystając z następujących klas, zmapowanych na odpowiadające im \n",
    "table w bazie danych:\n",
    "```ruby\n",
    "class Author < ActiveRecord::Base\n",
    "  # name      (string)\n",
    "  # surname   (string)\n",
    "  # born      (datetime) \n",
    "  # died      (datetime)\n",
    "  # image_url (string)\n",
    "  \n",
    "  has_many :books\n",
    "end\n",
    "\n",
    "class Book < ActiveRecord::Base\n",
    "  # title     (string)\n",
    "  # language  (string)\n",
    "  # author    (Author)\n",
    "  # published (integer)\n",
    "\n",
    "  belongs_to :author\n",
    "  has_and_belongs_to_many :genres\n",
    "end\n",
    "\n",
    "class Genre < ActiveRecord::Base\n",
    "  # name  (string)\n",
    "  \n",
    "  has_and_belongs_to_many :books\n",
    "end\n",
    "```"
   ]
  },
  {
   "cell_type": "markdown",
   "metadata": {},
   "source": [
    "## CRUD"
   ]
  },
  {
   "cell_type": "markdown",
   "metadata": {},
   "source": [
    "Cztery podstawowe operacje, które wykonujemy na danych to\n",
    "* tworzenie - **C**reate\n",
    "* odczytywanie - **R**ead\n",
    "* modyfikowanie - **U**pdate\n",
    "* usuwanie - **D**elete\n",
    "\n",
    "W skrócie oznaczane są one za pomocą akronimu CRUD."
   ]
  },
  {
   "cell_type": "markdown",
   "metadata": {},
   "source": [
    "### Create"
   ]
  },
  {
   "cell_type": "markdown",
   "metadata": {},
   "source": [
    "W ActiveRecord (w skrócie AR) korzystamy z obiektowego interfejsu. \n",
    "Tworzenie danych wygląda następująco:\n",
    "```ruby\n",
    "author = Author.new(name: \"Adam\", surname: \"Mickiewicz\")\n",
    "author.save\n",
    "```"
   ]
  },
  {
   "cell_type": "code",
   "execution_count": 9,
   "metadata": {
    "collapsed": false
   },
   "outputs": [
    {
     "ename": "ActiveRecord::ConnectionNotEstablished",
     "evalue": "No connection pool for Author",
     "output_type": "error",
     "traceback": [
      "\u001b[31mActiveRecord::ConnectionNotEstablished\u001b[0m: No connection pool for Author",
      "\u001b[37m/home/robert/.rvm/gems/ruby-2.2.3/gems/activerecord-4.2.4/lib/active_record/connection_adapters/abstract/connection_pool.rb:570:in `retrieve_connection'\u001b[0m",
      "\u001b[37m/home/robert/.rvm/gems/ruby-2.2.3/gems/activerecord-4.2.4/lib/active_record/connection_handling.rb:113:in `retrieve_connection'\u001b[0m",
      "\u001b[37m/home/robert/.rvm/gems/ruby-2.2.3/gems/activerecord-4.2.4/lib/active_record/connection_handling.rb:87:in `connection'\u001b[0m",
      "\u001b[37m/home/robert/.rvm/gems/ruby-2.2.3/gems/activerecord-4.2.4/lib/active_record/attributes.rb:93:in `columns'\u001b[0m",
      "\u001b[37m/home/robert/.rvm/gems/ruby-2.2.3/gems/activerecord-4.2.4/lib/active_record/attributes.rb:98:in `columns_hash'\u001b[0m",
      "\u001b[37m/home/robert/.rvm/gems/ruby-2.2.3/gems/activerecord-4.2.4/lib/active_record/inheritance.rb:205:in `subclass_from_attributes?'\u001b[0m",
      "\u001b[37m/home/robert/.rvm/gems/ruby-2.2.3/gems/activerecord-4.2.4/lib/active_record/inheritance.rb:54:in `new'\u001b[0m",
      "\u001b[37m<main>:1:in `<main>'\u001b[0m",
      "\u001b[37m/home/robert/.rvm/gems/ruby-2.2.3/gems/iruby-0.2.7/lib/iruby/backend.rb:44:in `eval'\u001b[0m",
      "\u001b[37m/home/robert/.rvm/gems/ruby-2.2.3/gems/iruby-0.2.7/lib/iruby/backend.rb:44:in `eval'\u001b[0m",
      "\u001b[37m/home/robert/.rvm/gems/ruby-2.2.3/gems/iruby-0.2.7/lib/iruby/backend.rb:12:in `eval'\u001b[0m",
      "\u001b[37m/home/robert/.rvm/gems/ruby-2.2.3/gems/iruby-0.2.7/lib/iruby/kernel.rb:87:in `execute_request'\u001b[0m",
      "\u001b[37m/home/robert/.rvm/gems/ruby-2.2.3/gems/iruby-0.2.7/lib/iruby/kernel.rb:47:in `dispatch'\u001b[0m",
      "\u001b[37m/home/robert/.rvm/gems/ruby-2.2.3/gems/iruby-0.2.7/lib/iruby/kernel.rb:37:in `run'\u001b[0m",
      "\u001b[37m/home/robert/.rvm/gems/ruby-2.2.3/gems/iruby-0.2.7/lib/iruby/command.rb:70:in `run_kernel'\u001b[0m",
      "\u001b[37m/home/robert/.rvm/gems/ruby-2.2.3/gems/iruby-0.2.7/lib/iruby/command.rb:34:in `run'\u001b[0m",
      "\u001b[37m/home/robert/.rvm/gems/ruby-2.2.3/gems/iruby-0.2.7/bin/iruby:5:in `<top (required)>'\u001b[0m",
      "\u001b[37m/home/robert/.rvm/gems/ruby-2.2.3/bin/iruby:23:in `load'\u001b[0m",
      "\u001b[37m/home/robert/.rvm/gems/ruby-2.2.3/bin/iruby:23:in `<main>'\u001b[0m",
      "\u001b[37m/home/robert/.rvm/gems/ruby-2.2.3/bin/ruby_executable_hooks:15:in `eval'\u001b[0m",
      "\u001b[37m/home/robert/.rvm/gems/ruby-2.2.3/bin/ruby_executable_hooks:15:in `<main>'\u001b[0m"
     ]
    }
   ],
   "source": [
    "author = Author.new(name: \"Adam\", surname: \"Mickiewicz\")\n",
    "author.save"
   ]
  },
  {
   "cell_type": "markdown",
   "metadata": {},
   "source": [
    "Innymi słowy tworzymy nowy obiekt Rubiego i wywołujemy na nim metodę `save`. To że faktycznie został on dodany do bazy danych \n",
    "możemy zweryfikować wyszukując pierwszy obiekt w bazie:\n",
    "```ruby\n",
    "author = Author.first\n",
    "puts author.name\n",
    "puts author.surname\n",
    "```"
   ]
  },
  {
   "cell_type": "code",
   "execution_count": 6,
   "metadata": {
    "collapsed": false
   },
   "outputs": [
    {
     "ename": "NameError",
     "evalue": "uninitialized constant Author",
     "output_type": "error",
     "traceback": [
      "\u001b[31mNameError\u001b[0m: uninitialized constant Author",
      "\u001b[37m<main>:1:in `<main>'\u001b[0m",
      "\u001b[37m/home/robert/.rvm/gems/ruby-2.2.3/gems/iruby-0.2.7/lib/iruby/backend.rb:44:in `eval'\u001b[0m",
      "\u001b[37m/home/robert/.rvm/gems/ruby-2.2.3/gems/iruby-0.2.7/lib/iruby/backend.rb:44:in `eval'\u001b[0m",
      "\u001b[37m/home/robert/.rvm/gems/ruby-2.2.3/gems/iruby-0.2.7/lib/iruby/backend.rb:12:in `eval'\u001b[0m",
      "\u001b[37m/home/robert/.rvm/gems/ruby-2.2.3/gems/iruby-0.2.7/lib/iruby/kernel.rb:87:in `execute_request'\u001b[0m",
      "\u001b[37m/home/robert/.rvm/gems/ruby-2.2.3/gems/iruby-0.2.7/lib/iruby/kernel.rb:47:in `dispatch'\u001b[0m",
      "\u001b[37m/home/robert/.rvm/gems/ruby-2.2.3/gems/iruby-0.2.7/lib/iruby/kernel.rb:37:in `run'\u001b[0m",
      "\u001b[37m/home/robert/.rvm/gems/ruby-2.2.3/gems/iruby-0.2.7/lib/iruby/command.rb:70:in `run_kernel'\u001b[0m",
      "\u001b[37m/home/robert/.rvm/gems/ruby-2.2.3/gems/iruby-0.2.7/lib/iruby/command.rb:34:in `run'\u001b[0m",
      "\u001b[37m/home/robert/.rvm/gems/ruby-2.2.3/gems/iruby-0.2.7/bin/iruby:5:in `<top (required)>'\u001b[0m",
      "\u001b[37m/home/robert/.rvm/gems/ruby-2.2.3/bin/iruby:23:in `load'\u001b[0m",
      "\u001b[37m/home/robert/.rvm/gems/ruby-2.2.3/bin/iruby:23:in `<main>'\u001b[0m",
      "\u001b[37m/home/robert/.rvm/gems/ruby-2.2.3/bin/ruby_executable_hooks:15:in `eval'\u001b[0m",
      "\u001b[37m/home/robert/.rvm/gems/ruby-2.2.3/bin/ruby_executable_hooks:15:in `<main>'\u001b[0m"
     ]
    }
   ],
   "source": [
    "author = Author.first\n",
    "puts author.name\n",
    "puts author.surname"
   ]
  },
  {
   "cell_type": "markdown",
   "metadata": {},
   "source": [
    "### Zadanie 1"
   ]
  },
  {
   "cell_type": "markdown",
   "metadata": {},
   "source": [
    "Dodaj do bazy 3 autorów:\n",
    "* Juliusz Słowacki\n",
    "* Henryk Sienkiewicz\n",
    "* Eliza Orzeszkowa"
   ]
  },
  {
   "cell_type": "code",
   "execution_count": null,
   "metadata": {
    "collapsed": false
   },
   "outputs": [],
   "source": []
  },
  {
   "cell_type": "markdown",
   "metadata": {},
   "source": [
    "### Read"
   ]
  },
  {
   "cell_type": "markdown",
   "metadata": {},
   "source": [
    "Odczytywanie danych z bazy można realizować na wiele sposobów. Najprostszy sposób, to wyszukiwanie ich z wykorzystaniem \n",
    "klucza główego - `id`. Służy do tego metoda `find`:\n",
    "```ruby\n",
    "author = Author.find(1)\n",
    "puts author.surname\n",
    "author = Author.find(2)\n",
    "puts author.surname\n",
    "```"
   ]
  },
  {
   "cell_type": "code",
   "execution_count": 17,
   "metadata": {
    "collapsed": false
   },
   "outputs": [],
   "source": []
  },
  {
   "cell_type": "markdown",
   "metadata": {},
   "source": [
    "Wykorzystanie tej metody może jedak skutkować wyjątkiem, jeśli w bazie nie ma wiersza z danym kluczem:\n",
    "```ruby\n",
    "author = Author.find(10)\n",
    "```"
   ]
  },
  {
   "cell_type": "code",
   "execution_count": null,
   "metadata": {
    "collapsed": false
   },
   "outputs": [],
   "source": []
  },
  {
   "cell_type": "markdown",
   "metadata": {},
   "source": [
    "Możemy zabezpieczyć się przed tą sytuacją, korzystają z innego wywołania `find_by_id`\n",
    "```ruby\n",
    "author = Author.find_by_id(10)\n",
    "p author\n",
    "```"
   ]
  },
  {
   "cell_type": "code",
   "execution_count": null,
   "metadata": {
    "collapsed": false
   },
   "outputs": [],
   "source": []
  },
  {
   "cell_type": "markdown",
   "metadata": {},
   "source": [
    "### Zadanie 2"
   ]
  },
  {
   "cell_type": "markdown",
   "metadata": {},
   "source": [
    "Próba odczytania pól takiego obiektu, również skończy się wyjątkiem. Co należy zrobić, żeby wypisać imię i nazwisko autora\n",
    "wyłącznie wtedy gdy autor istnieje w bazie? Zaimplementuj metodę `print_author`, która radzi sobie z tym problemem."
   ]
  },
  {
   "cell_type": "code",
   "execution_count": 19,
   "metadata": {
    "collapsed": false
   },
   "outputs": [],
   "source": [
    "def print_author(id)\n",
    "end\n",
    "\n",
    "# te linijki mają pozostać niezmienione\n",
    "print_author(1)\n",
    "print_author(10)"
   ]
  },
  {
   "cell_type": "markdown",
   "metadata": {},
   "source": [
    "### Update"
   ]
  },
  {
   "cell_type": "markdown",
   "metadata": {},
   "source": [
    "Modyfikowanie danych realizowane może być na kilka sposobów. W pierwszej kolejności możemy zmodyfikować atrybut obiektu i \n",
    "następnie zapisać go do bazy\n",
    "```ruby\n",
    "author = Author.find(1)\n",
    "puts author.surname\n",
    "author.surname = \"Mickiewiczowski\"\n",
    "author.save\n",
    "\n",
    "other_author = Author.find(1)\n",
    "puts other_author.surname\n",
    "```"
   ]
  },
  {
   "cell_type": "code",
   "execution_count": 21,
   "metadata": {
    "collapsed": false
   },
   "outputs": [],
   "source": []
  },
  {
   "cell_type": "markdown",
   "metadata": {},
   "source": [
    "Można również skorzystać z metody `update_attributes`, która działa podobnie jak konstruktor, ale dane są od razu\n",
    "modyfikowane w bazie\n",
    "```ruby\n",
    "author = Author.find(1)\n",
    "author.update_attributes(name: \"Wojciech\")\n",
    "other_author = Author.find(1)\n",
    "puts other_author.name\n",
    "```"
   ]
  },
  {
   "cell_type": "markdown",
   "metadata": {},
   "source": [
    "### Zadanie 3"
   ]
  },
  {
   "cell_type": "markdown",
   "metadata": {},
   "source": [
    "Zmodyfikuj wszystkich autorów, tak by ich daty urodzenia i śmierci były poprawne. Popraw również imię i nazwisko Adama Mickiewicza.\n",
    "Aby wprowadzić datę skorzystaj z metody `Date.parse`."
   ]
  },
  {
   "cell_type": "code",
   "execution_count": 34,
   "metadata": {
    "collapsed": false
   },
   "outputs": [],
   "source": []
  },
  {
   "cell_type": "markdown",
   "metadata": {},
   "source": [
    "### Delete"
   ]
  },
  {
   "cell_type": "markdown",
   "metadata": {},
   "source": [
    "Usuwanie danych realizowane jest za pomocą wywołania `destroy`:\n",
    "```ruby\n",
    "author = Author.find(1)\n",
    "author.destroy\n",
    "```"
   ]
  },
  {
   "cell_type": "code",
   "execution_count": null,
   "metadata": {
    "collapsed": false
   },
   "outputs": [],
   "source": []
  },
  {
   "cell_type": "markdown",
   "metadata": {},
   "source": [
    "### Zadanie 4"
   ]
  },
  {
   "cell_type": "markdown",
   "metadata": {},
   "source": [
    "Ponieważ właśnie usunąłeś/ęłaś Adama Mickiewicza, ponownie utwórz odpowiadający mu rekord."
   ]
  },
  {
   "cell_type": "code",
   "execution_count": null,
   "metadata": {
    "collapsed": false
   },
   "outputs": [],
   "source": []
  },
  {
   "cell_type": "markdown",
   "metadata": {},
   "source": [
    "## Język zapytań"
   ]
  },
  {
   "cell_type": "markdown",
   "metadata": {},
   "source": [
    "## `find`, `first`, `last`, `all`"
   ]
  },
  {
   "cell_type": "markdown",
   "metadata": {},
   "source": [
    "Metoda `find` pozwala nie tylko pobierać pojedynczy obiekt z bazy, ale również kilka obiektów na raz:\n",
    "```ruby\n",
    "authors = Author.find(2,3,4)\n",
    "authors.each do |author|\n",
    "  puts \"#{author.name} #{author.surname}\"\n",
    "end\n",
    "```"
   ]
  },
  {
   "cell_type": "code",
   "execution_count": null,
   "metadata": {
    "collapsed": false
   },
   "outputs": [],
   "source": []
  },
  {
   "cell_type": "markdown",
   "metadata": {},
   "source": [
    "Metody `first` oraz `last` zwracają odpowiednio *pierwszy* i *ostatni* rekord w bazie. W domyślnej konfiguracji kolejność\n",
    "ta będzie odpowiadała czasowi ich utworzenia.\n",
    "```ruby\n",
    "puts Author.first.surname\n",
    "puts Author.last.surname\n",
    "```"
   ]
  },
  {
   "cell_type": "code",
   "execution_count": null,
   "metadata": {
    "collapsed": false
   },
   "outputs": [],
   "source": []
  },
  {
   "cell_type": "markdown",
   "metadata": {},
   "source": [
    "Natomiast metoda `all` zwraca kolekcję obejmującą wszystkie rekordy w bazie danych:\n",
    "```ruby\n",
    "authors = Author.all\n",
    "authors.each do |author|\n",
    "  puts \"#{author.name} #{author.surname}\"\n",
    "end\n",
    "```"
   ]
  },
  {
   "cell_type": "code",
   "execution_count": null,
   "metadata": {
    "collapsed": false
   },
   "outputs": [],
   "source": []
  },
  {
   "cell_type": "markdown",
   "metadata": {},
   "source": [
    "### Zadanie 5"
   ]
  },
  {
   "cell_type": "markdown",
   "metadata": {},
   "source": [
    "Wypisz wszystkich autorów znajdujących się w bazie wraz z ich datami urodzenia i śmierci. Postaraj się sformatować daty,\n",
    "tak by obejmowały tylko dzień, miesiąc i rok - w tej kolejności. Służy do tego metoda `strftime`."
   ]
  },
  {
   "cell_type": "code",
   "execution_count": 39,
   "metadata": {
    "collapsed": false
   },
   "outputs": [],
   "source": []
  },
  {
   "cell_type": "markdown",
   "metadata": {},
   "source": [
    "### `find_by`"
   ]
  },
  {
   "cell_type": "markdown",
   "metadata": {},
   "source": [
    "AR definiuje również metody pozwalające na wyszukiwanie rekordów na podstawie wartości atrybutów. Najprostsza z nich to `find_by`. Zwraca rekord, które posiada wartość określoną w zapytaniu:\n",
    "```ruby\n",
    "author = Author.find_by_name(\"Adam\")\n",
    "puts author.surname\n",
    "```"
   ]
  },
  {
   "cell_type": "code",
   "execution_count": 41,
   "metadata": {
    "collapsed": false
   },
   "outputs": [],
   "source": []
  },
  {
   "cell_type": "markdown",
   "metadata": {},
   "source": [
    "### `where`"
   ]
  },
  {
   "cell_type": "markdown",
   "metadata": {},
   "source": [
    "Metoda `where` odpowiada klauzuli `where` z języka SQL. Podstawowa różnica polega na tym, że wartości poszczególnych pól określamy w postaci par klucz-wartość. Jeśli chcemy uzyskać pojedynczy wynik dodajemy metodę `first` lub `last`:\n",
    "```ruby\n",
    "author = Author.where(name: \"Eliza\").first\n",
    "puts author.surname\n",
    "```"
   ]
  },
  {
   "cell_type": "code",
   "execution_count": null,
   "metadata": {
    "collapsed": false
   },
   "outputs": [],
   "source": []
  },
  {
   "cell_type": "markdown",
   "metadata": {},
   "source": [
    "Metoda ta ma jednak znacznie większe możliwości - można np. podawać zakresy wartości, jako zakresy Rubiego:\n",
    "```ruby\n",
    "authors = Author.where(born: (Date.parse(\"1780-1-1\")..Date.parse(\"1800-12-31\"))\n",
    "authors.each do |author|\n",
    "  puts \"#{author.name} #{author.surname} #{author.born.strftime(\"%d-%m-%Y\")}\"\n",
    "end\n",
    "```"
   ]
  },
  {
   "cell_type": "code",
   "execution_count": 45,
   "metadata": {
    "collapsed": false
   },
   "outputs": [],
   "source": []
  },
  {
   "cell_type": "markdown",
   "metadata": {},
   "source": [
    "Metodę `where` można wywoływać wielokrotnie. Wtedy wyniki są łączone za pomocą operatora koniunkcji. Jeśli chcemy\n",
    "użyć innego operatora (np. `OR` lub `LIKE`), konieczne jest użycie nieco innej składni:\n",
    "```ruby\n",
    "authors = Author.where(\"name LIKE 'A%'\")\n",
    "authors.each do |author|\n",
    "  puts author.surname\n",
    "end\n",
    "```  "
   ]
  },
  {
   "cell_type": "code",
   "execution_count": 47,
   "metadata": {
    "collapsed": false
   },
   "outputs": [],
   "source": []
  },
  {
   "cell_type": "markdown",
   "metadata": {},
   "source": [
    "Jeśli dane w napisie przekazanym do metody `where` pochodzą od użytkownika aplikacji, to narażamy się na atak SQL-injection.\n",
    "Aby go unikąć, wartość podaną przez użytkownika przekazujemy jako osobny argument, np.\n",
    "```ruby\n",
    "name = \"Adam\"\n",
    "authors = Author.where(\"name = ?\",name)\n",
    "authors.each do |author|\n",
    "  puts author.surname\n",
    "end\n",
    "```"
   ]
  },
  {
   "cell_type": "code",
   "execution_count": null,
   "metadata": {
    "collapsed": false
   },
   "outputs": [],
   "source": []
  },
  {
   "cell_type": "markdown",
   "metadata": {},
   "source": [
    "W tej sytuacji AR sam zadba o odpowiednią konwersję znaków \"niebezpiecznych\"."
   ]
  },
  {
   "cell_type": "markdown",
   "metadata": {},
   "source": [
    "### Zadanie 6"
   ]
  },
  {
   "cell_type": "markdown",
   "metadata": {},
   "source": [
    "Znajdź i wypisz wszystkich autorów, którzy zmarli między rokiem 1800 a 1900."
   ]
  },
  {
   "cell_type": "code",
   "execution_count": null,
   "metadata": {
    "collapsed": false
   },
   "outputs": [],
   "source": []
  },
  {
   "cell_type": "markdown",
   "metadata": {},
   "source": [
    "### `order`"
   ]
  },
  {
   "cell_type": "markdown",
   "metadata": {},
   "source": [
    "Do określania kolejności wyników służy metoda `order`. Działa ona analogicznie do klauzuli `ORDER` w języku SQL.\n",
    "```ruby\n",
    "authors = Author.order(:born)\n",
    "authors.each do |author|\n",
    "  puts \"#{author.name} #{author.surname} #{author.born}\"\n",
    "end\n",
    "```"
   ]
  },
  {
   "cell_type": "code",
   "execution_count": 51,
   "metadata": {
    "collapsed": false
   },
   "outputs": [],
   "source": []
  },
  {
   "cell_type": "markdown",
   "metadata": {},
   "source": [
    "Metoda ta często jest łączona z wywołaniami `first` i `last`\n",
    "```ruby\n",
    "author = Author.order(:born).last\n",
    "puts \"#{author.name} #{author.surname} #{author.born}\"\n",
    "```"
   ]
  },
  {
   "cell_type": "markdown",
   "metadata": {},
   "source": [
    "### Zadanie 7"
   ]
  },
  {
   "cell_type": "markdown",
   "metadata": {},
   "source": [
    "Znajdź autora, który zmarł jako ostatni."
   ]
  },
  {
   "cell_type": "code",
   "execution_count": null,
   "metadata": {
    "collapsed": false
   },
   "outputs": [],
   "source": []
  },
  {
   "cell_type": "markdown",
   "metadata": {},
   "source": [
    "### `limit` i `offset`"
   ]
  },
  {
   "cell_type": "markdown",
   "metadata": {},
   "source": [
    "Metody `limit` i `offset` działają analogicznie jak ich odpowiedniki w SQL:\n",
    "```ruby\n",
    "Author.limit(2).each do |author|\n",
    "  puts \"#{author.name} #{author.surname} #{author.born}\"\n",
    "end\n",
    "```"
   ]
  },
  {
   "cell_type": "code",
   "execution_count": null,
   "metadata": {
    "collapsed": false
   },
   "outputs": [],
   "source": []
  },
  {
   "cell_type": "markdown",
   "metadata": {},
   "source": [
    "```ruby\n",
    "Author.offset(2).each do |author|\n",
    "  puts \"#{author.name} #{author.surname} #{author.born}\"\n",
    "end\n",
    "```"
   ]
  },
  {
   "cell_type": "code",
   "execution_count": 55,
   "metadata": {
    "collapsed": false
   },
   "outputs": [],
   "source": []
  },
  {
   "cell_type": "markdown",
   "metadata": {},
   "source": [
    "Warto jednak pamiętać, żeby stosując je określić pożądek rekordów."
   ]
  },
  {
   "cell_type": "markdown",
   "metadata": {},
   "source": [
    "### Zadanie 8"
   ]
  },
  {
   "cell_type": "markdown",
   "metadata": {},
   "source": [
    "Znajdź i wypisz 3 autorów, którzy zmarli jako pierwsi."
   ]
  },
  {
   "cell_type": "code",
   "execution_count": null,
   "metadata": {
    "collapsed": false
   },
   "outputs": [],
   "source": []
  }
 ],
 "metadata": {
  "kernelspec": {
   "display_name": "Ruby 2.2.3",
   "language": "ruby",
   "name": "ruby"
  },
  "language_info": {
   "file_extension": "rb",
   "mimetype": "application/x-ruby",
   "name": "ruby",
   "version": "2.2.3"
  }
 },
 "nbformat": 4,
 "nbformat_minor": 0
}
