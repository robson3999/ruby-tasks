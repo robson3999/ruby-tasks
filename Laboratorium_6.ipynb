{
<<<<<<< HEAD
 "cells": [
=======
 "metadata": {
  "language": "ruby",
  "name": "",
  "signature": "sha256:125695f8e339161a45737b956c76c5109d3da98c8ad8d134fb5c26b8f682ed2e"
 },
 "nbformat": 3,
 "nbformat_minor": 0,
 "worksheets": [
>>>>>>> 5db8c8abe79d0d363d2e0c098619709baa781844
  {
   "cell_type": "markdown",
   "metadata": {},
   "source": [
    "# Pętle"
   ]
  },
  {
   "cell_type": "markdown",
   "metadata": {},
   "source": [
    "## loop"
   ]
  },
  {
   "cell_type": "markdown",
   "metadata": {},
   "source": [
    "`loop` to pętla nieskończona. Należy jej używać ostrożnie:\n",
    "```ruby\n",
    "loop do\n",
    "  puts \"Pętla nieskończona\"\n",
    "  sleep(1)\n",
    "end\n",
    "```\n",
    "(Możesz ją przerwać klikając na czarny kwadrat powyżej.)"
   ]
  },
  {
   "cell_type": "code",
   "execution_count": 2,
   "metadata": {
    "collapsed": false
   },
   "outputs": [],
   "source": []
  },
  {
   "cell_type": "markdown",
   "metadata": {},
   "source": [
    "Zwykle jest wykorzystywana w połączeniu z poleceniem `break`, które powoduje jej przerwanie:\n",
    "```ruby\n",
    "loop_count = 0\n",
    "loop do\n",
    "  loop_count += 1\n",
    "  puts \"Pętla skończona #{loop_count}\"\n",
    "  break if loop_count >= 10\n",
    "end\n",
    "```"
   ]
  },
  {
   "cell_type": "code",
   "execution_count": 1,
   "metadata": {
    "collapsed": false
   },
   "outputs": [
    {
     "name": "stdout",
     "output_type": "stream",
     "text": [
      "Pętla skończona 1\n",
      "Pętla skończona 2\n",
      "Pętla skończona 3\n",
      "Pętla skończona 4\n",
      "Pętla skończona 5\n",
      "Pętla skończona 6\n",
      "Pętla skończona 7\n",
      "Pętla skończona 8\n",
      "Pętla skończona 9\n",
      "Pętla skończona 10\n"
     ]
    }
   ],
   "source": [
    "loop_count = 0\n",
    "loop do\n",
    "  loop_count += 1\n",
    "  puts \"Pętla skończona #{loop_count}\"\n",
    "  break if loop_count >= 10\n",
    "end"
   ]
  },
  {
   "cell_type": "markdown",
   "metadata": {},
   "source": [
    "## while, until"
   ]
  },
  {
   "cell_type": "markdown",
   "metadata": {},
   "source": [
    "Jeśli jednak isnieje tylko jeden warunek opuszczenia pętli, zwykle korzystamy z pętli `while` lub `until`.\n",
    "Pierwsza z nich wykonuje się, tak długo jak warunek jest spełniony, np.\n",
    "```ruby\n",
    "counter = 1\n",
    "while(counter < 10) do\n",
    "  puts \"Pętla until #{counter}\"\n",
    "  counter += 1\n",
    "end\n",
    "```"
   ]
  },
  {
   "cell_type": "code",
   "execution_count": 2,
   "metadata": {
    "collapsed": false
   },
   "outputs": [
    {
     "name": "stdout",
     "output_type": "stream",
     "text": [
      "Pętla until 1\n",
      "Pętla until 2\n",
      "Pętla until 3\n",
      "Pętla until 4\n",
      "Pętla until 5\n",
      "Pętla until 6\n",
      "Pętla until 7\n",
      "Pętla until 8\n",
      "Pętla until 9\n"
     ]
    }
   ],
   "source": [
    "counter = 1\n",
    "while(counter < 10) do\n",
    "  puts \"Pętla until #{counter}\"\n",
    "  counter += 1\n",
    "end"
   ]
  },
  {
   "cell_type": "markdown",
   "metadata": {},
   "source": [
    "Pętla `until` wykonuje się zaś do momentu, w którym warunek zostanie spełniony:\n",
    "```ruby\n",
    "counter = 1\n",
    "until(counter > 10) do\n",
    "  puts \"Pętla until #{counter}\"\n",
    "  counter += 1\n",
    "end\n",
    "```"
   ]
  },
  {
   "cell_type": "code",
   "execution_count": 3,
   "metadata": {
    "collapsed": false
   },
   "outputs": [
    {
     "name": "stdout",
     "output_type": "stream",
     "text": [
      "Pętla until 1\n",
      "Pętla until 2\n",
      "Pętla until 3\n",
      "Pętla until 4\n",
      "Pętla until 5\n",
      "Pętla until 6\n",
      "Pętla until 7\n",
      "Pętla until 8\n",
      "Pętla until 9\n",
      "Pętla until 10\n"
     ]
    }
   ],
   "source": [
    "counter = 1\n",
    "until(counter > 10) do\n",
    "  puts \"Pętla until #{counter}\"\n",
    "  counter += 1\n",
    "end"
   ]
  },
  {
   "cell_type": "markdown",
   "metadata": {},
   "source": [
    "Można jej użyć, np. do wyświetlenia zawartości pliku:\n",
    "```ruby\n",
    "file = File.open(\"data/books.csv\")\n",
    "until(file.eof?) do\n",
    "  puts file.readline.chomp\n",
    "end\n",
    "```"
   ]
  },
  {
   "cell_type": "code",
   "execution_count": 4,
   "metadata": {
    "collapsed": false
   },
   "outputs": [
    {
     "name": "stdout",
     "output_type": "stream",
     "text": [
      "\"a\",\"b\"\n",
      "\"http://hu.dbpedia.org/resource/Orson_Scott_Card\",\"http://hu.dbpedia.org/resource/Végjáték_(regény)\"\n",
      "\"http://pl.dbpedia.org/resource/Andrzej_Sapkowski\",\"http://pl.dbpedia.org/resource/Pani_Jeziora_(powieść)\"\n",
      "\"http://pl.dbpedia.org/resource/Jack_London\",\"http://pl.dbpedia.org/resource/Bellew_Zawierucha\"\n",
      "\"http://pl.dbpedia.org/resource/Henning_Mankell\",\"http://pl.dbpedia.org/resource/Fałszywy_trop_(powieść)\"\n",
      "\"http://pl.dbpedia.org/resource/Stanisław_Lem\",\"http://pl.dbpedia.org/resource/Bajki_robotów\"\n",
      "\"http://pl.dbpedia.org/resource/Antoni_Gołubiew\",\"http://pl.dbpedia.org/resource/Bolesław_Chrobry_(powieść)\"\n",
      "\"http://pl.dbpedia.org/resource/Mikołaj_Kopernik\",\"http://pl.dbpedia.org/resource/De_revolutionibus_orbium_coelestium\"\n",
      "\"http://pl.dbpedia.org/resource/Maria_Franciszka_Kozłowska\",\"http://pl.dbpedia.org/resource/Dzieło_Wielkiego_Miłosierdzia\"\n",
      "\"http://pl.dbpedia.org/resource/George_Orwell\",\"http://pl.dbpedia.org/resource/Folwark_zwierzęcy\"\n",
      "\"http://pl.dbpedia.org/resource/William_Szekspir\",\"http://pl.dbpedia.org/resource/Hamlet\"\n",
      "\"http://pl.dbpedia.org/resource/J._K._Rowling\",\"http://pl.dbpedia.org/resource/Harry_Potter\"\n",
      "\"http://pl.dbpedia.org/resource/John_Ronald_Reuel_Tolkien\",\"http://pl.dbpedia.org/resource/Hobbit,_czyli_tam_i_z_powrotem\"\n",
      "\"http://pl.dbpedia.org/resource/Aleksander_Dumas_(ojciec)\",\"http://pl.dbpedia.org/resource/Hrabia_Monte_Christo\"\n",
      "\"http://pl.dbpedia.org/resource/Tadeusz_Dołęga-Mostowicz\",\"http://pl.dbpedia.org/resource/Kariera_Nikodema_Dyzmy\"\n",
      "\"http://pl.dbpedia.org/resource/Henryk_Sienkiewicz\",\"http://pl.dbpedia.org/resource/Krzyżacy_(powieść)\"\n",
      "\"http://pl.dbpedia.org/resource/Vladimir_Nabokov\",\"http://pl.dbpedia.org/resource/Lolita\"\n",
      "\"http://pl.dbpedia.org/resource/Adolf_Hitler\",\"http://pl.dbpedia.org/resource/Mein_Kampf\"\n",
      "\"http://pl.dbpedia.org/resource/Eliza_Orzeszkowa\",\"http://pl.dbpedia.org/resource/Nad_Niemnem\"\n",
      "\"http://pl.dbpedia.org/resource/Christopher_Tolkien\",\"http://pl.dbpedia.org/resource/Niedokończone_opowieści\"\n",
      "\"http://pl.dbpedia.org/resource/John_Ronald_Reuel_Tolkien\",\"http://pl.dbpedia.org/resource/Niedokończone_opowieści\"\n",
      "\"http://pl.dbpedia.org/resource/Benedykt_Chmielowski\",\"http://pl.dbpedia.org/resource/Nowe_Ateny\"\n",
      "\"http://pl.dbpedia.org/resource/Aldous_Huxley\",\"http://pl.dbpedia.org/resource/Nowy_wspaniały_świat\"\n",
      "\"http://pl.dbpedia.org/resource/Henryk_Sienkiewicz\",\"http://pl.dbpedia.org/resource/Ogniem_i_mieczem\"\n",
      "\"http://pl.dbpedia.org/resource/Honoré_de_Balzac\",\"http://pl.dbpedia.org/resource/Ojciec_Goriot\"\n",
      "\"http://pl.dbpedia.org/resource/Franz_Kafka\",\"http://pl.dbpedia.org/resource/Proces_(powieść)\"\n",
      "\"http://pl.dbpedia.org/resource/Jan_Kochanowski\",\"http://pl.dbpedia.org/resource/Psałterz_Dawidów\"\n",
      "\"http://pl.dbpedia.org/resource/Henryk_Sienkiewicz\",\"http://pl.dbpedia.org/resource/Quo_vadis\"\n",
      "\"http://pl.dbpedia.org/resource/William_Szekspir\",\"http://pl.dbpedia.org/resource/Romeo_i_Julia\"\n",
      "\"http://pl.dbpedia.org/resource/John_Ronald_Reuel_Tolkien\",\"http://pl.dbpedia.org/resource/Silmarillion\"\n",
      "\"http://pl.dbpedia.org/resource/Stanisław_Lem\",\"http://pl.dbpedia.org/resource/Solaris_(powieść)\"\n",
      "\"http://pl.dbpedia.org/resource/John_Ronald_Reuel_Tolkien\",\"http://pl.dbpedia.org/resource/Władca_Pierścieni\"\n",
      "\"http://pl.dbpedia.org/resource/Howard_Phillips_Lovecraft\",\"http://pl.dbpedia.org/resource/Zew_Cthulhu_(opowiadanie)\"\n",
      "\"http://pl.dbpedia.org/resource/Karol_Olgierd_Borchardt\",\"http://pl.dbpedia.org/resource/Znaczy_Kapitan\"\n",
      "\"http://pl.dbpedia.org/resource/Lew_Tołstoj\",\"http://pl.dbpedia.org/resource/Anna_Karenina\"\n",
      "\"http://pl.dbpedia.org/resource/Boris_Akunin\",\"http://pl.dbpedia.org/resource/Azazel_(powieść)\"\n",
      "\"http://pl.dbpedia.org/resource/Stanisław_Lem\",\"http://pl.dbpedia.org/resource/Bezsenność_(zbiór_opowiadań)\"\n",
      "\"http://pl.dbpedia.org/resource/Janusz_Zajdel\",\"http://pl.dbpedia.org/resource/Cała_prawda_o_planecie_Ksi\"\n",
      "\"http://pl.dbpedia.org/resource/Boris_Akunin\",\"http://pl.dbpedia.org/resource/Dekorator\"\n",
      "\"http://pl.dbpedia.org/resource/Boris_Akunin\",\"http://pl.dbpedia.org/resource/Diamentowa_karoca\"\n",
      "\"http://pl.dbpedia.org/resource/Jan_Paweł_II\",\"http://pl.dbpedia.org/resource/Dives_in_misericordia\"\n",
      "\"http://pl.dbpedia.org/resource/George_Orwell\",\"http://pl.dbpedia.org/resource/Droga_na_molo_w_Wigan\"\n",
      "\"http://pl.dbpedia.org/resource/Isaac_Asimov\",\"http://pl.dbpedia.org/resource/Druga_Fundacja\"\n",
      "\"http://pl.dbpedia.org/resource/Ilja_Ilf\",\"http://pl.dbpedia.org/resource/Dwanaście_krzeseł\"\n",
      "\"http://pl.dbpedia.org/resource/Jewgienij_Pietrow_(pisarz)\",\"http://pl.dbpedia.org/resource/Dwanaście_krzeseł\"\n",
      "\"http://pl.dbpedia.org/resource/Isaac_Asimov\",\"http://pl.dbpedia.org/resource/Fundacja_(powieść)\"\n",
      "\"http://pl.dbpedia.org/resource/Isaac_Asimov\",\"http://pl.dbpedia.org/resource/Fundacja_i_Imperium\"\n",
      "\"http://pl.dbpedia.org/resource/Boris_Akunin\",\"http://pl.dbpedia.org/resource/Gambit_turecki\"\n",
      "\"http://pl.dbpedia.org/resource/Stanisław_Lem\",\"http://pl.dbpedia.org/resource/Głos_Pana\"\n",
      "\"http://pl.dbpedia.org/resource/Gabriela_Zapolska\",\"http://pl.dbpedia.org/resource/Ich_czworo\"\n",
      "\"http://pl.dbpedia.org/resource/Stanisław_Lem\",\"http://pl.dbpedia.org/resource/Inwazja_z_Aldebarana_(zbiór_opowiadań)\"\n",
      "\"http://pl.dbpedia.org/resource/Jeffery_Deaver\",\"http://pl.dbpedia.org/resource/Kamienna_małpa\"\n",
      "\"http://pl.dbpedia.org/resource/Stanisław_Lem\",\"http://pl.dbpedia.org/resource/Katar_(powieść)\"\n",
      "\"http://pl.dbpedia.org/resource/Boris_Akunin\",\"http://pl.dbpedia.org/resource/Kochanek_Śmierci\"\n",
      "\"http://pl.dbpedia.org/resource/Boris_Akunin\",\"http://pl.dbpedia.org/resource/Kochanka_Śmierci\"\n",
      "\"http://pl.dbpedia.org/resource/Boris_Akunin\",\"http://pl.dbpedia.org/resource/Koronacja_(powieść)\"\n",
      "\"http://pl.dbpedia.org/resource/Terry_Pratchett\",\"http://pl.dbpedia.org/resource/Kot_w_stanie_czystym\"\n",
      "\"http://pl.dbpedia.org/resource/Clive_Staples_Lewis\",\"http://pl.dbpedia.org/resource/Koń_i_jego_chłopiec\"\n",
      "\"http://pl.dbpedia.org/resource/Stanisław_Lem\",\"http://pl.dbpedia.org/resource/Księga_robotów\"\n",
      "\"http://pl.dbpedia.org/resource/Adam_Mickiewicz\",\"http://pl.dbpedia.org/resource/Księgi_narodu_polskiego_i_pielgrzymstwa_polskiego\"\n",
      "\"http://pl.dbpedia.org/resource/Andrzej_Pilipiuk\",\"http://pl.dbpedia.org/resource/Kuzynki\"\n",
      "\"http://pl.dbpedia.org/resource/Ursula_K._Le_Guin\",\"http://pl.dbpedia.org/resource/Lewa_ręka_ciemności\"\n",
      "\"http://pl.dbpedia.org/resource/Boris_Akunin\",\"http://pl.dbpedia.org/resource/Lewiatan_(powieść)\"\n",
      "\"http://pl.dbpedia.org/resource/Jeffery_Deaver\",\"http://pl.dbpedia.org/resource/Mag_(powieść_J._Deavera)\"\n",
      "\"http://pl.dbpedia.org/resource/Stanisław_Lem\",\"http://pl.dbpedia.org/resource/Maska_(zbiór_dzieł)\"\n",
      "\"http://pl.dbpedia.org/resource/Stanisław_Lem\",\"http://pl.dbpedia.org/resource/Niezwyciężony_i_inne_opowiadania\"\n",
      "\"http://pl.dbpedia.org/resource/Stanisław_Lem\",\"http://pl.dbpedia.org/resource/Noc_księżycowa\"\n",
      "\"http://pl.dbpedia.org/resource/Iwan_Turgieniew\",\"http://pl.dbpedia.org/resource/Ojcowie_i_dzieci\"\n",
      "\"http://pl.dbpedia.org/resource/Stanisław_Lem\",\"http://pl.dbpedia.org/resource/Pamiętnik_znaleziony_w_wannie\"\n",
      "\"http://pl.dbpedia.org/resource/George_R._R._Martin\",\"http://pl.dbpedia.org/resource/Pieśń_Lodu_i_Ognia\"\n",
      "\"http://pl.dbpedia.org/resource/Ryszard_Kapuściński\",\"http://pl.dbpedia.org/resource/Podróże_z_Herodotem\"\n",
      "\"http://pl.dbpedia.org/resource/Stanisław_Lem\",\"http://pl.dbpedia.org/resource/Polowanie_(zbiór_opowiadań)\"\n",
      "\"http://pl.dbpedia.org/resource/Stanisław_Lem\",\"http://pl.dbpedia.org/resource/Powtórka_(zbiór_dzieł)\"\n",
      "\"http://pl.dbpedia.org/resource/Stanisław_Lem\",\"http://pl.dbpedia.org/resource/Pożytek_ze_smoka\"\n",
      "\"http://pl.dbpedia.org/resource/Isaac_Asimov\",\"http://pl.dbpedia.org/resource/Preludium_Fundacji\"\n",
      "\"http://pl.dbpedia.org/resource/Boris_Akunin\",\"http://pl.dbpedia.org/resource/Radca_stanu_(powieść)\"\n",
      "\"http://pl.dbpedia.org/resource/Stanisław_Lem\",\"http://pl.dbpedia.org/resource/Rasa_drapieżców._Teksty_ostatnie\"\n",
      "\"http://pl.dbpedia.org/resource/Lucy_Maud_Montgomery\",\"http://pl.dbpedia.org/resource/Rilla_ze_Złotego_Brzegu\"\n",
      "\"http://pl.dbpedia.org/resource/William_Szekspir\",\"http://pl.dbpedia.org/resource/Sen_nocy_letniej\"\n",
      "\"http://pl.dbpedia.org/resource/Stanisław_Lem\",\"http://pl.dbpedia.org/resource/Sezam_i_inne_opowiadania\"\n",
      "\"http://pl.dbpedia.org/resource/Jan_Paweł_II\",\"http://pl.dbpedia.org/resource/Slavorum_apostoli\"\n",
      "\"http://pl.dbpedia.org/resource/Stanisław_Lem\",\"http://pl.dbpedia.org/resource/Summa_technologiae\"\n",
      "\"http://pl.dbpedia.org/resource/Dorota_Terakowska\",\"http://pl.dbpedia.org/resource/Tam_gdzie_spadają_anioły\"\n",
      "\"http://pl.dbpedia.org/resource/Alfred_Szklarski\",\"http://pl.dbpedia.org/resource/Tomek_u_źródeł_Amazonki\"\n",
      "\"http://pl.dbpedia.org/resource/Alfred_Szklarski\",\"http://pl.dbpedia.org/resource/Tomek_w_Gran_Chaco\"\n",
      "\"http://pl.dbpedia.org/resource/Alfred_Szklarski\",\"http://pl.dbpedia.org/resource/Tomek_w_grobowcach_faraonów\"\n",
      "\"http://pl.dbpedia.org/resource/Adam_Zelga\",\"http://pl.dbpedia.org/resource/Tomek_w_grobowcach_faraonów\"\n",
      "\"http://pl.dbpedia.org/resource/Jan_Paweł_II\",\"http://pl.dbpedia.org/resource/Ut_unum_sint\"\n",
      "\"http://pl.dbpedia.org/resource/Jan_Paweł_II\",\"http://pl.dbpedia.org/resource/Veritatis_splendor\"\n",
      "\"http://pl.dbpedia.org/resource/Rafał_A._Ziemkiewicz\",\"http://pl.dbpedia.org/resource/Walc_stulecia\"\n",
      "\"http://pl.dbpedia.org/resource/Boris_Akunin\",\"http://pl.dbpedia.org/resource/Walet_pikowy_(powieść)\"\n",
      "\"http://pl.dbpedia.org/resource/Anne_Rice\",\"http://pl.dbpedia.org/resource/Wampir_Lestat\"\n",
      "\"http://pl.dbpedia.org/resource/Stanisław_Lem\",\"http://pl.dbpedia.org/resource/Wizja_lokalna_(powieść)\"\n",
      "\"http://pl.dbpedia.org/resource/Lew_Tołstoj\",\"http://pl.dbpedia.org/resource/Wojna_i_pokój\"\n",
      "\"http://pl.dbpedia.org/resource/Boris_Akunin\",\"http://pl.dbpedia.org/resource/Śmierć_Achillesa\"\n",
      "\"http://pl.dbpedia.org/resource/Aleksander_Majkowski\",\"http://pl.dbpedia.org/resource/Życie_i_przygody_Remusa\"\n",
      "\"http://pl.dbpedia.org/resource/Ian_Fleming\",\"http://pl.dbpedia.org/resource/Casino_Royale_(powieść)\"\n",
      "\"http://pl.dbpedia.org/resource/Gene_Wolfe\",\"http://pl.dbpedia.org/resource/Cień_kata\"\n",
      "\"http://pl.dbpedia.org/resource/Ursula_K._Le_Guin\",\"http://pl.dbpedia.org/resource/Czarnoksiężnik_z_Archipelagu\"\n",
      "\"http://pl.dbpedia.org/resource/Paulo_Coelho\",\"http://pl.dbpedia.org/resource/Czarownica_z_Portobello\"\n",
      "\"http://pl.dbpedia.org/resource/Tom_Clancy\",\"http://pl.dbpedia.org/resource/Czas_patriotów_(powieść)\"\n"
     ]
    }
   ],
   "source": [
    "file = File.open(\"data/books.csv\")\n",
    "until(file.eof?) do\n",
    "  puts file.readline.chomp\n",
    "end"
   ]
  },
  {
   "cell_type": "markdown",
   "metadata": {},
   "source": [
    "## for"
   ]
  },
  {
   "cell_type": "markdown",
   "metadata": {},
   "source": [
    "W Ruby nie ma klasycznej pętli `for` znanej z języka C, tzn. `for(i = 0; i < 10; i++)`. Istnieje jednak pętla `for`, która służy do iterowania po strukturach sekwencyjnych, np. tablicach:\n",
    "```ruby\n",
    "letters = [\"a\",\"b\",\"c\"]\n",
    "for letter in letters do\n",
    "  puts letter\n",
    "end\n",
    "```"
   ]
  },
  {
   "cell_type": "code",
   "execution_count": 6,
   "metadata": {
    "collapsed": false
   },
   "outputs": [
    {
     "name": "stdout",
     "output_type": "stream",
     "text": [
      "a\n",
      "b\n",
      "c\n"
     ]
    },
    {
     "data": {
      "text/plain": [
       "[\"a\", \"b\", \"c\"]"
      ]
     },
     "execution_count": 6,
     "metadata": {},
     "output_type": "execute_result"
    }
   ],
   "source": [
    "letters = [\"a\", \"b\", \"c\"]\n",
    "for letter in letters do\n",
    "  puts letter\n",
    "end"
   ]
  },
  {
   "cell_type": "markdown",
   "metadata": {},
   "source": [
    "Można jej również użyć do innych struktur, np. tablic asocjacyjnych:\n",
    "```ruby\n",
    "letters = {1 => \"a\", 2 => \"b\", 3 => \"c\"}\n",
    "for index,letter in letters do\n",
    "  puts \"#{index}. #{letter}\"\n",
    "end\n",
    "```"
   ]
  },
  {
   "cell_type": "code",
   "execution_count": 7,
   "metadata": {
    "collapsed": false
   },
   "outputs": [
    {
     "name": "stdout",
     "output_type": "stream",
     "text": [
      "1. a\n",
      "2. b\n",
      "3. c\n"
     ]
    },
    {
     "data": {
      "text/plain": [
       "{1=>\"a\", 2=>\"b\", 3=>\"c\"}"
      ]
     },
     "execution_count": 7,
     "metadata": {},
     "output_type": "execute_result"
    }
   ],
   "source": [
    "letters = {1 => \"a\", 2 => \"b\", 3 => \"c\"}\n",
    "for index,letter in letters do\n",
    "  puts \"#{index}. #{letter}\"\n",
    "end"
   ]
  },
  {
   "cell_type": "markdown",
   "metadata": {},
   "source": [
    "## times, upto, downto, step"
   ]
  },
  {
   "cell_type": "markdown",
   "metadata": {},
   "source": [
    "Chociaż w Ruby nie ma klasycznej pętli `for` to istnieją inne konstrukcje, pozwalające na wykonanie pętli określoną ilość razy.\n",
    "Pierwszą z nich jest `times` - jej semantyka jest bardzo prosta. Ponieważ wywoływana jest dla liczb naturalnych, kod wykonuje się tyle razy, ile wynosi wartość danej liczby:\n",
    "```ruby\n",
    "3.times do\n",
    "  puts \"Witaj EPI!\"\n",
    "end\n",
    "```"
   ]
  },
  {
   "cell_type": "code",
   "execution_count": 10,
   "metadata": {
    "collapsed": false
   },
   "outputs": [
    {
     "name": "stdout",
     "output_type": "stream",
     "text": [
      "Witaj EPI!\n",
      "Witaj EPI!\n",
      "Witaj EPI!\n"
     ]
    },
    {
     "data": {
      "text/plain": [
       "3"
      ]
     },
     "execution_count": 10,
     "metadata": {},
     "output_type": "execute_result"
    }
   ],
   "source": [
    "3.times do\n",
    "  puts \"Witaj EPI!\"\n",
    "end"
   ]
  },
  {
   "cell_type": "markdown",
   "metadata": {},
   "source": [
    "`upto` i `downto` mają podobne zastosowanie. `upto` pozwala na określenie dolnego i górnego zakresu:\n",
    "```ruby\n",
    "10.upto(20) do |index|\n",
    "  puts \"Indeks wynosi #{index}\"\n",
    "end\n",
    "```"
   ]
  },
  {
   "cell_type": "code",
   "execution_count": 11,
   "metadata": {
    "collapsed": false
   },
   "outputs": [
    {
     "name": "stdout",
     "output_type": "stream",
     "text": [
      "Indeks wynosi 10\n",
      "Indeks wynosi 11\n",
      "Indeks wynosi 12\n",
      "Indeks wynosi 13\n",
      "Indeks wynosi 14\n",
      "Indeks wynosi 15\n",
      "Indeks wynosi 16\n",
      "Indeks wynosi 17\n",
      "Indeks wynosi 18\n",
      "Indeks wynosi 19\n",
      "Indeks wynosi 20\n"
     ]
    },
    {
     "data": {
      "text/plain": [
       "10"
      ]
     },
     "execution_count": 11,
     "metadata": {},
     "output_type": "execute_result"
    }
   ],
   "source": [
    "10.upto(20) do |index|\n",
    "  puts \"Indeks wynosi #{index}\"\n",
    "end"
   ]
  },
  {
   "cell_type": "markdown",
   "metadata": {},
   "source": [
    "`downto` również pozwala na określenie zakresu, ale wykonywana jest od wartości największej, do najmniejszej:\n",
    "```ruby\n",
    "20.downto(10) do |index|\n",
    "  puts \"Indeks wynosi #{index}\"\n",
    "end\n",
    "```"
   ]
  },
  {
   "cell_type": "code",
   "execution_count": 12,
   "metadata": {
    "collapsed": false
   },
   "outputs": [
    {
     "name": "stdout",
     "output_type": "stream",
     "text": [
      "Indeks wynosi 20\n",
      "Indeks wynosi 19\n",
      "Indeks wynosi 18\n",
      "Indeks wynosi 17\n",
      "Indeks wynosi 16\n",
      "Indeks wynosi 15\n",
      "Indeks wynosi 14\n",
      "Indeks wynosi 13\n",
      "Indeks wynosi 12\n",
      "Indeks wynosi 11\n",
      "Indeks wynosi 10\n"
     ]
    },
    {
     "data": {
      "text/plain": [
       "20"
      ]
     },
     "execution_count": 12,
     "metadata": {},
     "output_type": "execute_result"
    }
   ],
   "source": [
    "20.downto(10) do |index|\n",
    "  puts \"Indeks wynosi #{index}\"\n",
    "end"
   ]
  },
  {
   "cell_type": "markdown",
   "metadata": {},
   "source": [
    "`step` pozwala na swobodne określenie kroku:\n",
    "```ruby\n",
    "10.step(20,2) do |index|\n",
    "  puts \"Indeks wynosi #{index}\"\n",
    "end\n",
    "```"
   ]
  },
  {
   "cell_type": "code",
   "execution_count": 13,
   "metadata": {
    "collapsed": false
   },
   "outputs": [
    {
     "name": "stdout",
     "output_type": "stream",
     "text": [
      "Indeks wynosi 10\n",
      "Indeks wynosi 12\n",
      "Indeks wynosi 14\n",
      "Indeks wynosi 16\n",
      "Indeks wynosi 18\n",
      "Indeks wynosi 20\n"
     ]
    },
    {
     "data": {
      "text/plain": [
       "10"
      ]
     },
     "execution_count": 13,
     "metadata": {},
     "output_type": "execute_result"
    }
   ],
   "source": [
    "10.step(20,2) do |index|\n",
    "  puts \"Indeks wynosi #{index}\"\n",
    "end"
   ]
  },
  {
   "cell_type": "markdown",
   "metadata": {},
   "source": [
    "### Zadanie 1"
   ]
  },
  {
   "cell_type": "markdown",
   "metadata": {},
   "source": [
    "Wiedząc, że w w 2016 roku pierwsza niedziela wypada 3 stycznia, określ numery pozostałych dni, w które wypada niedziela. Nie chodzio daty, tylko numery dni w roku (3, 10, itd.)"
   ]
  },
  {
   "cell_type": "code",
   "execution_count": 16,
   "metadata": {
    "collapsed": false
   },
   "outputs": [
    {
     "name": "stdout",
     "output_type": "stream",
     "text": [
      "Niedziela wypada w 3 dniu 2016 roku\n",
      "Niedziela wypada w 10 dniu 2016 roku\n",
      "Niedziela wypada w 17 dniu 2016 roku\n",
      "Niedziela wypada w 24 dniu 2016 roku\n",
      "Niedziela wypada w 31 dniu 2016 roku\n",
      "Niedziela wypada w 38 dniu 2016 roku\n",
      "Niedziela wypada w 45 dniu 2016 roku\n",
      "Niedziela wypada w 52 dniu 2016 roku\n",
      "Niedziela wypada w 59 dniu 2016 roku\n",
      "Niedziela wypada w 66 dniu 2016 roku\n",
      "Niedziela wypada w 73 dniu 2016 roku\n",
      "Niedziela wypada w 80 dniu 2016 roku\n",
      "Niedziela wypada w 87 dniu 2016 roku\n",
      "Niedziela wypada w 94 dniu 2016 roku\n",
      "Niedziela wypada w 101 dniu 2016 roku\n",
      "Niedziela wypada w 108 dniu 2016 roku\n",
      "Niedziela wypada w 115 dniu 2016 roku\n",
      "Niedziela wypada w 122 dniu 2016 roku\n",
      "Niedziela wypada w 129 dniu 2016 roku\n",
      "Niedziela wypada w 136 dniu 2016 roku\n",
      "Niedziela wypada w 143 dniu 2016 roku\n",
      "Niedziela wypada w 150 dniu 2016 roku\n",
      "Niedziela wypada w 157 dniu 2016 roku\n",
      "Niedziela wypada w 164 dniu 2016 roku\n",
      "Niedziela wypada w 171 dniu 2016 roku\n",
      "Niedziela wypada w 178 dniu 2016 roku\n",
      "Niedziela wypada w 185 dniu 2016 roku\n",
      "Niedziela wypada w 192 dniu 2016 roku\n",
      "Niedziela wypada w 199 dniu 2016 roku\n",
      "Niedziela wypada w 206 dniu 2016 roku\n",
      "Niedziela wypada w 213 dniu 2016 roku\n",
      "Niedziela wypada w 220 dniu 2016 roku\n",
      "Niedziela wypada w 227 dniu 2016 roku\n",
      "Niedziela wypada w 234 dniu 2016 roku\n",
      "Niedziela wypada w 241 dniu 2016 roku\n",
      "Niedziela wypada w 248 dniu 2016 roku\n",
      "Niedziela wypada w 255 dniu 2016 roku\n",
      "Niedziela wypada w 262 dniu 2016 roku\n",
      "Niedziela wypada w 269 dniu 2016 roku\n",
      "Niedziela wypada w 276 dniu 2016 roku\n",
      "Niedziela wypada w 283 dniu 2016 roku\n",
      "Niedziela wypada w 290 dniu 2016 roku\n",
      "Niedziela wypada w 297 dniu 2016 roku\n",
      "Niedziela wypada w 304 dniu 2016 roku\n",
      "Niedziela wypada w 311 dniu 2016 roku\n",
      "Niedziela wypada w 318 dniu 2016 roku\n",
      "Niedziela wypada w 325 dniu 2016 roku\n",
      "Niedziela wypada w 332 dniu 2016 roku\n",
      "Niedziela wypada w 339 dniu 2016 roku\n",
      "Niedziela wypada w 346 dniu 2016 roku\n",
      "Niedziela wypada w 353 dniu 2016 roku\n",
      "Niedziela wypada w 360 dniu 2016 roku\n"
     ]
    },
    {
     "data": {
      "text/plain": [
       "3"
      ]
     },
     "execution_count": 16,
     "metadata": {},
     "output_type": "execute_result"
    }
   ],
   "source": [
    "3.step(365, 7) do |niedziela|\n",
    "  puts \"Niedziela wypada w #{niedziela} dniu 2016 roku\"\n",
    "end"
   ]
  },
  {
   "cell_type": "markdown",
   "metadata": {},
   "source": [
    "## Metody iteracyjne"
   ]
  },
  {
   "cell_type": "markdown",
   "metadata": {},
   "source": [
    "Metody iteracyjne pozwalają wykonywać operacje na elementach kontenerów. Są one odpowiednikami pętli w innych językach programowania. Pozwalają jedak bardziej bezpośrednio wyrazić jaka jest intencja twórcy algorytmu.\n",
    "\n",
    "Najczęściej używaną metodą iteracyjną jest `each`, która wywołuje blok kodu dla każdego elementu tablicy\n",
    "```ruby\n",
    "[1,2,3,4].each do |element|\n",
    "  puts element ** 2\n",
    "end\n",
    "```"
   ]
  },
  {
   "cell_type": "code",
   "execution_count": 17,
   "metadata": {
    "collapsed": false
   },
   "outputs": [
    {
     "name": "stdout",
     "output_type": "stream",
     "text": [
      "1\n",
      "4\n",
      "9\n",
      "16\n"
     ]
    },
    {
     "data": {
      "text/plain": [
       "[1, 2, 3, 4]"
      ]
     },
     "execution_count": 17,
     "metadata": {},
     "output_type": "execute_result"
    }
   ],
   "source": [
    "[1,2,3,4].each do |element|\n",
    "  puts element ** 2\n",
    "end"
   ]
  },
  {
   "cell_type": "markdown",
   "metadata": {},
   "source": [
    "Dzięki metodzie `each` możemy uzyskać ten sam efekt jaki daje metoda `upto`, jeśli wywołamy ją na zakresie:\n",
    "```ruby\n",
    "1.upto(10){|i| puts \"upto: #{i}\" }\n",
    "(1..10).each{|i| puts \"each: #{i}\" }\n",
    "```"
   ]
  },
  {
   "cell_type": "code",
   "execution_count": 19,
   "metadata": {
    "collapsed": false
   },
   "outputs": [
    {
     "name": "stdout",
     "output_type": "stream",
     "text": [
      "each: 1\n",
      "each: 2\n",
      "each: 3\n",
      "each: 4\n",
      "each: 5\n",
      "each: 6\n",
      "each: 7\n",
      "each: 8\n",
      "each: 9\n",
      "each: 10\n"
     ]
    },
    {
     "data": {
      "text/plain": [
       "1..10"
      ]
     },
     "execution_count": 19,
     "metadata": {},
     "output_type": "execute_result"
    }
   ],
   "source": [
    "(1..10).each{|i| puts \"each: #{i}\" }"
   ]
  },
  {
   "cell_type": "markdown",
   "metadata": {},
   "source": [
    "Ruby definiuje jednak znacznie więcej przydatnych metod tego rodzaju. Często używaną jest `select`, która wybiera z tablicy tylko \n",
    "te elementy, dla których blok kodu zwrócił wartość `true`\n",
    "```ruby\n",
    "[1,2,3,4,5,6].select{|e| e % 2 == 0 }\n",
    "[\"Ala\", \"Anna\", \"Agata\", \"Barbara\"].select{|imie| imie =~ /^A/ }\n",
    "```"
   ]
  },
  {
   "cell_type": "code",
   "execution_count": 21,
   "metadata": {
    "collapsed": false
   },
   "outputs": [
    {
     "data": {
      "text/plain": [
       "[\"Ala\", \"Anna\", \"Agata\"]"
      ]
     },
     "execution_count": 21,
     "metadata": {},
     "output_type": "execute_result"
    }
   ],
   "source": [
    "[\"Ala\", \"Anna\", \"Agata\", \"Barbara\"].select{|imie| imie =~ /^A/ }"
   ]
  },
  {
   "cell_type": "markdown",
   "metadata": {},
   "source": [
    "Metoda ta ma komplementarną wobec niej metodę `reject`\n",
    "```ruby\n",
    "[1,2,3,4,5,6].reject{|e| e % 2 == 0 }\n",
    "[\"Ala\", \"Anna\", \"Agata\", \"Barbara\"].reject{|imie| imie =~ /^A/ }\n",
    "```"
   ]
  },
  {
   "cell_type": "code",
   "execution_count": 23,
   "metadata": {
    "collapsed": false
   },
   "outputs": [
    {
     "data": {
      "text/plain": [
       "[\"Barbara\"]"
      ]
     },
     "execution_count": 23,
     "metadata": {},
     "output_type": "execute_result"
    }
   ],
   "source": [
    "[\"Ala\", \"Anna\", \"Agata\", \"Barbara\"].reject{|imie| imie =~ /^A/ }"
   ]
  },
  {
   "cell_type": "markdown",
   "metadata": {},
   "source": [
    "Bardzo często wykorzystywaną metodą jest również `map`\n",
    "```ruby\n",
    "[1,2,3,4,5].map{|e| e * 2 }\n",
    "[\"Ala\", \"Anna\", \"Agata\"].map{|e| e.upcase }\n",
    "```"
   ]
  },
  {
   "cell_type": "code",
   "execution_count": 25,
   "metadata": {
    "collapsed": false
   },
   "outputs": [
    {
     "data": {
      "text/plain": [
       "[\"ALA\", \"ANNA\", \"AGATA\"]"
      ]
     },
     "execution_count": 25,
     "metadata": {},
     "output_type": "execute_result"
    }
   ],
   "source": [
    "[\"Ala\", \"Anna\", \"Agata\"].map{|e| e.upcase }"
   ]
  },
  {
   "cell_type": "markdown",
   "metadata": {},
   "source": [
    "Nieco rzadziej wykorzystywaną metodą jest `inject`, która poza tym, że przechodzi przez wszystkie elementy, przekazuje do bloku\n",
    "wynik eweluacji wcześniejszego wyrażenia. Pozwala to w bardzo prosty sposób np. oblicyć sumę elementów tablic\n",
    "```ruby\n",
    "[1,2,3,4].inject(0){|suma,element| suma + element }\n",
    "```"
   ]
  },
  {
   "cell_type": "code",
   "execution_count": 30,
   "metadata": {
    "collapsed": false
   },
   "outputs": [
    {
     "data": {
      "text/plain": [
       "10"
      ]
     },
     "execution_count": 30,
     "metadata": {},
     "output_type": "execute_result"
    }
   ],
   "source": [
    "[1,2,3,4].inject(0){|suma,element| suma + element  }"
   ]
  },
  {
   "cell_type": "markdown",
   "metadata": {},
   "source": [
    "Oczywiście metoda ta nie działa wyłącznie na liczbach. Można np. skonkatenować jakiś napis\n",
    "```ruby\n",
    "[\"Ala\", \"Anna\", \"Agata\"].inject(\"\"){|wynik,imie| wynik + \" #{imie.upcase}\" }\n",
    "```"
   ]
  },
  {
   "cell_type": "code",
   "execution_count": 31,
   "metadata": {
    "collapsed": false
   },
   "outputs": [
    {
     "data": {
      "text/plain": [
       "\" ALA ANNA AGATA\""
      ]
     },
     "execution_count": 31,
     "metadata": {},
     "output_type": "execute_result"
    }
   ],
   "source": [
    "[\"Ala\", \"Anna\", \"Agata\"].inject(\"\"){|wynik,imie| wynik + \" #{imie.upcase}\" }"
   ]
  },
  {
   "cell_type": "markdown",
   "metadata": {},
   "source": [
    "Na koniec warto wspomnieć o dwóch metodach służących do sortowania: `sort` oraz `sort_by`. Wywołanie tej pierwszej \n",
    "bez bloku kodu spowoduje posortowanie elementów w naturany sposób\n",
    "```ruby\n",
    "[3,1,7,6,2].sort\n",
    "```"
   ]
  },
  {
   "cell_type": "code",
   "execution_count": 32,
   "metadata": {
    "collapsed": false
   },
   "outputs": [
    {
     "data": {
      "text/plain": [
       "[1, 2, 3, 6, 7]"
      ]
     },
     "execution_count": 32,
     "metadata": {},
     "output_type": "execute_result"
    }
   ],
   "source": [
    "[3,1,7,6,2].sort"
   ]
  },
  {
   "cell_type": "markdown",
   "metadata": {},
   "source": [
    "Możemy jednak zdefiniować swój własny sposób sortowania. Konieczne jest wtedy przekazanie bloku kodu, który akceptuje dwa\n",
    "argumentu podlegające porównaniu, np.\n",
    "```ruby\n",
    "[\"A\",\"całego\",\"małe\",\"Ala\",\"Be\"].sort{|a,b| a.size <=> b.size }\n",
    "```"
   ]
  },
  {
   "cell_type": "code",
   "execution_count": 33,
   "metadata": {
    "collapsed": false
   },
   "outputs": [
    {
     "data": {
      "text/plain": [
       "[\"A\", \"Be\", \"Ala\", \"małe\", \"całego\"]"
      ]
     },
     "execution_count": 33,
     "metadata": {},
     "output_type": "execute_result"
    }
   ],
   "source": [
    "[\"A\",\"całego\",\"małe\",\"Ala\",\"Be\"].sort{|a,b| a.size <=> b.size }"
   ]
  },
  {
   "cell_type": "markdown",
   "metadata": {},
   "source": [
    "Warto porównać wynik tej metody z metodą `sort` bez bloku:\n",
    "```ruby\n",
    "[\"A\",\"całego\",\"małe\",\"Ala\",\"Be\"].sort\n",
    "```"
   ]
  },
  {
   "cell_type": "code",
   "execution_count": 34,
   "metadata": {
    "collapsed": false
   },
   "outputs": [
    {
     "data": {
      "text/plain": [
       "[\"A\", \"Ala\", \"Be\", \"całego\", \"małe\"]"
      ]
     },
     "execution_count": 34,
     "metadata": {},
     "output_type": "execute_result"
    }
   ],
   "source": [
    "[\"A\",\"całego\",\"małe\",\"Ala\",\"Be\"].sort"
   ]
  },
  {
   "cell_type": "markdown",
   "metadata": {},
   "source": [
    "Metoda `sort_by` pozwala natomiast posortować elementy względem wybranej własności. Sortowanie względem długości łańcuchów można\n",
    "zrealizować następująco:\n",
    "```ruby\n",
    "[\"A\",\"całego\",\"małe\",\"Ala\",\"Be\"].sort_by{|a| a.size }\n",
    "```"
   ]
  },
  {
   "cell_type": "code",
   "execution_count": 35,
   "metadata": {
    "collapsed": false
   },
   "outputs": [
    {
     "data": {
      "text/plain": [
       "[\"A\", \"Be\", \"Ala\", \"małe\", \"całego\"]"
      ]
     },
     "execution_count": 35,
     "metadata": {},
     "output_type": "execute_result"
    }
   ],
   "source": [
    "[\"A\",\"całego\",\"małe\",\"Ala\",\"Be\"].sort_by{|a| a.size }"
   ]
  },
  {
   "cell_type": "markdown",
   "metadata": {},
   "source": [
    "### Zadanie 2"
   ]
  },
  {
   "cell_type": "markdown",
   "metadata": {},
   "source": [
    "Napisz program, który oblicza sumę cyfr zadanej liczby. "
   ]
  },
  {
   "cell_type": "code",
   "execution_count": 68,
   "metadata": {
    "collapsed": false
   },
   "outputs": [
    {
     "data": {
      "text/plain": [
       "39"
      ]
     },
     "execution_count": 68,
     "metadata": {},
     "output_type": "execute_result"
    }
   ],
   "source": [
    "liczba = 1456323465.to_s\n",
    "liczba = liczba.split(\"\").to_a\n",
    "liczba = liczba.map{|e| e.to_i}\n",
    "liczba.inject{|suma, elem| suma + elem}"
   ]
  },
  {
   "cell_type": "markdown",
   "metadata": {},
   "source": [
    "### Zadanie 3*"
   ]
  },
  {
   "cell_type": "markdown",
   "metadata": {},
   "source": [
    "Napisz program, który wśród liczb od 0 do 100 znajduje wszystkie liczby które są podzielne przez 2, ale nie są podzielne przez 4 i których suma cyfr jest podzielna przez 7."
   ]
  },
  {
   "cell_type": "code",
   "execution_count": 105,
   "metadata": {
    "collapsed": false
   },
   "outputs": [
    {
     "name": "stdout",
     "output_type": "stream",
     "text": [
      "34\n",
      "70\n",
      "86\n"
     ]
    },
    {
     "data": {
      "text/plain": [
       "[2, 6, 10, 14, 18, 22, 26, 30, 34, 38, 42, 46, 50, 54, 58, 62, 66, 70, 74, 78, 82, 86, 90, 94, 98]"
      ]
     },
     "execution_count": 105,
     "metadata": {},
     "output_type": "execute_result"
    }
   ],
   "source": [
    "def sumacyfr (value) \n",
    "\n",
    "liczba = value.to_s\n",
    "liczba = liczba.split(\"\").to_a\n",
    "liczba = liczba.map{|e| e.to_i}\n",
    "liczba.inject{|suma, elem| suma + elem}\n",
    "\n",
    "end\n",
    "\n",
    "liczby = (0..100).to_a\n",
    "liczby = liczby.select{|e| e % 2 == 0}\n",
    "liczby = liczby.reject{|e| e % 4 == 0}\n",
    "\n",
    "for liczba in liczby do\n",
    "  \n",
    "  sumacyfr(liczba)\n",
    "  if sumacyfr(liczba) % 7 == 0\n",
    "  puts liczba\n",
    "  end\n",
    "\n",
    "end"
   ]
  },
  {
   "cell_type": "markdown",
   "metadata": {},
   "source": [
    "### Zadanie 4*"
   ]
  },
  {
   "cell_type": "markdown",
   "metadata": {},
   "source": [
    "Załóżmy, że w turnieju szachowym jest 6 zawodników: Anna, Beata, Andrzej, Wojtek, Jan i Klaudia. Napisz kod, który znajdzie wszystkie możliwe mecze rozgrywane przez zawodników. Mecze rozgrywane pomiędzy tymi samymi zawodnikami nie mogą się powtarzać (kolejność zawodników nie ma znaczenia)."
   ]
  },
  {
   "cell_type": "code",
   "execution_count": 5,
   "metadata": {
    "collapsed": false
   },
   "outputs": [
    {
     "name": "stdout",
     "output_type": "stream",
     "text": [
      "[[\"Anna\"], [\"Beata\"], [\"Andrzej\"], [\"Wojtek\"], [\"Jan\"], [\"Klaudia\"]]\n"
     ]
    },
    {
     "data": {
      "text/plain": [
       "[[\"Anna\"], [\"Beata\"], [\"Andrzej\"], [\"Wojtek\"], [\"Jan\"], [\"Klaudia\"]]"
      ]
     },
     "execution_count": 5,
     "metadata": {},
     "output_type": "execute_result"
    }
   ],
   "source": [
    "require 'pp'\n",
    "zawodnicy = [\"Anna\", \"Beata\", \"Andrzej\", \"Wojtek\", \"Jan\", \"Klaudia\"]\n",
    "\n",
    "pp zawodnicy.product"
   ]
  },
  {
   "cell_type": "code",
   "execution_count": 11,
   "metadata": {
    "collapsed": false
   },
   "outputs": [
    {
     "ename": "SyntaxError",
     "evalue": "<main>:2: syntax error, unexpected tSTRING_BEG, expecting '|'\nzawodnicy.sort.each do |\"dupa\"| \n                         ^\n<main>:3: syntax error, unexpected tSTRING_BEG, expecting keyword_do or '{' or '('\n  puts \"#{zawodnicy[key]}\" \n        ^\n<main>:4: syntax error, unexpected keyword_end, expecting end-of-input",
     "output_type": "error",
     "traceback": [
      "\u001b[31mSyntaxError\u001b[0m: <main>:2: syntax error, unexpected tSTRING_BEG, expecting '|'\nzawodnicy.sort.each do |\"dupa\"| \n                         ^\n<main>:3: syntax error, unexpected tSTRING_BEG, expecting keyword_do or '{' or '('\n  puts \"#{zawodnicy[key]}\" \n        ^\n<main>:4: syntax error, unexpected keyword_end, expecting end-of-input",
      "\u001b[37m/home/robert/.rvm/gems/ruby-2.2.3/gems/iruby-0.2.7/lib/iruby/backend.rb:44:in `eval'\u001b[0m",
      "\u001b[37m/home/robert/.rvm/gems/ruby-2.2.3/gems/iruby-0.2.7/lib/iruby/backend.rb:44:in `eval'\u001b[0m",
      "\u001b[37m/home/robert/.rvm/gems/ruby-2.2.3/gems/iruby-0.2.7/lib/iruby/backend.rb:12:in `eval'\u001b[0m",
      "\u001b[37m/home/robert/.rvm/gems/ruby-2.2.3/gems/iruby-0.2.7/lib/iruby/kernel.rb:87:in `execute_request'\u001b[0m",
      "\u001b[37m/home/robert/.rvm/gems/ruby-2.2.3/gems/iruby-0.2.7/lib/iruby/kernel.rb:47:in `dispatch'\u001b[0m",
      "\u001b[37m/home/robert/.rvm/gems/ruby-2.2.3/gems/iruby-0.2.7/lib/iruby/kernel.rb:37:in `run'\u001b[0m",
      "\u001b[37m/home/robert/.rvm/gems/ruby-2.2.3/gems/iruby-0.2.7/lib/iruby/command.rb:70:in `run_kernel'\u001b[0m",
      "\u001b[37m/home/robert/.rvm/gems/ruby-2.2.3/gems/iruby-0.2.7/lib/iruby/command.rb:34:in `run'\u001b[0m",
      "\u001b[37m/home/robert/.rvm/gems/ruby-2.2.3/gems/iruby-0.2.7/bin/iruby:5:in `<top (required)>'\u001b[0m",
      "\u001b[37m/home/robert/.rvm/gems/ruby-2.2.3/bin/iruby:23:in `load'\u001b[0m",
      "\u001b[37m/home/robert/.rvm/gems/ruby-2.2.3/bin/iruby:23:in `<main>'\u001b[0m",
      "\u001b[37m/home/robert/.rvm/gems/ruby-2.2.3/bin/ruby_executable_hooks:15:in `eval'\u001b[0m",
      "\u001b[37m/home/robert/.rvm/gems/ruby-2.2.3/bin/ruby_executable_hooks:15:in `<main>'\u001b[0m"
     ]
    }
   ],
   "source": [
    "zawodnicy = [\"Anna\", \"Beata\", \"Andrzej\", \"Wojtek\", \"Jan\", \"Klaudia\"]\n"
   ]
  },
  {
   "cell_type": "code",
   "execution_count": 149,
   "metadata": {
    "collapsed": false
   },
   "outputs": [
    {
     "ename": "SyntaxError",
     "evalue": "<main>:18: syntax error, unexpected '!', expecting keyword_end",
     "output_type": "error",
     "traceback": [
      "\u001b[31mSyntaxError\u001b[0m: <main>:18: syntax error, unexpected '!', expecting keyword_end",
      "\u001b[37m/usr/local/rvm/gems/ruby-2.0.0-p0/gems/iruby-0.1.13/lib/iruby/backend.rb:8:in `eval'\u001b[0m",
      "\u001b[37m/usr/local/rvm/gems/ruby-2.0.0-p0/gems/iruby-0.1.13/lib/iruby/backend.rb:8:in `eval'\u001b[0m",
      "\u001b[37m/usr/local/rvm/gems/ruby-2.0.0-p0/gems/iruby-0.1.13/lib/iruby/kernel.rb:110:in `execute_request'\u001b[0m",
      "\u001b[37m/usr/local/rvm/gems/ruby-2.0.0-p0/gems/iruby-0.1.13/lib/iruby/kernel.rb:62:in `run'\u001b[0m",
      "\u001b[37m/usr/local/rvm/gems/ruby-2.0.0-p0/gems/iruby-0.1.13/lib/iruby/command.rb:30:in `run_kernel'\u001b[0m",
      "\u001b[37m/usr/local/rvm/gems/ruby-2.0.0-p0/gems/iruby-0.1.13/lib/iruby/command.rb:16:in `run'\u001b[0m",
      "\u001b[37m/usr/local/rvm/gems/ruby-2.0.0-p0/gems/iruby-0.1.13/bin/iruby:6:in `<top (required)>'\u001b[0m",
      "\u001b[37m/usr/local/rvm/gems/ruby-2.0.0-p0/bin/iruby:23:in `load'\u001b[0m",
      "\u001b[37m/usr/local/rvm/gems/ruby-2.0.0-p0/bin/iruby:23:in `<main>'\u001b[0m",
      "\u001b[37m/usr/local/rvm/gems/ruby-2.0.0-p0/bin/ruby_noexec_wrapper:14:in `eval'\u001b[0m",
      "\u001b[37m/usr/local/rvm/gems/ruby-2.0.0-p0/bin/ruby_noexec_wrapper:14:in `<main>'\u001b[0m"
     ]
<<<<<<< HEAD
=======
    },
    {
     "cell_type": "code",
     "collapsed": false,
     "input": [],
     "language": "python",
     "metadata": {},
     "outputs": [
      {
       "metadata": {},
       "output_type": "pyout",
       "prompt_number": 106,
       "text": [
        "[\"Anna\", \"Beata\", \"Andrzej\", \"Wojtek\", \"Jan\", \"Klaudia\"]"
       ]
      }
     ],
     "prompt_number": 106
    },
    {
     "cell_type": "code",
     "collapsed": false,
     "input": [
      "zawodnicy = [\"Anna\", \"Beata\", \"Andrzej\", \"Wojtek\", \"Jan\", \"Klaudia\"]\n",
      "zawodnicy2 = zawodnicy\n",
      "\n",
      "def compare (value1, value2)\n",
      "  \n",
      "  if value1 != value2\n",
      "    puts \"Mecz rozgrywaj\u0105: #{value1} i #{value2}\"\n",
      "  end\n",
      "  \n",
      "end\n",
      "\n",
      "\n",
      "for imie in zawodnicy do\n",
      "  for imie2 in zawodnicy2 do\n",
      "    \n",
      "  compare(imie,imie2)\n",
      "    \n",
      "  end\n",
      "\n",
      "  \n",
      "end\n",
      "\n",
      "\n",
      "znalezc wersje jednolinijkkowa!\n"
     ],
     "language": "python",
     "metadata": {},
     "outputs": [
      {
       "ename": "SyntaxError",
       "evalue": "<main>:18: syntax error, unexpected '!', expecting keyword_end",
       "output_type": "pyerr",
       "traceback": [
        "\u001b[31mSyntaxError\u001b[0m: <main>:18: syntax error, unexpected '!', expecting keyword_end",
        "\u001b[37m/usr/local/rvm/gems/ruby-2.0.0-p0/gems/iruby-0.1.13/lib/iruby/backend.rb:8:in `eval'\u001b[0m",
        "\u001b[37m/usr/local/rvm/gems/ruby-2.0.0-p0/gems/iruby-0.1.13/lib/iruby/backend.rb:8:in `eval'\u001b[0m",
        "\u001b[37m/usr/local/rvm/gems/ruby-2.0.0-p0/gems/iruby-0.1.13/lib/iruby/kernel.rb:110:in `execute_request'\u001b[0m",
        "\u001b[37m/usr/local/rvm/gems/ruby-2.0.0-p0/gems/iruby-0.1.13/lib/iruby/kernel.rb:62:in `run'\u001b[0m",
        "\u001b[37m/usr/local/rvm/gems/ruby-2.0.0-p0/gems/iruby-0.1.13/lib/iruby/command.rb:30:in `run_kernel'\u001b[0m",
        "\u001b[37m/usr/local/rvm/gems/ruby-2.0.0-p0/gems/iruby-0.1.13/lib/iruby/command.rb:16:in `run'\u001b[0m",
        "\u001b[37m/usr/local/rvm/gems/ruby-2.0.0-p0/gems/iruby-0.1.13/bin/iruby:6:in `<top (required)>'\u001b[0m",
        "\u001b[37m/usr/local/rvm/gems/ruby-2.0.0-p0/bin/iruby:23:in `load'\u001b[0m",
        "\u001b[37m/usr/local/rvm/gems/ruby-2.0.0-p0/bin/iruby:23:in `<main>'\u001b[0m",
        "\u001b[37m/usr/local/rvm/gems/ruby-2.0.0-p0/bin/ruby_noexec_wrapper:14:in `eval'\u001b[0m",
        "\u001b[37m/usr/local/rvm/gems/ruby-2.0.0-p0/bin/ruby_noexec_wrapper:14:in `<main>'\u001b[0m"
       ]
      }
     ],
     "prompt_number": 149
    },
    {
     "cell_type": "code",
     "collapsed": false,
     "input": [
      "zawodnicy1 = [\"Anna\", \"Beata\", \"Andrzej\", \"Wojtek\", \"Jan\", \"Klaudia\"]\n",
      "zawodnicy2 = [\"Beata\", \"Andrzej\", \"Wojtek\", \"Jan\", \"Klaudia\"]\n",
      "\n",
      "for zawodnik1 in zawodnicy1 do\n",
      "  for zawodnik2 in zawodnicy2 do\n",
      "    if zawodnik1 != zawodnik2\n",
      "      puts zawodnik1 + \" vs \" + zawodnik2\n",
      "    end\n",
      "  end\n",
      "  zawodnicy2.delete(zawodnik1)\n",
      "end"
     ],
     "language": "python",
     "metadata": {},
     "outputs": [
      {
       "output_type": "stream",
       "stream": "stdout",
       "text": [
        "Anna vs Beata\n"
       ]
      },
      {
       "output_type": "stream",
       "stream": "stdout",
       "text": [
        "Anna vs Andrzej\n"
       ]
      },
      {
       "output_type": "stream",
       "stream": "stdout",
       "text": [
        "Anna vs Wojtek\n"
       ]
      },
      {
       "output_type": "stream",
       "stream": "stdout",
       "text": [
        "Anna vs Jan\n"
       ]
      },
      {
       "output_type": "stream",
       "stream": "stdout",
       "text": [
        "Anna vs Klaudia\n"
       ]
      },
      {
       "output_type": "stream",
       "stream": "stdout",
       "text": [
        "Beata vs Andrzej\n"
       ]
      },
      {
       "output_type": "stream",
       "stream": "stdout",
       "text": [
        "Beata vs Wojtek\n"
       ]
      },
      {
       "output_type": "stream",
       "stream": "stdout",
       "text": [
        "Beata vs Jan\n"
       ]
      },
      {
       "output_type": "stream",
       "stream": "stdout",
       "text": [
        "Beata vs Klaudia\n"
       ]
      },
      {
       "output_type": "stream",
       "stream": "stdout",
       "text": [
        "Andrzej vs Wojtek\n"
       ]
      },
      {
       "output_type": "stream",
       "stream": "stdout",
       "text": [
        "Andrzej vs Jan\n"
       ]
      },
      {
       "output_type": "stream",
       "stream": "stdout",
       "text": [
        "Andrzej vs Klaudia\n"
       ]
      },
      {
       "output_type": "stream",
       "stream": "stdout",
       "text": [
        "Wojtek vs Jan\n"
       ]
      },
      {
       "output_type": "stream",
       "stream": "stdout",
       "text": [
        "Wojtek vs Klaudia\n"
       ]
      },
      {
       "output_type": "stream",
       "stream": "stdout",
       "text": [
        "Jan vs Klaudia\n"
       ]
      },
      {
       "metadata": {},
       "output_type": "pyout",
       "prompt_number": 2,
       "text": [
        "[\"Anna\", \"Beata\", \"Andrzej\", \"Wojtek\", \"Jan\", \"Klaudia\"]"
       ]
      }
     ],
     "prompt_number": 2
>>>>>>> 5db8c8abe79d0d363d2e0c098619709baa781844
    }
   ],
   "source": [
    "zawodnicy = [\"Anna\", \"Beata\", \"Andrzej\", \"Wojtek\", \"Jan\", \"Klaudia\"]\n",
    "zawodnicy2 = zawodnicy\n",
    "\n",
    "def compare (value1, value2)\n",
    "  \n",
    "  if value1 != value2\n",
    "    puts \"Mecz rozgrywają: #{value1} i #{value2}\"\n",
    "  end\n",
    "  \n",
    "end\n",
    "\n",
    "\n",
    "for imie in zawodnicy do\n",
    "  for imie2 in zawodnicy2 do\n",
    "    \n",
    "  compare(imie,imie2)\n",
    "    \n",
    "  end\n",
    "\n",
    "  \n",
    "end\n",
    "\n",
    "\n",
    "znalezc wersje jednolinijkkowa!\n"
   ]
  }
 ],
 "metadata": {
  "kernelspec": {
   "display_name": "Ruby 2.2.3",
   "language": "ruby",
   "name": "ruby"
  },
  "language_info": {
   "file_extension": "rb",
   "mimetype": "application/x-ruby",
   "name": "ruby",
   "version": "2.2.3"
  }
 },
 "nbformat": 4,
 "nbformat_minor": 0
}
