{
 "cells": [
  {
   "cell_type": "markdown",
   "metadata": {},
   "source": [
    "# Wyjątki oraz operacje na plikach"
   ]
  },
  {
   "cell_type": "markdown",
   "metadata": {},
   "source": [
    "## Wyjątki"
   ]
  },
  {
   "cell_type": "markdown",
   "metadata": {},
   "source": [
    "Wyjątki są mechanizmem występującym w wielu językach programowani. Służą one do obsługi sytuacji nietypowych, w szczególności sytuacji błędnych. Źródło błędu może być różne:\n",
    "* błąd w kodzie programu, np. odwołanie do niezainicjowanej zmiennej,\n",
    "* wprowadzenie błędynych danych przez użytkownika, np. niepoprawnego adresu URL,\n",
    "* błąd związany ze środowiskiem pracy, np. zerwanie połączenia internetowego.\n",
    "\n",
    "Mechanizm wyjątków umożliwia obsługę wszystkich typów błędów w ujednolicony sposób. Dodatkowo, w sytuacji, w której błąd wystąpi, pozwala szybko zorientować się jakie jest źródło problemu (w przeciwieństwie do kompunikatu `Segmentation fault` znanego z języka C). \n",
    "\n",
    "Jeśli w wyniku wykonania programu spróbujemy podzielić przez zero, to wystąpi błąd `ZeroDivisionError`:\n",
    "```ruby\n",
    "a = 1/0\n",
    "```"
   ]
  },
  {
   "cell_type": "code",
   "execution_count": 1,
   "metadata": {
    "collapsed": false
   },
   "outputs": [
    {
     "ename": "ZeroDivisionError",
     "evalue": "divided by 0",
     "output_type": "error",
     "traceback": [
      "\u001b[31mZeroDivisionError\u001b[0m: divided by 0",
      "\u001b[37m<main>:in `/'\u001b[0m",
      "\u001b[37m<main>:in `<main>'\u001b[0m",
      "\u001b[37m/usr/local/rvm/gems/ruby-2.0.0-p0/gems/iruby-0.1.13/lib/iruby/backend.rb:8:in `eval'\u001b[0m",
      "\u001b[37m/usr/local/rvm/gems/ruby-2.0.0-p0/gems/iruby-0.1.13/lib/iruby/backend.rb:8:in `eval'\u001b[0m",
      "\u001b[37m/usr/local/rvm/gems/ruby-2.0.0-p0/gems/iruby-0.1.13/lib/iruby/kernel.rb:110:in `execute_request'\u001b[0m",
      "\u001b[37m/usr/local/rvm/gems/ruby-2.0.0-p0/gems/iruby-0.1.13/lib/iruby/kernel.rb:62:in `run'\u001b[0m",
      "\u001b[37m/usr/local/rvm/gems/ruby-2.0.0-p0/gems/iruby-0.1.13/lib/iruby/command.rb:30:in `run_kernel'\u001b[0m",
      "\u001b[37m/usr/local/rvm/gems/ruby-2.0.0-p0/gems/iruby-0.1.13/lib/iruby/command.rb:16:in `run'\u001b[0m",
      "\u001b[37m/usr/local/rvm/gems/ruby-2.0.0-p0/gems/iruby-0.1.13/bin/iruby:6:in `<top (required)>'\u001b[0m",
      "\u001b[37m/usr/local/rvm/gems/ruby-2.0.0-p0/bin/iruby:23:in `load'\u001b[0m",
      "\u001b[37m/usr/local/rvm/gems/ruby-2.0.0-p0/bin/iruby:23:in `<main>'\u001b[0m",
      "\u001b[37m/usr/local/rvm/gems/ruby-2.0.0-p0/bin/ruby_noexec_wrapper:14:in `eval'\u001b[0m",
      "\u001b[37m/usr/local/rvm/gems/ruby-2.0.0-p0/bin/ruby_noexec_wrapper:14:in `<main>'\u001b[0m"
     ]
    }
   ],
   "source": [
    "a = 1/0"
   ]
  },
  {
   "cell_type": "markdown",
   "metadata": {},
   "source": [
    "Opis błędu składa się z nazwy błędu: `ZeroDivisionError`, komunikatu: `divided by 0` oraz tzw. *stacktrace'a*, czyli ciągu wywołań, które doprowadziły do błędu. Ponieważ Ruby nie jest kompilowany, stacktrace zawiera wskazanie plików i numerów linii, w których występuje wywołanie, które doprowadziło do wystąpienia błędu. Śledząc stacktrace, zwykle można dość szybko zidentyfikować miejsce, które wymaga naprawy.\n",
    "\n",
    "Jeśli np. próbujemy rozwiązać niebanalny problem polegający na określeniu ile potrzeba trabantów do przewiezienia grupy słoni (a liczba słoni mieszczących się w trabancie podawana jest parametrem programu) możemy napisać następujący kod:\n",
    "```ruby\n",
    "def liczba_miejsc_w_trabancie\n",
    "  4\n",
    "end\n",
    "\n",
    "def oblicz_liczbe_pelnych_samochodow(liczba_sloni)\n",
    "  liczba_sloni / liczba_miejsc_w_trabancie\n",
    "end\n",
    "\n",
    "def oblicz_liczbe_niepelnych_samochodow(liczba_sloni)\n",
    "  if liczba_sloni % liczba_miejsc_w_trabancie == 0\n",
    "    0\n",
    "  else\n",
    "    1\n",
    "  end\n",
    "end\n",
    "\n",
    "def oblicz_liczbe_wszystkich_samochodow(liczba_sloni)\n",
    "  oblicz_liczbe_pelnych_samochodow(liczba_sloni) + oblicz_liczbe_niepelnych_samochodow(liczba_sloni)\n",
    "end\n",
    "\n",
    "def ile_potrzeba_samochodow?(liczba_sloni)\n",
    "  puts \"Aby przewieźć #{liczba_sloni} słoni potrzeba #{oblicz_liczbe_wszystkich_samochodow(liczba_sloni)} samochodów.\"\n",
    "end\n",
    "\n",
    "ile_potrzeba_samochodow?(10)\n",
    "```"
   ]
  },
  {
   "cell_type": "code",
   "execution_count": 2,
   "metadata": {
    "collapsed": false
   },
   "outputs": [
    {
     "name": "stdout",
     "output_type": "stream",
     "text": [
      "Aby przewieźć 10 słoni potrzeba 3 samochodów.\n"
     ]
    }
   ],
   "source": [
    "def liczba_miejsc_w_trabancie\n",
    "  4\n",
    "end\n",
    "\n",
    "def oblicz_liczbe_pelnych_samochodow(liczba_sloni)\n",
    "  liczba_sloni / liczba_miejsc_w_trabancie\n",
    "end\n",
    "\n",
    "def oblicz_liczbe_niepelnych_samochodow(liczba_sloni)\n",
    "  if liczba_sloni % liczba_miejsc_w_trabancie == 0\n",
    "    0\n",
    "  else\n",
    "    1\n",
    "  end\n",
    "end\n",
    "\n",
    "def oblicz_liczbe_wszystkich_samochodow(liczba_sloni)\n",
    "  oblicz_liczbe_pelnych_samochodow(liczba_sloni) + oblicz_liczbe_niepelnych_samochodow(liczba_sloni)\n",
    "end\n",
    "\n",
    "def ile_potrzeba_samochodow?(liczba_sloni)\n",
    "  puts \"Aby przewieźć #{liczba_sloni} słoni potrzeba #{oblicz_liczbe_wszystkich_samochodow(liczba_sloni)} samochodów.\"\n",
    "end\n",
    "\n",
    "ile_potrzeba_samochodow?(10)"
   ]
  },
  {
   "cell_type": "markdown",
   "metadata": {},
   "source": [
    "Jeśli teraz ktoś zmieni definicję funkcji `liczba_miejsc_w_trabancie`:\n",
    "```ruby\n",
    "# wszystkie trabanty są zajmowane przez myszy, dlatego nie można już w nich umieszczać słoni\n",
    "def liczba_miejsc_w_trabancie\n",
    "  0\n",
    "end\n",
    "```\n",
    "i zapyta o liczbę trabantów:\n",
    "```ruby\n",
    "ile_potrzeba_samochodow?(10)\n",
    "```\n",
    "otrzyma błąd:"
   ]
  },
  {
   "cell_type": "code",
   "execution_count": 17,
   "metadata": {
    "collapsed": false
   },
   "outputs": [
    {
     "name": "stdout",
     "output_type": "stream",
     "text": [
      "W trabancie nie można umieścić żadnego słownia, bo jest on już zajmowany przez myszy.\n"
     ]
    }
   ],
   "source": [
    "def liczba_miejsc_w_trabancie\n",
    "  0\n",
    "end\n",
    "\n",
    "ile_potrzeba_samochodow?(10)"
   ]
  },
  {
   "cell_type": "markdown",
   "metadata": {},
   "source": [
    "Przykład ten jest oczywiście bardzo rozbudowany, ale jeśli przyjrzymy się *stacktrace'owi*, to szybko możemy odnaleźć miejsce, które doprowadziło do wystąpienia błędu - przynajmniej pośrednio.\n",
    "\n",
    "Możliwość zidentyfikowania źródła błędu jest bardzo cenna, niemniej znacznie częściej będziemy chcieli, aby w takiej sytuacji program nadal działał. Co najwyżej dopuścimy specjalny komunikat dla użytkownika informujący o błędzie. \n",
    "\n",
    "Aby zabezpieczyć się przed wyjątkiem otaczamy \"kod specjalnej troski\" słowami kluczowymi `begin`, `rescue` i `end`:\n",
    "```ruby\n",
    "def oblicz_liczbe_pelnych_samochodow(liczba_sloni)\n",
    "  begin\n",
    "    liczba_sloni / liczba_miejsc_w_trabancie\n",
    "  rescue ZeroDivisionError\n",
    "    puts \"Nie dziel przez zero...\"\n",
    "    0\n",
    "  end\n",
    "end\n",
    "ile_potrzeba_samochodow?(10)\n",
    "```  "
   ]
  },
  {
   "cell_type": "code",
   "execution_count": 18,
   "metadata": {
    "collapsed": false
   },
   "outputs": [
    {
     "name": "stdout",
     "output_type": "stream",
     "text": [
      "Nie dziel przez zero...\n",
      "W trabancie nie można umieścić żadnego słownia, bo jest on już zajmowany przez myszy.\n"
     ]
    }
   ],
   "source": [
    "def oblicz_liczbe_pelnych_samochodow(liczba_sloni)\n",
    "  begin\n",
    "    liczba_sloni / liczba_miejsc_w_trabancie\n",
    "  rescue ZeroDivisionError\n",
    "    puts \"Nie dziel przez zero...\"\n",
    "    0\n",
    "  end\n",
    "end\n",
    "ile_potrzeba_samochodow?(10)"
   ]
  },
  {
   "cell_type": "markdown",
   "metadata": {},
   "source": [
    "Istotne pytanie, które pojawia się w tym kontekście dotyczy **miejsca**, w którym ma nastąpić obsługa błędu. Tak jak widzimy w powyższym przykładzie, obsługa wprost w funkcji `oblicz_liczbe_pelnych_samochodow` nie wystarczyła, ponieważ ten sam błąd występuje również w funkcji `obliczb_liczbe_niepelnych_samochodow`. Dlatego zdecydowanie lepszym miejscem obsługi błędu jest funkcja `ile_potrzeba_samochodow?`. \n",
    "\n",
    "```ruby\n",
    "# przywracamy poprzednią definicję tej funkcji\n",
    "def oblicz_liczbe_pelnych_samochodow(liczba_sloni)\n",
    "  liczba_sloni / liczba_miejsc_w_trabancie\n",
    "end\n",
    "\n",
    "# oraz dodajemy obsługę błędu na wyższym poziomie\n",
    "def ile_potrzeba_samochodow?(liczba_sloni)\n",
    "  begin\n",
    "    puts \"Aby przewieźć #{liczba_sloni} słowni potrzeba #{oblicz_liczbe_wszystkich_samochodow(liczba_sloni)} samochodów.\"\n",
    "  rescue ZeroDivisionError\n",
    "    puts \"W trabancie nie można umieścić żadnego słownia, bo jest on już zajmowany przez myszy.\"\n",
    "  end\n",
    "end\n",
    "ile_potrzeba_samochodow?(10)\n",
    "```"
   ]
  },
  {
   "cell_type": "code",
   "execution_count": 19,
   "metadata": {
    "collapsed": false
   },
   "outputs": [
    {
     "name": "stdout",
     "output_type": "stream",
     "text": [
      "W trabancie nie można umieścić żadnego słownia, bo jest on już zajmowany przez myszy.\n"
     ]
    }
   ],
   "source": [
    "# przywracamy poprzednią definicję tej funkcji\n",
    "def oblicz_liczbe_pelnych_samochodow(liczba_sloni)\n",
    "  liczba_sloni / liczba_miejsc_w_trabancie\n",
    "end\n",
    "\n",
    "# oraz dodajemy obsługę błędu na wyższym poziomie\n",
    "def ile_potrzeba_samochodow?(liczba_sloni)\n",
    "  begin\n",
    "    puts \"Aby przewieźć #{liczba_sloni} słowni potrzeba #{oblicz_liczbe_wszystkich_samochodow(liczba_sloni)} samochodów.\"\n",
    "  rescue ZeroDivisionError\n",
    "    puts \"W trabancie nie można umieścić żadnego słownia, bo jest on już zajmowany przez myszy.\"\n",
    "  end\n",
    "end\n",
    "ile_potrzeba_samochodow?(10)"
   ]
  },
  {
   "cell_type": "markdown",
   "metadata": {},
   "source": [
    "Udało nam się uporać z trabantami, które zostały już zajęte przez myszy. To nie są jednak wszystkie możliwe błędy, które mogą się pojawić. Jakiś mało rozgarnięty programista może np. wywołać funkcję w następujący sposób:\n",
    "```ruby\n",
    "ile_potrzeba_samochodow?(nil)\n",
    "```"
   ]
  },
  {
   "cell_type": "code",
   "execution_count": 7,
   "metadata": {
    "collapsed": false
   },
   "outputs": [
    {
     "ename": "NoMethodError",
     "evalue": "undefined method `/' for nil:NilClass",
     "output_type": "error",
     "traceback": [
      "\u001b[31mNoMethodError\u001b[0m: undefined method `/' for nil:NilClass",
      "\u001b[37m<main>:5:in `oblicz_liczbe_pelnych_samochodow'\u001b[0m",
      "\u001b[37m<main>:17:in `oblicz_liczbe_wszystkich_samochodow'\u001b[0m",
      "\u001b[37m<main>:22:in `ile_potrzeba_samochodow?'\u001b[0m",
      "\u001b[37m<main>:in `<main>'\u001b[0m",
      "\u001b[37m/usr/local/rvm/gems/ruby-2.0.0-p0/gems/iruby-0.1.13/lib/iruby/backend.rb:8:in `eval'\u001b[0m",
      "\u001b[37m/usr/local/rvm/gems/ruby-2.0.0-p0/gems/iruby-0.1.13/lib/iruby/backend.rb:8:in `eval'\u001b[0m",
      "\u001b[37m/usr/local/rvm/gems/ruby-2.0.0-p0/gems/iruby-0.1.13/lib/iruby/kernel.rb:110:in `execute_request'\u001b[0m",
      "\u001b[37m/usr/local/rvm/gems/ruby-2.0.0-p0/gems/iruby-0.1.13/lib/iruby/kernel.rb:62:in `run'\u001b[0m",
      "\u001b[37m/usr/local/rvm/gems/ruby-2.0.0-p0/gems/iruby-0.1.13/lib/iruby/command.rb:30:in `run_kernel'\u001b[0m",
      "\u001b[37m/usr/local/rvm/gems/ruby-2.0.0-p0/gems/iruby-0.1.13/lib/iruby/command.rb:16:in `run'\u001b[0m",
      "\u001b[37m/usr/local/rvm/gems/ruby-2.0.0-p0/gems/iruby-0.1.13/bin/iruby:6:in `<top (required)>'\u001b[0m",
      "\u001b[37m/usr/local/rvm/gems/ruby-2.0.0-p0/bin/iruby:23:in `load'\u001b[0m",
      "\u001b[37m/usr/local/rvm/gems/ruby-2.0.0-p0/bin/iruby:23:in `<main>'\u001b[0m",
      "\u001b[37m/usr/local/rvm/gems/ruby-2.0.0-p0/bin/ruby_noexec_wrapper:14:in `eval'\u001b[0m",
      "\u001b[37m/usr/local/rvm/gems/ruby-2.0.0-p0/bin/ruby_noexec_wrapper:14:in `<main>'\u001b[0m"
     ]
    }
   ],
   "source": [
    "ile_potrzeba_samochodow?(nil)"
   ]
  },
  {
   "cell_type": "markdown",
   "metadata": {},
   "source": [
    "Oczywiste jest, że nie potrzeba żadnego samochodu, jeśli w ogóle nie mamy słoni do przewiezienia. Wywołanie powyższego kodu skutkuje jednak innym błędem niż wcześniej: `NoMethodError`. Oznacza on, że obiekt `nil` nie ma metody pozwalającej na jego dzielenie (zarówno przez zero, jak przez dowolną inną wartość). Problem ten rozwiążemy również bezpośrednio w funkcji `ile_potrzeba_samochodow?` dodając kolejną klauzulę `rescue`:\n",
    "```ruby\n",
    "def ile_potrzeba_samochodow?(liczba_sloni)\n",
    "  begin\n",
    "    puts \"Aby przewieźć #{liczba_sloni} słowni potrzeba #{oblicz_liczbe_wszystkich_samochodow(liczba_sloni)} samochodów.\"\n",
    "  rescue ZeroDivisionError\n",
    "    puts \"W trabancie nie można umieścić żadnego słownia, bo jest on już zajmowany przez myszy.\"\n",
    "  rescue NoMethodError\n",
    "    puts \"Trzeba podać liczbę słoni a nie jakąś dziwną wartość: '#{liczba_sloni}' typu #{liczba_sloni.class}.\"\n",
    "  end\n",
    "end\n",
    "ile_potrzeba_samochodow?(nil)\n",
    "ile_potrzeba_samochodow?(\"5\")\n",
    "ile_potrzeba_samochodow?(/aaaa/)\n",
    "```"
   ]
  },
  {
   "cell_type": "code",
   "execution_count": 8,
   "metadata": {
    "collapsed": false
   },
   "outputs": [
    {
     "name": "stdout",
     "output_type": "stream",
     "text": [
      "Trzeba podać liczbę słoni a nie jakąś dziwną wartość: '' typu NilClass.\n",
      "Trzeba podać liczbę słoni a nie jakąś dziwną wartość: '5' typu String.\n",
      "Trzeba podać liczbę słoni a nie jakąś dziwną wartość: '(?-mix:aaaa)' typu Regexp.\n"
     ]
    }
   ],
   "source": [
    "def ile_potrzeba_samochodow?(liczba_sloni)\n",
    "  begin\n",
    "    puts \"Aby przewieźć #{liczba_sloni} słowni potrzeba #{oblicz_liczbe_wszystkich_samochodow(liczba_sloni)} samochodów.\"\n",
    "  rescue ZeroDivisionError\n",
    "    puts \"W trabancie nie można umieścić żadnego słownia, bo jest on już zajmowany przez myszy.\"\n",
    "  rescue NoMethodError\n",
    "    puts \"Trzeba podać liczbę słoni a nie jakąś dziwną wartość: '#{liczba_sloni}' typu #{liczba_sloni.class}.\"\n",
    "  end\n",
    "end\n",
    "ile_potrzeba_samochodow?(nil)\n",
    "ile_potrzeba_samochodow?(\"5\")\n",
    "ile_potrzeba_samochodow?(/aaaa/)"
   ]
  },
  {
   "cell_type": "markdown",
   "metadata": {},
   "source": [
    "Wiemy już jak obsługiwać wyjątki. A jak je zgłaszać? Służy do tego polecenie `raise`:\n",
    "```ruby\n",
    "raise \"Rzucam wyjątek bo tak.\"\n",
    "```"
   ]
  },
  {
   "cell_type": "code",
   "execution_count": 9,
   "metadata": {
    "collapsed": false
   },
   "outputs": [
    {
     "ename": "RuntimeError",
     "evalue": "Rzucam wyjątek bo tak.",
     "output_type": "error",
     "traceback": [
      "\u001b[31mRuntimeError\u001b[0m: Rzucam wyjątek bo tak.",
      "\u001b[37m<main>:in `<main>'\u001b[0m",
      "\u001b[37m/usr/local/rvm/gems/ruby-2.0.0-p0/gems/iruby-0.1.13/lib/iruby/backend.rb:8:in `eval'\u001b[0m",
      "\u001b[37m/usr/local/rvm/gems/ruby-2.0.0-p0/gems/iruby-0.1.13/lib/iruby/backend.rb:8:in `eval'\u001b[0m",
      "\u001b[37m/usr/local/rvm/gems/ruby-2.0.0-p0/gems/iruby-0.1.13/lib/iruby/kernel.rb:110:in `execute_request'\u001b[0m",
      "\u001b[37m/usr/local/rvm/gems/ruby-2.0.0-p0/gems/iruby-0.1.13/lib/iruby/kernel.rb:62:in `run'\u001b[0m",
      "\u001b[37m/usr/local/rvm/gems/ruby-2.0.0-p0/gems/iruby-0.1.13/lib/iruby/command.rb:30:in `run_kernel'\u001b[0m",
      "\u001b[37m/usr/local/rvm/gems/ruby-2.0.0-p0/gems/iruby-0.1.13/lib/iruby/command.rb:16:in `run'\u001b[0m",
      "\u001b[37m/usr/local/rvm/gems/ruby-2.0.0-p0/gems/iruby-0.1.13/bin/iruby:6:in `<top (required)>'\u001b[0m",
      "\u001b[37m/usr/local/rvm/gems/ruby-2.0.0-p0/bin/iruby:23:in `load'\u001b[0m",
      "\u001b[37m/usr/local/rvm/gems/ruby-2.0.0-p0/bin/iruby:23:in `<main>'\u001b[0m",
      "\u001b[37m/usr/local/rvm/gems/ruby-2.0.0-p0/bin/ruby_noexec_wrapper:14:in `eval'\u001b[0m",
      "\u001b[37m/usr/local/rvm/gems/ruby-2.0.0-p0/bin/ruby_noexec_wrapper:14:in `<main>'\u001b[0m"
     ]
    }
   ],
   "source": [
    "raise \"Rzucam wyjątek bo tak.\""
   ]
  },
  {
   "cell_type": "markdown",
   "metadata": {},
   "source": [
    "Jeśli nie podamy nazwy wyjątku, to domyślnie będzie to błąd `RuntimeError`. Aby rzucić wyjątek określonego typu, musimy użyć konstruktora, który przyjmuje komunikat wyjątki jako parametr wywołania:\n",
    "```ruby\n",
    "raise ArgumentError.new(\"Jakiś dziwny ten argument\")\n",
    "```"
   ]
  },
  {
   "cell_type": "code",
   "execution_count": 10,
   "metadata": {
    "collapsed": false
   },
   "outputs": [
    {
     "ename": "ArgumentError",
     "evalue": "Jakiś dziwny ten argument",
     "output_type": "error",
     "traceback": [
      "\u001b[31mArgumentError\u001b[0m: Jakiś dziwny ten argument",
      "\u001b[37m<main>:in `<main>'\u001b[0m",
      "\u001b[37m/usr/local/rvm/gems/ruby-2.0.0-p0/gems/iruby-0.1.13/lib/iruby/backend.rb:8:in `eval'\u001b[0m",
      "\u001b[37m/usr/local/rvm/gems/ruby-2.0.0-p0/gems/iruby-0.1.13/lib/iruby/backend.rb:8:in `eval'\u001b[0m",
      "\u001b[37m/usr/local/rvm/gems/ruby-2.0.0-p0/gems/iruby-0.1.13/lib/iruby/kernel.rb:110:in `execute_request'\u001b[0m",
      "\u001b[37m/usr/local/rvm/gems/ruby-2.0.0-p0/gems/iruby-0.1.13/lib/iruby/kernel.rb:62:in `run'\u001b[0m",
      "\u001b[37m/usr/local/rvm/gems/ruby-2.0.0-p0/gems/iruby-0.1.13/lib/iruby/command.rb:30:in `run_kernel'\u001b[0m",
      "\u001b[37m/usr/local/rvm/gems/ruby-2.0.0-p0/gems/iruby-0.1.13/lib/iruby/command.rb:16:in `run'\u001b[0m",
      "\u001b[37m/usr/local/rvm/gems/ruby-2.0.0-p0/gems/iruby-0.1.13/bin/iruby:6:in `<top (required)>'\u001b[0m",
      "\u001b[37m/usr/local/rvm/gems/ruby-2.0.0-p0/bin/iruby:23:in `load'\u001b[0m",
      "\u001b[37m/usr/local/rvm/gems/ruby-2.0.0-p0/bin/iruby:23:in `<main>'\u001b[0m",
      "\u001b[37m/usr/local/rvm/gems/ruby-2.0.0-p0/bin/ruby_noexec_wrapper:14:in `eval'\u001b[0m",
      "\u001b[37m/usr/local/rvm/gems/ruby-2.0.0-p0/bin/ruby_noexec_wrapper:14:in `<main>'\u001b[0m"
     ]
    }
   ],
   "source": [
    "raise ArgumentError.new(\"Jakiś dziwny ten argument\")"
   ]
  },
  {
   "cell_type": "markdown",
   "metadata": {},
   "source": [
    "Błąd tego rodzaju obsługujemy tak jak inne wyjątki:\n",
    "```ruby\n",
    "begin\n",
    "  raise ArgumentError.new(\"Jakiś dziwny ten argument\")\n",
    "rescue ArgumentError => ex\n",
    "  puts ex\n",
    "end\n",
    "```"
   ]
  },
  {
   "cell_type": "code",
   "execution_count": 11,
   "metadata": {
    "collapsed": false
   },
   "outputs": [
    {
     "name": "stdout",
     "output_type": "stream",
     "text": [
      "Jakiś dziwny ten argument\n"
     ]
    }
   ],
   "source": [
    "begin\n",
    "  raise ArgumentError.new(\"Jakiś dziwny ten argument\")\n",
    "rescue ArgumentError => ex\n",
    "  puts ex\n",
    "end"
   ]
  },
  {
   "cell_type": "markdown",
   "metadata": {},
   "source": [
    "W powyższym kodzie została zostosowana dodatkowa możliwość przy obsłudze wyjątków - przechwycenie ich do zmiennej, w tym wypadku `ex`. Zmienna taka zawiera wszystkie istotne informacje dotyczące wyjątku, m.in. komunikat i stos wywołań:\n",
    "```ruby\n",
    "begin\n",
    "  raise ArgumentError.new(\"Jakiś dziwny ten argument\")\n",
    "rescue ArgumentError => ex\n",
    "  puts ex\n",
    "  puts ex.backtrace[0..5]\n",
    "end\n",
    "```"
   ]
  },
  {
   "cell_type": "code",
   "execution_count": 12,
   "metadata": {
    "collapsed": false
   },
   "outputs": [
    {
     "name": "stdout",
     "output_type": "stream",
     "text": [
      "Jakiś dziwny ten argument\n",
      "[\"<main>:1:in `<main>'\", \"/usr/local/rvm/gems/ruby-2.0.0-p0/gems/iruby-0.1.13/lib/iruby/backend.rb:8:in `eval'\", \"/usr/local/rvm/gems/ruby-2.0.0-p0/gems/iruby-0.1.13/lib/iruby/backend.rb:8:in `eval'\", \"/usr/local/rvm/gems/ruby-2.0.0-p0/gems/iruby-0.1.13/lib/iruby/kernel.rb:110:in `execute_request'\", \"/usr/local/rvm/gems/ruby-2.0.0-p0/gems/iruby-0.1.13/lib/iruby/kernel.rb:62:in `run'\", \"/usr/local/rvm/gems/ruby-2.0.0-p0/gems/iruby-0.1.13/lib/iruby/command.rb:30:in `run_kernel'\"]\n"
     ]
    }
   ],
   "source": [
    "begin\n",
    "  raise ArgumentError.new(\"Jakiś dziwny ten argument\")\n",
    "rescue ArgumentError => ex\n",
    "  puts ex\n",
    "  puts ex.backtrace[0..5]\n",
    "end"
   ]
  },
  {
   "cell_type": "markdown",
   "metadata": {},
   "source": [
    "### Zadanie 1"
   ]
  },
  {
   "cell_type": "markdown",
   "metadata": {},
   "source": [
    "Zmodyfikuj funkcje `oblicz_liczbe_pelnych_samochodow` oraz `oblicz_liczbe_niepelnych_samochodow` tak by rzucały wyjątek `ArgumentError`, jeśli liczba słoni jest mniejsza od 0. Następnie zmodyfikuj funkcję `ile_potrzeba_samochodow?`, tak by obsługiwała ten wyjątek. W następnej kolejności zmodyfikuj funkcję `liczba_miejsc_w_trabancie`, tak by ponownie można było wozić słonie. Przetestuj główną funkcję przekazując jej różne parametry (również mało oczywiste). Czy tak zdefiniowana funkcja jest niezawodna?"
   ]
  },
  {
   "cell_type": "code",
   "execution_count": 42,
   "metadata": {
    "collapsed": false
   },
   "outputs": [
    {
     "name": "stdout",
     "output_type": "stream",
     "text": [
      "Aby przewieźć 109 słoni potrzeba 28 samochodów.\n"
     ]
    }
   ],
   "source": [
    "def liczba_miejsc_w_trabancie\n",
    "  4\n",
    "end\n",
    "\n",
    "def oblicz_liczbe_pelnych_samochodow(liczba_sloni)\n",
    "  begin\n",
    "   if liczba_sloni < 0\n",
    "    raise ArgumentError.new(\"Za mało słoni!\")\n",
    "   end\n",
    "        liczba_sloni / liczba_miejsc_w_trabancie\n",
    "  end\n",
    "end\n",
    "\n",
    "def oblicz_liczbe_niepelnych_samochodow(liczba_sloni)\n",
    "  begin\n",
    "    if liczba_sloni % liczba_miejsc_w_trabancie == 0\n",
    "      0\n",
    "      if liczba_sloni < 0\n",
    "        raise ArgumentError.new(\"Liczba jest mniejsza od 0!\") \n",
    "      end\n",
    "      else\n",
    "      1\n",
    "    end\n",
    "    \n",
    " # rescue ArgumentError\n",
    "  #  puts \"Liczba słoni jest mniejsza od 0!\"\n",
    "  end\n",
    "end\n",
    "\n",
    "def oblicz_liczbe_wszystkich_samochodow(liczba_sloni)\n",
    "  oblicz_liczbe_pelnych_samochodow(liczba_sloni) + oblicz_liczbe_niepelnych_samochodow(liczba_sloni)\n",
    "end\n",
    "\n",
    "\n",
    "def ile_potrzeba_samochodow?(liczba_sloni)\n",
    "  begin\n",
    "    puts \"Aby przewieźć #{liczba_sloni} słoni potrzeba #{oblicz_liczbe_wszystkich_samochodow(liczba_sloni)} samochodów.\"\n",
    "  rescue ZeroDivisionError\n",
    "    puts \"W trabancie nie można umieścić żadnego słonia, bo jest on już zajmowany przez myszy.\"\n",
    "  rescue NoMethodError\n",
    "    puts \"Trzeba podać liczbę słoni a nie jakąś dziwną wartość: '#{liczba_sloni}' typu #{liczba_sloni.class}.\"\n",
    "    rescue ArgumentError\n",
    "      puts \"Liczba słoni jest mniejsza niż 0!\"\n",
    "  end\n",
    "end\n",
    "\n",
    "ile_potrzeba_samochodow?(109)"
   ]
  },
  {
   "cell_type": "markdown",
   "metadata": {},
   "source": [
    "## Obsługa plików"
   ]
  },
  {
   "cell_type": "markdown",
   "metadata": {},
   "source": [
    "Dwie podstawowe operacje na plikach to odczytywanie i zapisywanie danych do pliku. \n",
    "\n",
    "Obie operacje wymagają aby plik został najpierw *otwarty*. Służy do tego metoda `File.open`, która wymaga podania ścieżki do pliku:\n",
    "```ruby\n",
    "plik = File.open(\"data/authors.csv\")\n",
    "puts plik.readline\n",
    "plik.close\n",
    "```"
   ]
  },
  {
   "cell_type": "code",
   "execution_count": 43,
   "metadata": {
    "collapsed": false
   },
   "outputs": [
    {
     "name": "stdout",
     "output_type": "stream",
     "text": [
      "Orson_Scott_Card,1951-08-24,,http://commons.wikimedia.org/wiki/Special:FilePath/Orson_Scott_Card_at_BYU_Symposium_20080216_closeup.jpg?width=300\n",
      "\n"
     ]
    }
   ],
   "source": [
    "plik = File.open(\"data/authors.csv\")\n",
    "puts plik.readline\n",
    "plik.close"
   ]
  },
  {
   "cell_type": "markdown",
   "metadata": {},
   "source": [
    "Po otwarciu pliku, można na nim wykonywać operacje. W powyższym przykładzie metoda `readline` wczytała pierwszą linię pliku. Po jej wyświetleniu plik został zamknięty poleceniem `close`.\n",
    "\n",
    "Ponieważ po otwarciu pliku trzeba go zawsze zamknąć (choć programiści i programistki często o tym zapominają), Ruby oferuje alternatywną składnie do obsługi plików:\n",
    "```ruby\n",
    "File.open(\"data/authors.csv\") do |plik|\n",
    "  puts plik.readline\n",
    "end\n",
    "```"
   ]
  },
  {
   "cell_type": "code",
   "execution_count": 44,
   "metadata": {
    "collapsed": false
   },
   "outputs": [
    {
     "name": "stdout",
     "output_type": "stream",
     "text": [
      "Orson_Scott_Card,1951-08-24,,http://commons.wikimedia.org/wiki/Special:FilePath/Orson_Scott_Card_at_BYU_Symposium_20080216_closeup.jpg?width=300\n",
      "\n"
     ]
    }
   ],
   "source": [
    "File.open(\"data/authors.csv\") do |plik|\n",
    "  puts plik.readline\n",
    "end"
   ]
  },
  {
   "cell_type": "markdown",
   "metadata": {},
   "source": [
    "Jej przewaga nad poprzednią metodą jest taka, że po opuszczeniu bloku `do` ... `end` plik zostanie automatycznie zamknięty. A jeśli zapomnielibyśmy słowa `end`, to program się po prostu nie wykona (wystąpi błąd składni).\n",
    "\n",
    "Wyświetlenie 10 pierwszych wierszy wygląda następująco:\n",
    "```ruby\n",
    "File.open(\"data/authors.csv\") do |plik|\n",
    "  10.times do \n",
    "    puts plik.readline\n",
    "  end\n",
    "end\n",
    "```"
   ]
  },
  {
   "cell_type": "code",
   "execution_count": 45,
   "metadata": {
    "collapsed": false
   },
   "outputs": [
    {
     "name": "stdout",
     "output_type": "stream",
     "text": [
      "Orson_Scott_Card,1951-08-24,,http://commons.wikimedia.org/wiki/Special:FilePath/Orson_Scott_Card_at_BYU_Symposium_20080216_closeup.jpg?width=300\n",
      "\n",
      "Andrzej_Sapkowski,1948-06-21,,http://commons.wikimedia.org/wiki/Special:FilePath/Sapkowski.jpg?width=300\n",
      "\n",
      "Jack_London,1876-01-12,1916-11-22,http://commons.wikimedia.org/wiki/Special:FilePath/JackLondon02.jpeg?width=300\n",
      "\n",
      "Henning_Mankell,1948-02-03,,http://commons.wikimedia.org/wiki/Special:FilePath/Henning_Mankell_3_2011_Shankbone.jpg?width=300\n",
      "\n",
      "Stanisław_Lem,1921-09-12,2006-03-27,http://commons.wikimedia.org/wiki/Special:FilePath/Stanislaw_Lem_2.jpg?width=300\n",
      "\n",
      "Antoni_Gołubiew,1907-02-25,1979-06-27,http://commons.wikimedia.org/wiki/Special:FilePath/Antoni_Golubiew.jpg?width=300\n",
      "\n",
      "Mikołaj_Kopernik,1473-02-19,1543-05-24,http://commons.wikimedia.org/wiki/Special:FilePath/Nikolaus_Kopernikus.jpg?width=300\n",
      "\n",
      "Maria_Franciszka_Kozłowska,1862-05-27,,http://commons.wikimedia.org/wiki/Special:FilePath/Mateczk_Kozłowska.JPG?width=300\n",
      "\n",
      "George_Orwell,1903-06-25,1950-01-21,http://commons.wikimedia.org/wiki/Special:FilePath/GeoreOrwell.jpg?width=300\n",
      "\n",
      "William_Szekspir,1564-04-23,1616-05-03,http://commons.wikimedia.org/wiki/Special:FilePath/Shakespeare.jpg?width=300\n",
      "\n"
     ]
    },
    {
     "data": {
      "text/plain": [
       "10"
      ]
     },
     "execution_count": 45,
     "metadata": {},
     "output_type": "execute_result"
    }
   ],
   "source": [
    "File.open(\"data/authors.csv\") do |plik|\n",
    "  10.times do \n",
    "    puts plik.readline\n",
    "  end\n",
    "end"
   ]
  },
  {
   "cell_type": "markdown",
   "metadata": {},
   "source": [
    "Ponieważ linie w pliku zakończone są znakiem przejścia do nowej linii, warto pamiętać o zastosowaniu funkcji `chomp` przy wyświetlaniu poszczególnych wierszy:\n",
    "```ruby\n",
    "File.open(\"data/authors.csv\") do |plik|\n",
    "  10.times do \n",
    "    puts plik.readline.chomp\n",
    "  end\n",
    "end\n",
    "```"
   ]
  },
  {
   "cell_type": "code",
   "execution_count": 46,
   "metadata": {
    "collapsed": false
   },
   "outputs": [
    {
     "name": "stdout",
     "output_type": "stream",
     "text": [
      "Orson_Scott_Card,1951-08-24,,http://commons.wikimedia.org/wiki/Special:FilePath/Orson_Scott_Card_at_BYU_Symposium_20080216_closeup.jpg?width=300\n",
      "Andrzej_Sapkowski,1948-06-21,,http://commons.wikimedia.org/wiki/Special:FilePath/Sapkowski.jpg?width=300\n",
      "Jack_London,1876-01-12,1916-11-22,http://commons.wikimedia.org/wiki/Special:FilePath/JackLondon02.jpeg?width=300\n",
      "Henning_Mankell,1948-02-03,,http://commons.wikimedia.org/wiki/Special:FilePath/Henning_Mankell_3_2011_Shankbone.jpg?width=300\n",
      "Stanisław_Lem,1921-09-12,2006-03-27,http://commons.wikimedia.org/wiki/Special:FilePath/Stanislaw_Lem_2.jpg?width=300\n",
      "Antoni_Gołubiew,1907-02-25,1979-06-27,http://commons.wikimedia.org/wiki/Special:FilePath/Antoni_Golubiew.jpg?width=300\n",
      "Mikołaj_Kopernik,1473-02-19,1543-05-24,http://commons.wikimedia.org/wiki/Special:FilePath/Nikolaus_Kopernikus.jpg?width=300\n",
      "Maria_Franciszka_Kozłowska,1862-05-27,,http://commons.wikimedia.org/wiki/Special:FilePath/Mateczk_Kozłowska.JPG?width=300\n",
      "George_Orwell,1903-06-25,1950-01-21,http://commons.wikimedia.org/wiki/Special:FilePath/GeoreOrwell.jpg?width=300\n",
      "William_Szekspir,1564-04-23,1616-05-03,http://commons.wikimedia.org/wiki/Special:FilePath/Shakespeare.jpg?width=300\n"
     ]
    },
    {
     "data": {
      "text/plain": [
       "10"
      ]
     },
     "execution_count": 46,
     "metadata": {},
     "output_type": "execute_result"
    }
   ],
   "source": [
    "File.open(\"data/authors.csv\") do |plik|\n",
    "  10.times do \n",
    "    puts plik.readline.chomp\n",
    "  end\n",
    "end"
   ]
  },
  {
   "cell_type": "markdown",
   "metadata": {},
   "source": [
    "Poszczególne wiersze wczytywane za pomocą polecenia `readline` są po prostu łańcuchami znaków. Jeśli chcemy np. wyświetlić pierwsze pole w pliku, w którym stosuje się przecinek do oddzielenia pól (format CSV), to możemy zrobić to następująco:\n",
    "```ruby\n",
    "File.open(\"data/authors.csv\") do |plik|\n",
    "  10.times do \n",
    "    puts plik.readline.chomp.split(\",\").first\n",
    "  end\n",
    "end\n",
    "```"
   ]
  },
  {
   "cell_type": "code",
   "execution_count": 47,
   "metadata": {
    "collapsed": false
   },
   "outputs": [
    {
     "name": "stdout",
     "output_type": "stream",
     "text": [
      "Orson_Scott_Card\n",
      "Andrzej_Sapkowski\n",
      "Jack_London\n",
      "Henning_Mankell\n",
      "Stanisław_Lem\n",
      "Antoni_Gołubiew\n",
      "Mikołaj_Kopernik\n",
      "Maria_Franciszka_Kozłowska\n",
      "George_Orwell\n",
      "William_Szekspir\n"
     ]
    },
    {
     "data": {
      "text/plain": [
       "10"
      ]
     },
     "execution_count": 47,
     "metadata": {},
     "output_type": "execute_result"
    }
   ],
   "source": [
    "File.open(\"data/authors.csv\") do |plik|\n",
    "  10.times do \n",
    "    puts plik.readline.chomp.split(\",\").first\n",
    "  end\n",
    "end"
   ]
  },
  {
   "cell_type": "markdown",
   "metadata": {},
   "source": [
    "Do obsługi tego formatu istnieje osobna klasa `CSV`, która np. bierzę pod uwagę, to, że przecinek może również być treścią pola. Ponadto obsługa plików `csv` za pomocą tej klasy jest znacznie szybsza. Klasa ta nie jest jednak domyślnie dostępna, dlatego trzeba załadować ją za pomocą polecenia `require`. Ponadto wczytywanie kolejnych wierszy odbywa się za pomocą metody `shift`:\n",
    "```ruby\n",
    "require 'csv'\n",
    "CSV.open(\"data/authors.csv\") do |plik|\n",
    "  10.times do \n",
    "    puts plik.shift.first\n",
    "  end\n",
    "end\n",
    "```"
   ]
  },
  {
   "cell_type": "code",
   "execution_count": 48,
   "metadata": {
    "collapsed": false
   },
   "outputs": [
    {
     "name": "stdout",
     "output_type": "stream",
     "text": [
      "Orson_Scott_Card\n",
      "Andrzej_Sapkowski\n",
      "Jack_London\n",
      "Henning_Mankell\n",
      "Stanisław_Lem\n",
      "Antoni_Gołubiew\n",
      "Mikołaj_Kopernik\n",
      "Maria_Franciszka_Kozłowska\n",
      "George_Orwell\n",
      "William_Szekspir\n"
     ]
    },
    {
     "data": {
      "text/plain": [
       "10"
      ]
     },
     "execution_count": 48,
     "metadata": {},
     "output_type": "execute_result"
    }
   ],
   "source": [
    "require 'csv'\n",
    "CSV.open(\"data/authors.csv\") do |plik|\n",
    "  10.times do \n",
    "    puts plik.shift.first\n",
    "  end\n",
    "end"
   ]
  },
  {
   "cell_type": "markdown",
   "metadata": {},
   "source": [
    "Zapisywanie do pliku jest bardzo podobne do wyświetlania treści na ekranie. Zapis do kolejnych linii realizowany jest za pomocą polecenia `puts`. Jednakże próba zapisu do nieistniejącego pliku kończy się porażką:\n",
    "```ruby\n",
    "File.open(\"data/moj_plik.txt\") do |plik|\n",
    "  1.upto(10) do |indeks|\n",
    "    plik.puts \"To jest #{indeks} linia\"\n",
    "  end\n",
    "end\n",
    "```"
   ]
  },
  {
   "cell_type": "code",
   "execution_count": 49,
   "metadata": {
    "collapsed": false
   },
   "outputs": [
    {
     "ename": "Errno::ENOENT",
     "evalue": "No such file or directory - data/moj_plik.txt",
     "output_type": "error",
     "traceback": [
      "\u001b[31mErrno::ENOENT\u001b[0m: No such file or directory - data/moj_plik.txt",
      "\u001b[37m<main>:in `initialize'\u001b[0m",
      "\u001b[37m<main>:in `open'\u001b[0m",
      "\u001b[37m<main>:in `<main>'\u001b[0m",
      "\u001b[37m/usr/local/rvm/gems/ruby-2.0.0-p0/gems/iruby-0.1.13/lib/iruby/backend.rb:8:in `eval'\u001b[0m",
      "\u001b[37m/usr/local/rvm/gems/ruby-2.0.0-p0/gems/iruby-0.1.13/lib/iruby/backend.rb:8:in `eval'\u001b[0m",
      "\u001b[37m/usr/local/rvm/gems/ruby-2.0.0-p0/gems/iruby-0.1.13/lib/iruby/kernel.rb:110:in `execute_request'\u001b[0m",
      "\u001b[37m/usr/local/rvm/gems/ruby-2.0.0-p0/gems/iruby-0.1.13/lib/iruby/kernel.rb:62:in `run'\u001b[0m",
      "\u001b[37m/usr/local/rvm/gems/ruby-2.0.0-p0/gems/iruby-0.1.13/lib/iruby/command.rb:30:in `run_kernel'\u001b[0m",
      "\u001b[37m/usr/local/rvm/gems/ruby-2.0.0-p0/gems/iruby-0.1.13/lib/iruby/command.rb:16:in `run'\u001b[0m",
      "\u001b[37m/usr/local/rvm/gems/ruby-2.0.0-p0/gems/iruby-0.1.13/bin/iruby:6:in `<top (required)>'\u001b[0m",
      "\u001b[37m/usr/local/rvm/gems/ruby-2.0.0-p0/bin/iruby:23:in `load'\u001b[0m",
      "\u001b[37m/usr/local/rvm/gems/ruby-2.0.0-p0/bin/iruby:23:in `<main>'\u001b[0m",
      "\u001b[37m/usr/local/rvm/gems/ruby-2.0.0-p0/bin/ruby_noexec_wrapper:14:in `eval'\u001b[0m",
      "\u001b[37m/usr/local/rvm/gems/ruby-2.0.0-p0/bin/ruby_noexec_wrapper:14:in `<main>'\u001b[0m"
     ]
    }
   ],
   "source": [
    "File.open(\"data/moj_plik.txt\") do |plik|\n",
    "  1.upto(10) do |indeks|\n",
    "    plik.puts \"To jest #{indeks} linia\"\n",
    "  end\n",
    "end"
   ]
  },
  {
   "cell_type": "markdown",
   "metadata": {},
   "source": [
    "W powyższym wywołaniu wystąpił wyjątek `Errno::ENOENT`, oznaczający, że plik, który chcieliśmy otworzyć nie isnieje. Aby rozwiązać ten problem, konieczne jest zmodyfikowanie wywołania funkcji `open`, przez dodanie flagi \"w\" informującej, że plik otwierany jest w trybie *do zapisu*:\n",
    "```ruby\n",
    "File.open(\"data/moj_plik.txt\",\"w\") do |plik|\n",
    "  1.upto(10) do |indeks|\n",
    "    plik.puts \"To jest #{indeks} linia\"\n",
    "  end\n",
    "end\n",
    "```"
   ]
  },
  {
   "cell_type": "code",
   "execution_count": 50,
   "metadata": {
    "collapsed": false
   },
   "outputs": [
    {
     "data": {
      "text/plain": [
       "1"
      ]
     },
     "execution_count": 50,
     "metadata": {},
     "output_type": "execute_result"
    }
   ],
   "source": [
    "File.open(\"data/moj_plik.txt\",\"w\") do |plik|\n",
    "  1.upto(10) do |indeks|\n",
    "    plik.puts \"To jest #{indeks} linia\"\n",
    "  end\n",
    "end"
   ]
  },
  {
   "cell_type": "markdown",
   "metadata": {},
   "source": [
    "To że kod faktycznie zadziałał można zweryfikować zaglądając do pliku `data/moj_plik.txt`."
   ]
  },
  {
   "cell_type": "markdown",
   "metadata": {},
   "source": [
    "### Zadanie 2"
   ]
  },
  {
   "cell_type": "markdown",
   "metadata": {},
   "source": [
    "Napisz program, który przepisze wszystkie pierwsze pola (czyli nazwiska autorów) z pliku `data/authors.csv` do pliku `data/names.txt`. W nazwiskach znaki podkreślenia mają zostać zastąpione spacjami. Aby odwiedzić wszystkie wiersze w pliku użyj metody `each`. Zwróć uwagę, że plik do którego zapisujesz i plik który odczytujesz muszą być dostępne za pomocą innych zmiennych (przujmując, że pracujemy na obu plikach jednocześnie) oraz, że w pliku `authors.csv` jest więcej pozycji niż 10."
   ]
  },
  {
   "cell_type": "code",
   "execution_count": 4,
   "metadata": {
    "collapsed": false
   },
   "outputs": [],
   "source": [
    "require 'csv'\n",
    "CSV.open(\"data/authors.csv\") do |plik_authors|\n",
    "  File.open(\"data/names.txt\",\"w\") do |plik_names|\n",
    "    plik_authors.each do |linijka|\n",
    "      plik_names.puts linijka[0].gsub(/_/, ' ')\n",
    "    end\n",
    "  end\n",
    "end"
   ]
  },
  {
   "cell_type": "markdown",
   "metadata": {},
   "source": [
    "### Zadanie 3"
   ]
  },
  {
   "cell_type": "markdown",
   "metadata": {},
   "source": [
    "Wykonaj to samo zadanie co w poprzednim ćwiczeniu, uwzględniając następujące różnice:\n",
    "* dane mają trafić do pliku `data/sorted_names.txt`,\n",
    "* dane mają być posortowane zgodnie z porządkiem alfabetycznym.\n",
    "\n",
    "Możesz pomiąć fakt, że w pliku na pierwszym miejscu pojawia się imię, a nie nazwisko autora."
   ]
  },
  {
   "cell_type": "code",
   "execution_count": 5,
   "metadata": {
    "collapsed": false
   },
   "outputs": [],
   "source": []
  },
  {
   "cell_type": "code",
   "execution_count": 7,
   "metadata": {
    "collapsed": false
   },
   "outputs": [
    {
     "data": {
      "text/plain": [
       "[\"Adam Mickiewicz\", \"Adam Zelga\", \"Adolf Hitler\", \"Aldous Huxley\", \"Aleksander Dumas (ojciec)\", \"Aleksander Majkowski\", \"Alfred Szklarski\", \"Andrzej Pilipiuk\", \"Andrzej Sapkowski\", \"Anne Rice\", \"Antoni Gołubiew\", \"Benedykt Chmielowski\", \"Boris Akunin\", \"Christopher Tolkien\", \"Clive Staples Lewis\", \"Dorota Terakowska\", \"Eliza Orzeszkowa\", \"Franz Kafka\", \"Gabriela Zapolska\", \"Gene Wolfe\", \"George Orwell\", \"George R. R. Martin\", \"Henning Mankell\", \"Henryk Sienkiewicz\", \"Honoré de Balzac\", \"Howard Phillips Lovecraft\", \"Ian Fleming\", \"Ilja Ilf\", \"Isaac Asimov\", \"Iwan Turgieniew\", \"J. K. Rowling\", \"Jack London\", \"Jan Kochanowski\", \"Jan Paweł II\", \"Janusz Zajdel\", \"Jeffery Deaver\", \"Jewgienij Pietrow (pisarz)\", \"John Ronald Reuel Tolkien\", \"Karol Olgierd Borchardt\", \"Lew Tołstoj\", \"Lucy Maud Montgomery\", \"Maria Franciszka Kozłowska\", \"Mikołaj Kopernik\", \"Orson Scott Card\", \"Paulo Coelho\", \"Rafał A. Ziemkiewicz\", \"Ryszard Kapuściński\", \"Stanisław Lem\", \"Tadeusz Dołęga-Mostowicz\", \"Terry Pratchett\", \"Tom Clancy\", \"Ursula K. Le Guin\", \"Vladimir Nabokov\", \"William Szekspir\"]"
      ]
     },
     "execution_count": 7,
     "metadata": {},
     "output_type": "execute_result"
    }
   ],
   "source": [
    "require 'csv'\n",
    "CSV.open(\"data/authors.csv\") do |infile|\n",
    "  File.open(\"data/sorted_names.txt\", \"w\") do |outfile|\n",
    "    infile.map{|elem| elem.first.gsub(/_/, ' ')}.sort.each{|a| outfile.print a + \"\\n\"}\n",
    "  end\n",
    "end"
   ]
  }
 ],
 "metadata": {
  "kernelspec": {
   "display_name": "Ruby 2.2.3",
   "language": "ruby",
   "name": "ruby"
  },
  "language_info": {
   "file_extension": "rb",
   "mimetype": "application/x-ruby",
   "name": "ruby",
   "version": "2.2.3"
  }
 },
 "nbformat": 4,
 "nbformat_minor": 0
}
