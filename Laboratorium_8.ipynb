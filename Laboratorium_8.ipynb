{
 "metadata": {
  "language": "ruby",
  "name": "",
  "signature": "sha256:125c4020cdf0dd8f3c7ef706575232632a6a193def7f76664f390c5034fe3540"
 },
 "nbformat": 3,
 "nbformat_minor": 0,
 "worksheets": [
  {
   "cells": [
    {
     "cell_type": "heading",
     "level": 1,
     "metadata": {},
     "source": [
      "Zapytania z\u0142o\u017cone"
     ]
    },
    {
     "cell_type": "markdown",
     "metadata": {},
     "source": [
      "Przed rozpocz\u0119ciem pracy konieczne jest skonfigurowanie bazy oraz za\u0142adowanie danych:\n",
      "```ruby\n",
      "$:.unshift \".\"\n",
      "require 'db_setup'\n",
      "require 'db_load'\n",
      "```"
     ]
    },
    {
     "cell_type": "code",
     "collapsed": false,
     "input": [
      "$:.unshift \".\"\n",
      "require 'db_setup'\n",
      "require 'db_load'"
     ],
     "language": "python",
     "metadata": {},
     "outputs": [
      {
       "output_type": "stream",
       "stream": "stdout",
       "text": [
        "==  AddIndicesMigration: migrating ============================================\n"
       ]
      },
      {
       "output_type": "stream",
       "stream": "stdout",
       "text": [
        "==  AddIndicesMigration: migrated (0.0000s) ===================================\n"
       ]
      },
      {
       "output_type": "stream",
       "stream": "stdout",
       "text": [
        "\n"
       ]
      },
      {
       "metadata": {},
       "output_type": "pyout",
       "prompt_number": 2,
       "text": [
        "true"
       ]
      }
     ],
     "prompt_number": 2
    },
    {
     "cell_type": "markdown",
     "metadata": {},
     "source": [
      "W dalszych zadaniach b\u0119dzie wykonywa\u0107 polecenia korzystaj\u0105c z nast\u0119puj\u0105cych klas, zmapowanych na odpowiadaj\u0105ce im \n",
      "table w bazie danych:\n",
      "```ruby\n",
      "class Author < ActiveRecord::Base\n",
      "  # name      (string)\n",
      "  # surname   (string)\n",
      "  # born      (datetime) \n",
      "  # died      (datetime)\n",
      "  # image_url (string)\n",
      "  \n",
      "  has_many :books\n",
      "end\n",
      "\n",
      "class Book < ActiveRecord::Base\n",
      "  # title     (string)\n",
      "  # author    (Author)\n",
      "  # published (integer)\n",
      "\n",
      "  belongs_to :author\n",
      "end\n",
      "```"
     ]
    },
    {
     "cell_type": "markdown",
     "metadata": {},
     "source": [
      "ActiveRecord udost\u0119pnia interfejs pozwalaj\u0105cy wyszukiwa\u0107 dane w bazie r\u00f3wnie\u017c z wykorzystaniem zwi\u0105zk\u00f3w zdefiniowanych pomi\u0119dzy\n",
      "klasami. Do definiowania tych zwi\u0105zk\u00f3w s\u0142u\u017c\u0105 polecenia `has_many`, `belongs_to`, `has_one` oraz `has_and_belongs_to_many`.\n",
      "Przyk\u0142adowo je\u015bli chcemy dowiedzie\u0107 si\u0119 kto by\u0142 autorem pierwszej ksi\u0105\u017cki wykonujemy zapytanie:\n",
      "```ruby\n",
      "book = Book.first\n",
      "puts book.title\n",
      "puts book.author\n",
      "```"
     ]
    },
    {
     "cell_type": "code",
     "collapsed": false,
     "input": [
      "book = Book.first\n",
      "puts book.title\n",
      "puts book.author"
     ],
     "language": "python",
     "metadata": {},
     "outputs": [
      {
       "output_type": "stream",
       "stream": "stdout",
       "text": [
        "V\u00e9gj\u00e1t\u00e9k (reg\u00e9ny)\n"
       ]
      },
      {
       "output_type": "stream",
       "stream": "stdout",
       "text": [
        "#<Author:0x00000003bdc6f0>\n"
       ]
      }
     ],
     "prompt_number": 2
    },
    {
     "cell_type": "markdown",
     "metadata": {},
     "source": [
      "Niestety prezentowany wynik nie jest zbyt u\u017cyteczny. Poniewa\u017c jednak metoda `author` zwraca obiekt, mo\u017cemy na nim wywo\u0142ywa\u0107 \n",
      "metody - tak samo jak w przypadku autora za\u0142adowanego bezpo\u015brednio z wykorzystaniem metod zdefiniowanych dla klasy `Author`\n",
      "```ruby\n",
      "book = Book.first\n",
      "puts book.title\n",
      "puts \"#{book.author.name} #{book.author.surname}\"\n",
      "```"
     ]
    },
    {
     "cell_type": "code",
     "collapsed": false,
     "input": [
      "book = Book.first\n",
      "puts book.title\n",
      "puts \"#{book.author.name} #{book.author.surname}\""
     ],
     "language": "python",
     "metadata": {},
     "outputs": [
      {
       "output_type": "stream",
       "stream": "stdout",
       "text": [
        "V\u00e9gj\u00e1t\u00e9k (reg\u00e9ny)\n"
       ]
      },
      {
       "output_type": "stream",
       "stream": "stdout",
       "text": [
        "Orson Scott Card\n"
       ]
      }
     ],
     "prompt_number": 3
    },
    {
     "cell_type": "markdown",
     "metadata": {},
     "source": [
      "Co wi\u0119cej, je\u015bli mamy do czynienia ze zwi\u0105zkiem jeden-do-wiele b\u0105d\u017a wiele-do-wiele, mo\u017cemy wywy\u0142ywa\u0107 wszystkie dotychczas poznane \n",
      "metody na kolekcji powi\u0105zanych obiekt\u00f3w. Istotnie u\u0142atwia to wyszukiwanie potrzebnych danych:\n",
      "```ruby\n",
      "books = Book.where(\"title like 'A%'\")\n",
      "books.each do |book|\n",
      "  puts book.title\n",
      "end\n",
      "\n",
      "author = Author.where(surname: \"To\u0142stoj\").first\n",
      "books = author.books.where(\"title like 'A%'\")\n",
      "books.each do |book|\n",
      "  puts book.title\n",
      "end\n",
      "```"
     ]
    },
    {
     "cell_type": "code",
     "collapsed": false,
     "input": [
      "books = Book.where(\"title like 'A%'\")\n",
      "books.each do |book|\n",
      "  puts book.title\n",
      "end\n",
      "\n",
      "author = Author.where(surname: \"To\u0142stoj\").first\n",
      "books = author.books.where(\"title like 'A%'\")\n",
      "books.each do |book|\n",
      "  puts book.title\n",
      "end"
     ],
     "language": "python",
     "metadata": {},
     "outputs": [
      {
       "output_type": "stream",
       "stream": "stdout",
       "text": [
        "Anna Karenina\n"
       ]
      },
      {
       "output_type": "stream",
       "stream": "stdout",
       "text": [
        "Azazel (powie\u015b\u0107)\n"
       ]
      },
      {
       "output_type": "stream",
       "stream": "stdout",
       "text": [
        "Anna Karenina\n"
       ]
      },
      {
       "metadata": {},
       "output_type": "pyout",
       "prompt_number": 4,
       "text": [
        "[#<Book id: 33, title: \"Anna Karenina\", language: nil, author_id: 30, published: 1877, image_url: \"http://commons.wikimedia.org/wiki/Special:FilePath...\">]"
       ]
      }
     ],
     "prompt_number": 4
    },
    {
     "cell_type": "markdown",
     "metadata": {},
     "source": [
      "R\u00f3\u017cnica pomi\u0119dzy tymi zapytaniami polega na tym, \u017ce w pierwszym przypadku szukamy ksi\u0105\u017cki, kt\u00f3rych tytu\u0142 zaczyna si\u0119 na \"A\" \n",
      "w ca\u0142ym zbiorze ksi\u0105\u017cek, a w drugi przypadku w\u015br\u00f3d ksi\u0105\u017cek napisanych przez To\u0142stoja."
     ]
    },
    {
     "cell_type": "markdown",
     "metadata": {},
     "source": [
      "Aby umo\u017cliwi\u0107 formatowanie wynik\u00f3w zapytania, IRuby udost\u0119pnia metod\u0119 `IRuby.html`, kt\u00f3ra pozwala na wy\u015bwietlanie kodu\n",
      "HTML. Przyk\u0142adowo\n",
      "```ruby\n",
      "IRuby.html \"<h1>Test HTML-a</h1>\"\n",
      "```"
     ]
    },
    {
     "cell_type": "code",
     "collapsed": false,
     "input": [
      "IRuby.html \"<h1>Test HTML-a</h1>\""
     ],
     "language": "python",
     "metadata": {},
     "outputs": [
      {
       "html": [
        "<h1>Test HTML-a</h1>"
       ],
       "metadata": {},
       "output_type": "pyout",
       "prompt_number": 5,
       "text": [
        "\"<h1>Test HTML-a</h1>\""
       ]
      }
     ],
     "prompt_number": 5
    },
    {
     "cell_type": "markdown",
     "metadata": {},
     "source": [
      "Dzi\u0119ki temu b\u0119dziemy mogli formatowa\u0107 wyniki zapyta\u0144, a wszczeg\u00f3lno\u015bci wy\u015bwietla\u0107 obrazy przedstwiaj\u0105ce autor\u00f3w oraz ksi\u0105\u017cki. \n",
      "Nale\u017cy jednak wzi\u0105\u0107 pod uwag\u0119, \u017ce nie wszystkie ksi\u0105\u017cki oraz nie wszyscy autorzy posiadaj\u0105 odpowiadaj\u0105ce im obrazki.\n",
      "Aby wy\u015bwietli\u0107 imi\u0119, nazwisko oraz obraz pierwszego autora piszemy:\n",
      "```ruby\n",
      "author = Author.where(\"image_url is not null\").first\n",
      "IRuby.html \"<h1>#{author.name} #{author.surname}</h1><img src='#{author.image_url}'/>\"\n",
      "```"
     ]
    },
    {
     "cell_type": "code",
     "collapsed": false,
     "input": [
      "author = Author.where(\"image_url is not null\").first\n",
      "IRuby.html \"<h1>#{author.name} #{author.surname}</h1><img src='#{author.image_url}'/>\""
     ],
     "language": "python",
     "metadata": {},
     "outputs": [
      {
       "html": [
        "<h1>Orson Scott Card</h1><img src='http://commons.wikimedia.org/wiki/Special:FilePath/Orson_Scott_Card_at_BYU_Symposium_20080216_closeup.jpg?width=300'/>"
       ],
       "metadata": {},
       "output_type": "pyout",
       "prompt_number": 6,
       "text": [
        "\"<h1>Orson Scott Card</h1><img src='http://commons.wikimedia.org/wiki/Special:FilePath/Orson_Scott_Card_at_BYU_Symposium_20080216_closeup.jpg?width=300'/>\""
       ]
      }
     ],
     "prompt_number": 6
    },
    {
     "cell_type": "markdown",
     "metadata": {},
     "source": [
      "Mo\u017cemy r\u00f3wnie\u017c zdefniowa\u0107 funkcj\u0119, np. `display_author`, kt\u00f3rej zadaniem b\u0119dzie wy\u015bwietlenie autora w tej postaci. \n",
      "Jedyny problem polega na tym, \u017ce funkcja `IRuby.html` mo\u017ce by\u0107 wywo\u0142ywana tylko raz. Dlatego je\u015bli chcemy wy\u015bwietli\u0107 kilku autor\u00f3w,\n",
      "musimy po\u0142\u0105czy\u0107 odpowiadaj\u0105ce im kody HTML i wynik przekaza\u0107 do funkcji `html`\n",
      "```ruby\n",
      "def display_author(author)\n",
      "  \"<h1>#{author.name} #{author.surname}</h1><img src='#{author.image_url}'/>\"\n",
      "end\n",
      "\n",
      "author_1 = Author.where(\"image_url is not null\").first\n",
      "author_2 = Author.where(\"image_url is not null\").offset(1).first\n",
      "document = display_author(author_1)\n",
      "document += display_author(author_2)\n",
      "IRuby.html document\n",
      "```"
     ]
    },
    {
     "cell_type": "code",
     "collapsed": false,
     "input": [
      "def display_author(author)\n",
      "  \"<h1>#{author.name} #{author.surname}</h1><img src='#{author.image_url}'/>\"\n",
      "end\n",
      "\n",
      "author_1 = Author.where(\"image_url is not null\").first\n",
      "author_2 = Author.where(\"image_url is not null\").offset(1).first\n",
      "document = display_author(author_1)\n",
      "document += display_author(author_2)\n",
      "IRuby.html document"
     ],
     "language": "python",
     "metadata": {},
     "outputs": [
      {
       "html": [
        "<h1>Orson Scott Card</h1><img src='http://commons.wikimedia.org/wiki/Special:FilePath/Orson_Scott_Card_at_BYU_Symposium_20080216_closeup.jpg?width=300'/><h1>Andrzej Sapkowski</h1><img src='http://commons.wikimedia.org/wiki/Special:FilePath/Sapkowski.jpg?width=300'/>"
       ],
       "metadata": {},
       "output_type": "pyout",
       "prompt_number": 7,
       "text": [
        "\"<h1>Orson Scott Card</h1><img src='http://commons.wikimedia.org/wiki/Special:FilePath/Orson_Scott_Card_at_BYU_Symposium_20080216_closeup.jpg?width=300'/><h1>Andrzej Sapkowski</h1><img src='http://commons.wikimedia.org/wiki/Special:FilePath/Sapkowski.jpg?width=300'/>\""
       ]
      }
     ],
     "prompt_number": 7
    },
    {
     "cell_type": "heading",
     "level": 2,
     "metadata": {},
     "source": [
      "Zadania"
     ]
    },
    {
     "cell_type": "heading",
     "level": 3,
     "metadata": {},
     "source": [
      "Zadanie 1"
     ]
    },
    {
     "cell_type": "markdown",
     "metadata": {},
     "source": [
      "Wy\u015bwietl wszystkich autor\u00f3w, kt\u00f3rzy urodzili si\u0119 przed rokiem 1900."
     ]
    },
    {
     "cell_type": "code",
     "collapsed": false,
     "input": [
      "authors = Author.where(born: (Date.parse(\"0000-1-1\"))..Date.parse(\"1900-1-1\"))\n",
      "authors.each do |author|\n",
      "  puts author.name + \" \" + author.surname\n",
      "end"
     ],
     "language": "python",
     "metadata": {},
     "outputs": [
      {
       "output_type": "stream",
       "stream": "stdout",
       "text": [
        "Juliusz S\u0142owacki\n"
       ]
      },
      {
       "output_type": "stream",
       "stream": "stdout",
       "text": [
        "Henryk Sienkiewicz\n"
       ]
      },
      {
       "output_type": "stream",
       "stream": "stdout",
       "text": [
        "Eliza Orzeszkowa\n"
       ]
      },
      {
       "output_type": "stream",
       "stream": "stdout",
       "text": [
        "Adam Mickiewicz\n"
       ]
      },
      {
       "output_type": "stream",
       "stream": "stdout",
       "text": [
        "Jack London\n"
       ]
      },
      {
       "output_type": "stream",
       "stream": "stdout",
       "text": [
        "Miko\u0142aj Kopernik\n"
       ]
      },
      {
       "output_type": "stream",
       "stream": "stdout",
       "text": [
        "Maria Franciszka Koz\u0142owska\n"
       ]
      },
      {
       "output_type": "stream",
       "stream": "stdout",
       "text": [
        "William Szekspir\n"
       ]
      },
      {
       "output_type": "stream",
       "stream": "stdout",
       "text": [
        "John Ronald Reuel Tolkien\n"
       ]
      },
      {
       "output_type": "stream",
       "stream": "stdout",
       "text": [
        "Aleksander Dumas (ojciec)\n"
       ]
      },
      {
       "output_type": "stream",
       "stream": "stdout",
       "text": [
        "Tadeusz Do\u0142\u0119ga-Mostowicz\n"
       ]
      },
      {
       "output_type": "stream",
       "stream": "stdout",
       "text": [
        "Vladimir Nabokov\n"
       ]
      },
      {
       "output_type": "stream",
       "stream": "stdout",
       "text": [
        "Adolf Hitler\n"
       ]
      },
      {
       "output_type": "stream",
       "stream": "stdout",
       "text": [
        "Benedykt Chmielowski\n"
       ]
      },
      {
       "output_type": "stream",
       "stream": "stdout",
       "text": [
        "Aldous Huxley\n"
       ]
      },
      {
       "output_type": "stream",
       "stream": "stdout",
       "text": [
        "Honor\u00e9 de Balzac\n"
       ]
      },
      {
       "output_type": "stream",
       "stream": "stdout",
       "text": [
        "Franz Kafka\n"
       ]
      },
      {
       "output_type": "stream",
       "stream": "stdout",
       "text": [
        "Howard Phillips Lovecraft\n"
       ]
      },
      {
       "output_type": "stream",
       "stream": "stdout",
       "text": [
        "Lew To\u0142stoj\n"
       ]
      },
      {
       "output_type": "stream",
       "stream": "stdout",
       "text": [
        "Ilja Ilf\n"
       ]
      },
      {
       "output_type": "stream",
       "stream": "stdout",
       "text": [
        "Gabriela Zapolska\n"
       ]
      },
      {
       "output_type": "stream",
       "stream": "stdout",
       "text": [
        "Clive Staples Lewis\n"
       ]
      },
      {
       "output_type": "stream",
       "stream": "stdout",
       "text": [
        "Iwan Turgieniew\n"
       ]
      },
      {
       "output_type": "stream",
       "stream": "stdout",
       "text": [
        "Lucy Maud Montgomery\n"
       ]
      },
      {
       "output_type": "stream",
       "stream": "stdout",
       "text": [
        "Aleksander Majkowski\n"
       ]
      },
      {
       "metadata": {},
       "output_type": "pyout",
       "prompt_number": 8,
       "text": [
        "[#<Author id: 2, name: \"Juliusz\", surname: \"S\u0142owacki\", born: \"1809-10-04\", died: \"1849-04-03\", image_url: nil>, #<Author id: 3, name: \"Henryk\", surname: \"Sienkiewicz\", born: \"1846-05-05\", died: \"1916-11-15\", image_url: nil>, #<Author id: 4, name: \"Eliza\", surname: \"Orzeszkowa\", born: \"1841-06-06\", died: \"1910-05-18\", image_url: nil>, #<Author id: 5, name: \"Adam\", surname: \"Mickiewicz\", born: \"1798-12-24\", died: \"1855-11-26\", image_url: nil>, #<Author id: 8, name: \"Jack\", surname: \"London\", born: \"1876-01-12\", died: \"1916-11-22\", image_url: \"http://commons.wikimedia.org/wiki/Special:FilePath...\">, #<Author id: 12, name: \"Miko\u0142aj\", surname: \"Kopernik\", born: \"1473-02-19\", died: \"1543-05-24\", image_url: \"http://commons.wikimedia.org/wiki/Special:FilePath...\">, #<Author id: 13, name: \"Maria Franciszka\", surname: \"Koz\u0142owska\", born: \"1862-05-27\", died: nil, image_url: \"http://commons.wikimedia.org/wiki/Special:FilePath...\">, #<Author id: 15, name: \"William\", surname: \"Szekspir\", born: \"1564-04-23\", died: \"1616-05-03\", image_url: \"http://commons.wikimedia.org/wiki/Special:FilePath...\">, #<Author id: 17, name: \"John Ronald Reuel\", surname: \"Tolkien\", born: \"1892-01-03\", died: \"1973-09-02\", image_url: \"http://commons.wikimedia.org/wiki/Special:FilePath...\">, #<Author id: 18, name: \"Aleksander Dumas\", surname: \"(ojciec)\", born: \"1802-07-24\", died: \"1870-12-05\", image_url: \"http://commons.wikimedia.org/wiki/Special:FilePath...\">, #<Author id: 19, name: \"Tadeusz\", surname: \"Do\u0142\u0119ga-Mostowicz\", born: \"1898-08-10\", died: \"1939-09-20\", image_url: \"http://commons.wikimedia.org/wiki/Special:FilePath...\">, #<Author id: 20, name: \"Vladimir\", surname: \"Nabokov\", born: \"1899-04-22\", died: \"1977-07-02\", image_url: \"http://commons.wikimedia.org/wiki/Special:FilePath...\">, #<Author id: 21, name: \"Adolf\", surname: \"Hitler\", born: \"1889-04-20\", died: \"1945-04-30\", image_url: \"http://commons.wikimedia.org/wiki/Special:FilePath...\">, #<Author id: 23, name: \"Benedykt\", surname: \"Chmielowski\", born: \"1700-03-20\", died: \"1763-04-07\", image_url: \"http://commons.wikimedia.org/wiki/Special:FilePath...\">, #<Author id: 24, name: \"Aldous\", surname: \"Huxley\", born: \"1894-07-26\", died: \"1963-11-22\", image_url: \"http://commons.wikimedia.org/wiki/Special:FilePath...\">, #<Author id: 25, name: \"Honor\u00e9 de\", surname: \"Balzac\", born: \"1799-05-20\", died: \"1850-08-18\", image_url: \"http://commons.wikimedia.org/wiki/Special:FilePath...\">, #<Author id: 26, name: \"Franz\", surname: \"Kafka\", born: \"1883-07-03\", died: \"1924-06-03\", image_url: \"http://commons.wikimedia.org/wiki/Special:FilePath...\">, #<Author id: 28, name: \"Howard Phillips\", surname: \"Lovecraft\", born: \"1890-08-20\", died: \"1937-03-15\", image_url: \"http://commons.wikimedia.org/wiki/Special:FilePath...\">, #<Author id: 30, name: \"Lew\", surname: \"To\u0142stoj\", born: \"1828-09-09\", died: \"1910-11-20\", image_url: \"http://commons.wikimedia.org/wiki/Special:FilePath...\">, #<Author id: 35, name: \"Ilja\", surname: \"Ilf\", born: \"1897-10-15\", died: \"1937-04-13\", image_url: \"http://commons.wikimedia.org/wiki/Special:FilePath...\">, #<Author id: 37, name: \"Gabriela\", surname: \"Zapolska\", born: \"1857-03-30\", died: \"1921-12-17\", image_url: \"http://commons.wikimedia.org/wiki/Special:FilePath...\">, #<Author id: 40, name: \"Clive Staples\", surname: \"Lewis\", born: \"1898-11-29\", died: \"1963-11-22\", image_url: \"http://commons.wikimedia.org/wiki/Special:FilePath...\">, #<Author id: 43, name: \"Iwan\", surname: \"Turgieniew\", born: \"1818-11-09\", died: \"1883-09-03\", image_url: \"http://commons.wikimedia.org/wiki/Special:FilePath...\">, #<Author id: 46, name: \"Lucy Maud\", surname: \"Montgomery\", born: \"1874-11-30\", died: \"1942-04-24\", image_url: \"http://commons.wikimedia.org/wiki/Special:FilePath...\">, #<Author id: 52, name: \"Aleksander\", surname: \"Majkowski\", born: \"1876-07-17\", died: \"1938-02-10\", image_url: \"http://commons.wikimedia.org/wiki/Special:FilePath...\">]"
       ]
      }
     ],
     "prompt_number": 8
    },
    {
     "cell_type": "heading",
     "level": 3,
     "metadata": {},
     "source": [
      "Zadanie 2"
     ]
    },
    {
     "cell_type": "markdown",
     "metadata": {},
     "source": [
      "Zmodyfikuj funkcj\u0119 wy\u015bwietlaj\u0105c\u0105 autor\u00f3w tak aby obejmowa\u0142a ich dat\u0119 urodzin i \u015bmierci w formacie `dzie\u0144.miesi\u0105c.rok`. Nast\u0119pnie wy\u015bwietl wszystkich autor\u00f3w,\n",
      "kt\u00f3rzy zmarli w XX wieku."
     ]
    },
    {
     "cell_type": "code",
     "collapsed": false,
     "input": [
      "authors = Author.where(died: (Date.parse(\"1800-1-1\"))..Date.parse(\"1900-01-01\"))\n",
      "authors.each do |author|\n",
      "  puts author.name + \" \" + author.surname\n",
      "end"
     ],
     "language": "python",
     "metadata": {},
     "outputs": [
      {
       "output_type": "stream",
       "stream": "stdout",
       "text": [
        "Juliusz S\u0142owacki\n"
       ]
      },
      {
       "output_type": "stream",
       "stream": "stdout",
       "text": [
        "Adam Mickiewicz\n"
       ]
      },
      {
       "output_type": "stream",
       "stream": "stdout",
       "text": [
        "Aleksander Dumas (ojciec)\n"
       ]
      },
      {
       "output_type": "stream",
       "stream": "stdout",
       "text": [
        "Honor\u00e9 de Balzac\n"
       ]
      },
      {
       "output_type": "stream",
       "stream": "stdout",
       "text": [
        "Iwan Turgieniew\n"
       ]
      },
      {
       "metadata": {},
       "output_type": "pyout",
       "prompt_number": 10,
       "text": [
        "[#<Author id: 2, name: \"Juliusz\", surname: \"S\u0142owacki\", born: \"1809-10-04\", died: \"1849-04-03\", image_url: nil>, #<Author id: 5, name: \"Adam\", surname: \"Mickiewicz\", born: \"1798-12-24\", died: \"1855-11-26\", image_url: nil>, #<Author id: 18, name: \"Aleksander Dumas\", surname: \"(ojciec)\", born: \"1802-07-24\", died: \"1870-12-05\", image_url: \"http://commons.wikimedia.org/wiki/Special:FilePath...\">, #<Author id: 25, name: \"Honor\u00e9 de\", surname: \"Balzac\", born: \"1799-05-20\", died: \"1850-08-18\", image_url: \"http://commons.wikimedia.org/wiki/Special:FilePath...\">, #<Author id: 43, name: \"Iwan\", surname: \"Turgieniew\", born: \"1818-11-09\", died: \"1883-09-03\", image_url: \"http://commons.wikimedia.org/wiki/Special:FilePath...\">]"
       ]
      }
     ],
     "prompt_number": 10
    },
    {
     "cell_type": "code",
     "collapsed": false,
     "input": [
      "p Author"
     ],
     "language": "python",
     "metadata": {},
     "outputs": [
      {
       "output_type": "stream",
       "stream": "stdout",
       "text": [
        "Author(id: integer, name: string, surname: string, born: date, died: date, image_url: string)"
       ]
      },
      {
       "output_type": "stream",
       "stream": "stdout",
       "text": [
        "\n"
       ]
      },
      {
       "metadata": {},
       "output_type": "pyout",
       "prompt_number": 11,
       "text": [
        "Author(id: integer, name: string, surname: string, born: date, died: date, image_url: string)"
       ]
      }
     ],
     "prompt_number": 11
    },
    {
     "cell_type": "heading",
     "level": 3,
     "metadata": {},
     "source": [
      "Zadanie 3"
     ]
    },
    {
     "cell_type": "markdown",
     "metadata": {},
     "source": [
      "Wy\u015bwietl 5 najm\u0142odszych autor\u00f3w, kt\u00f3rzy posiadaj\u0105 przypisane zdj\u0119cie."
     ]
    },
    {
     "cell_type": "code",
     "collapsed": false,
     "input": [
      "def display_author(author)\n",
      "  \"<h1>#{author.name} #{author.surname}</h1><img src='#{author.image_url}'/>\"\n",
      "end\n",
      "authors = Author.where(\"image_url is not null\").order(born: :desc).limit(5)\n",
      "\n",
      "html = \"\"\n",
      "\n",
      "authors.each do |author|\n",
      "  html << display_author(author)\n",
      "end\n",
      "\n",
      "\n",
      "\n",
      "IRuby.html html\n",
      "\n",
      "#do poprawy! ma si\u0119 wy\u015bwietla\u0107 Pilipiuk i Rowling!"
     ],
     "language": "python",
     "metadata": {},
     "outputs": [
      {
       "html": [
        "<h1>Andrzej Pilipiuk</h1><img src='http://commons.wikimedia.org/wiki/Special:FilePath/Andrzej_Pilipiuk-Polcon2006.jpg?width=300'/><h1>J. K. Rowling</h1><img src='http://commons.wikimedia.org/wiki/Special:FilePath/J._K._Rowling_2010.jpg?width=300'/><h1>Rafa\u0142 A. Ziemkiewicz</h1><img src='http://commons.wikimedia.org/wiki/Special:FilePath/Rafa\u0142_Ziemkiewicz.jpg?width=300'/><h1>Boris Akunin</h1><img src='http://commons.wikimedia.org/wiki/Special:FilePath/Boris_Akunin_2012.jpg?width=300'/><h1>Orson Scott Card</h1><img src='http://commons.wikimedia.org/wiki/Special:FilePath/Orson_Scott_Card_at_BYU_Symposium_20080216_closeup.jpg?width=300'/>"
       ],
       "metadata": {},
       "output_type": "pyout",
       "prompt_number": 20,
       "text": [
        "\"<h1>Andrzej Pilipiuk</h1><img src='http://commons.wikimedia.org/wiki/Special:FilePath/Andrzej_Pilipiuk-Polcon2006.jpg?width=300'/><h1>J. K. Rowling</h1><img src='http://commons.wikimedia.org/wiki/Special:FilePath/J._K._Rowling_2010.jpg?width=300'/><h1>Rafa\u0142 A. Ziemkiewicz</h1><img src='http://commons.wikimedia.org/wiki/Special:FilePath/Rafa\u0142_Ziemkiewicz.jpg?width=300'/><h1>Boris Akunin</h1><img src='http://commons.wikimedia.org/wiki/Special:FilePath/Boris_Akunin_2012.jpg?width=300'/><h1>Orson Scott Card</h1><img src='http://commons.wikimedia.org/wiki/Special:FilePath/Orson_Scott_Card_at_BYU_Symposium_20080216_closeup.jpg?width=300'/>\""
       ]
      }
     ],
     "prompt_number": 20
    },
    {
     "cell_type": "code",
     "collapsed": false,
     "input": [
      "p Author"
     ],
     "language": "python",
     "metadata": {},
     "outputs": [
      {
       "output_type": "stream",
       "stream": "stdout",
       "text": [
        "Author(id: integer, name: string, surname: string, born: date, died: date, image_url: string)"
       ]
      },
      {
       "output_type": "stream",
       "stream": "stdout",
       "text": [
        "\n"
       ]
      },
      {
       "metadata": {},
       "output_type": "pyout",
       "prompt_number": 46,
       "text": [
        "Author(id: integer, name: string, surname: string, born: date, died: date, image_url: string)"
       ]
      }
     ],
     "prompt_number": 46
    },
    {
     "cell_type": "heading",
     "level": 3,
     "metadata": {},
     "source": [
      "Zadanie 4"
     ]
    },
    {
     "cell_type": "markdown",
     "metadata": {},
     "source": [
      "Zdefiniuj funkcj\u0119 `display_book`, kt\u00f3ra b\u0119dzie zwraca\u0142a fragment kodu HTML obejmuj\u0105cy tytu\u0142 ksi\u0105\u017cki, rok jej wydania oraz\n",
      "przypisany obrazek.\n",
      "Wy\u015bwietl najwcze\u015bniej wydan\u0105 ksi\u0105\u017ck\u0119."
     ]
    },
    {
     "cell_type": "code",
     "collapsed": false,
     "input": [
      "def display_book(book)\n",
      "  \"<h1>#{book.title} #{book.published}</h1><img src='#{book.image_url}'/>\"\n",
      "end\n",
      "\n",
      "html = \" \"\n",
      "book = Book.where(\"image_url is not null\").order(:published).first\n",
      "html << display_book(book)\n",
      "\n",
      "IRuby.html html"
     ],
     "language": "python",
     "metadata": {},
     "outputs": [
      {
       "html": [
        " <h1>Hamlet </h1><img src='http://commons.wikimedia.org/wiki/Special:FilePath/Hamlet_quarto_3rd.jpg?width=300'/>"
       ],
       "metadata": {},
       "output_type": "pyout",
       "prompt_number": 66,
       "text": [
        "\" <h1>Hamlet </h1><img src='http://commons.wikimedia.org/wiki/Special:FilePath/Hamlet_quarto_3rd.jpg?width=300'/>\""
       ]
      }
     ],
     "prompt_number": 66
    },
    {
     "cell_type": "code",
     "collapsed": false,
     "input": [
      "p Book"
     ],
     "language": "python",
     "metadata": {},
     "outputs": [
      {
       "output_type": "stream",
       "stream": "stdout",
       "text": [
        "Book(id: integer, title: string, language: string, author_id: integer, published: integer, image_url: string)"
       ]
      },
      {
       "output_type": "stream",
       "stream": "stdout",
       "text": [
        "\n"
       ]
      },
      {
       "metadata": {},
       "output_type": "pyout",
       "prompt_number": 57,
       "text": [
        "Book(id: integer, title: string, language: string, author_id: integer, published: integer, image_url: string)"
       ]
      }
     ],
     "prompt_number": 57
    },
    {
     "cell_type": "heading",
     "level": 3,
     "metadata": {},
     "source": [
      "Zadanie 5"
     ]
    },
    {
     "cell_type": "markdown",
     "metadata": {},
     "source": [
      "Wy\u015bwietl wszystkie ksi\u0105\u017cki, kt\u00f3re nie maj\u0105 przypisanego roku wydania."
     ]
    },
    {
     "cell_type": "code",
     "collapsed": false,
     "input": [
      "def display_book(book)\n",
      "  \"<h1>#{book.title} #{book.published}</h1>\"\n",
      "end\n",
      "\n",
      "books = Book.where(\"published is null\")\n",
      "html = \"\"\n",
      "\n",
      "books.each do |book|\n",
      "  html << display_book(book)\n",
      "end\n",
      "\n",
      "IRuby.html html"
     ],
     "language": "python",
     "metadata": {},
     "outputs": [
      {
       "html": [
        "<h1>V\u00e9gj\u00e1t\u00e9k (reg\u00e9ny) </h1><h1>Hamlet </h1>"
       ],
       "metadata": {},
       "output_type": "pyout",
       "prompt_number": 34,
       "text": [
        "\"<h1>V\u00e9gj\u00e1t\u00e9k (reg\u00e9ny) </h1><h1>Hamlet </h1>\""
       ]
      }
     ],
     "prompt_number": 34
    },
    {
     "cell_type": "heading",
     "level": 3,
     "metadata": {},
     "source": [
      "Zadanie 6"
     ]
    },
    {
     "cell_type": "markdown",
     "metadata": {},
     "source": [
      "Zmodyfikuj funkcj\u0119 `display_author` tak, aby wy\u015bwietla\u0142a r\u00f3wnie\u017c wszystkie ksi\u0105\u017cki napisane przez autora. U\u017cyj znacznika `<ul>`.\n",
      "Korzystaj\u0105c z tej funkcji wy\u015bwietl opis Stanis\u0142awa Lema."
     ]
    },
    {
     "cell_type": "code",
     "collapsed": false,
     "input": [
      "def display_author(author)\n",
      "  html = \"<h1>#{author.name} #{author.surname}</h1><img src='#{author.image_url}'/>\"\n",
      "  html << \"<ul>Books:\"\n",
      "  author.books.each do |book|\n",
      "    html << \"<li>#{book.title}</li>\"\n",
      "  end\n",
      "  html << \"</ul>\"\n",
      "end\n",
      "\n",
      "author = Author.where(surname: \"Lem\").first\n",
      "html = display_author(author)\n",
      "\n",
      "IRuby.html html"
     ],
     "language": "python",
     "metadata": {},
     "outputs": [
      {
       "html": [
        "<h1>Stanis\u0142aw Lem</h1><img src='http://commons.wikimedia.org/wiki/Special:FilePath/Stanislaw_Lem_2.jpg?width=300'/><ul>Books:<li>Bajki robot\u00f3w</li><li>Solaris (powie\u015b\u0107)</li><li>Bezsenno\u015b\u0107 (zbi\u00f3r opowiada\u0144)</li><li>G\u0142os Pana</li><li>Inwazja z Aldebarana (zbi\u00f3r opowiada\u0144)</li><li>Katar (powie\u015b\u0107)</li><li>Ksi\u0119ga robot\u00f3w</li><li>Maska (zbi\u00f3r dzie\u0142)</li><li>Niezwyci\u0119\u017cony i inne opowiadania</li><li>Noc ksi\u0119\u017cycowa</li><li>Pami\u0119tnik znaleziony w wannie</li><li>Polowanie (zbi\u00f3r opowiada\u0144)</li><li>Powt\u00f3rka (zbi\u00f3r dzie\u0142)</li><li>Po\u017cytek ze smoka</li><li>Rasa drapie\u017cc\u00f3w. Teksty ostatnie</li><li>Sezam i inne opowiadania</li><li>Summa technologiae</li><li>Wizja lokalna (powie\u015b\u0107)</li></ul>"
       ],
       "metadata": {},
       "output_type": "pyout",
       "prompt_number": 33,
       "text": [
        "\"<h1>Stanis\u0142aw Lem</h1><img src='http://commons.wikimedia.org/wiki/Special:FilePath/Stanislaw_Lem_2.jpg?width=300'/><ul>Books:<li>Bajki robot\u00f3w</li><li>Solaris (powie\u015b\u0107)</li><li>Bezsenno\u015b\u0107 (zbi\u00f3r opowiada\u0144)</li><li>G\u0142os Pana</li><li>Inwazja z Aldebarana (zbi\u00f3r opowiada\u0144)</li><li>Katar (powie\u015b\u0107)</li><li>Ksi\u0119ga robot\u00f3w</li><li>Maska (zbi\u00f3r dzie\u0142)</li><li>Niezwyci\u0119\u017cony i inne opowiadania</li><li>Noc ksi\u0119\u017cycowa</li><li>Pami\u0119tnik znaleziony w wannie</li><li>Polowanie (zbi\u00f3r opowiada\u0144)</li><li>Powt\u00f3rka (zbi\u00f3r dzie\u0142)</li><li>Po\u017cytek ze smoka</li><li>Rasa drapie\u017cc\u00f3w. Teksty ostatnie</li><li>Sezam i inne opowiadania</li><li>Summa technologiae</li><li>Wizja lokalna (powie\u015b\u0107)</li></ul>\""
       ]
      }
     ],
     "prompt_number": 33
    },
    {
     "cell_type": "heading",
     "level": 3,
     "metadata": {},
     "source": [
      "Zadanie 7"
     ]
    },
    {
     "cell_type": "markdown",
     "metadata": {},
     "source": [
      "W\u015br\u00f3d ksi\u0105\u017cek napisanych przez Lema wy\u015bwietl wszystkie, kt\u00f3re zawieraja w tytule s\u0142owo \"zbi\u00f3r\"."
     ]
    },
    {
     "cell_type": "code",
     "collapsed": false,
     "input": [
      "def display_author(author)\n",
      "  html = \"<h1>#{author.name} #{author.surname}</h1><img src='#{author.image_url}'/>\"\n",
      "  html << \"<ul>Books:\"\n",
      "  author.books.each do |book|\n",
      "    if book.title =~ /zbi\u00f3r/\n",
      "    html << \"<li>#{book.title}</li>\"\n",
      "    end\n",
      "  end\n",
      "  html << \"</ul>\"\n",
      "end\n",
      "\n",
      "author = Author.where(surname: \"Lem\").first\n",
      "html = display_author(author)\n",
      "\n",
      "IRuby.html html"
     ],
     "language": "python",
     "metadata": {},
     "outputs": [
      {
       "html": [
        "<h1>Stanis\u0142aw Lem</h1><img src='http://commons.wikimedia.org/wiki/Special:FilePath/Stanislaw_Lem_2.jpg?width=300'/><ul>Books:<li>Bezsenno\u015b\u0107 (zbi\u00f3r opowiada\u0144)</li><li>Inwazja z Aldebarana (zbi\u00f3r opowiada\u0144)</li><li>Maska (zbi\u00f3r dzie\u0142)</li><li>Polowanie (zbi\u00f3r opowiada\u0144)</li><li>Powt\u00f3rka (zbi\u00f3r dzie\u0142)</li></ul>"
       ],
       "metadata": {},
       "output_type": "pyout",
       "prompt_number": 3,
       "text": [
        "\"<h1>Stanis\u0142aw Lem</h1><img src='http://commons.wikimedia.org/wiki/Special:FilePath/Stanislaw_Lem_2.jpg?width=300'/><ul>Books:<li>Bezsenno\u015b\u0107 (zbi\u00f3r opowiada\u0144)</li><li>Inwazja z Aldebarana (zbi\u00f3r opowiada\u0144)</li><li>Maska (zbi\u00f3r dzie\u0142)</li><li>Polowanie (zbi\u00f3r opowiada\u0144)</li><li>Powt\u00f3rka (zbi\u00f3r dzie\u0142)</li></ul>\""
       ]
      }
     ],
     "prompt_number": 3
    },
    {
     "cell_type": "code",
     "collapsed": false,
     "input": [
      "p Book"
     ],
     "language": "python",
     "metadata": {},
     "outputs": [
      {
       "output_type": "stream",
       "stream": "stdout",
       "text": [
        "Book(id: integer, title: string, language: string, author_id: integer, published: integer, image_url: string)"
       ]
      },
      {
       "output_type": "stream",
       "stream": "stdout",
       "text": [
        "\n"
       ]
      },
      {
       "metadata": {},
       "output_type": "pyout",
       "prompt_number": 105,
       "text": [
        "Book(id: integer, title: string, language: string, author_id: integer, published: integer, image_url: string)"
       ]
      }
     ],
     "prompt_number": 105
    },
    {
     "cell_type": "code",
     "collapsed": false,
     "input": [
      "p Author"
     ],
     "language": "python",
     "metadata": {},
     "outputs": [
      {
       "output_type": "stream",
       "stream": "stdout",
       "text": [
        "Author(id: integer, name: string, surname: string, born: date, died: date, image_url: string)"
       ]
      },
      {
       "output_type": "stream",
       "stream": "stdout",
       "text": [
        "\n"
       ]
      },
      {
       "metadata": {},
       "output_type": "pyout",
       "prompt_number": 5,
       "text": [
        "Author(id: integer, name: string, surname: string, born: date, died: date, image_url: string)"
       ]
      }
     ],
     "prompt_number": 5
    },
    {
     "cell_type": "heading",
     "level": 3,
     "metadata": {},
     "source": [
      "Zadanie 8"
     ]
    },
    {
     "cell_type": "markdown",
     "metadata": {},
     "source": [
      "W\u015br\u00f3d ksi\u0105\u017cek napisanych przez Lema wy\u015bwietl te, kt\u00f3re zosta\u0142y wydane w roku jego \u015bmierci."
     ]
    },
    {
     "cell_type": "code",
     "collapsed": false,
     "input": [
      "def display_author(author)\n",
      " # date = author.died\n",
      "  html = \"<h1>#{author.name} #{author.surname}</h1><img src='#{author.image_url}'/>\"\n",
      "  html << \"<ul>Books:\"\n",
      "  author.books.each do |book|\n",
      "    if book.published == 2006\n",
      "    html << \"<li>#{book.title}</li>\"\n",
      "    end\n",
      "  end\n",
      "  html << \"</ul>\"\n",
      "end\n",
      "\n",
      "author = Author.where(surname: \"Lem\").first\n",
      "\n",
      "html = display_author(author)\n",
      "\n",
      "IRuby.html html"
     ],
     "language": "python",
     "metadata": {},
     "outputs": [
      {
       "html": [
        "<h1>Stanis\u0142aw Lem</h1><img src='http://commons.wikimedia.org/wiki/Special:FilePath/Stanislaw_Lem_2.jpg?width=300'/><ul>Books:<li>Rasa drapie\u017cc\u00f3w. Teksty ostatnie</li></ul>"
       ],
       "metadata": {},
       "output_type": "pyout",
       "prompt_number": 23,
       "text": [
        "\"<h1>Stanis\u0142aw Lem</h1><img src='http://commons.wikimedia.org/wiki/Special:FilePath/Stanislaw_Lem_2.jpg?width=300'/><ul>Books:<li>Rasa drapie\u017cc\u00f3w. Teksty ostatnie</li></ul>\""
       ]
      }
     ],
     "prompt_number": 23
    },
    {
     "cell_type": "code",
     "collapsed": false,
     "input": [
      "require 'date'\n",
      "author = Author.where(surname: \"Lem\").first\n",
      "date = author.died\n",
      "Date.parse(date,'%Y')"
     ],
     "language": "python",
     "metadata": {},
     "outputs": [
      {
       "ename": "TypeError",
       "evalue": "no implicit conversion of Date into String",
       "output_type": "pyerr",
       "traceback": [
        "\u001b[31mTypeError\u001b[0m: no implicit conversion of Date into String",
        "\u001b[37m<main>:3:in `parse'\u001b[0m",
        "\u001b[37m<main>:3:in `<main>'\u001b[0m",
        "\u001b[37m/usr/local/rvm/gems/ruby-2.0.0-p0/gems/iruby-0.1.13/lib/iruby/backend.rb:8:in `eval'\u001b[0m",
        "\u001b[37m/usr/local/rvm/gems/ruby-2.0.0-p0/gems/iruby-0.1.13/lib/iruby/backend.rb:8:in `eval'\u001b[0m",
        "\u001b[37m/usr/local/rvm/gems/ruby-2.0.0-p0/gems/iruby-0.1.13/lib/iruby/kernel.rb:110:in `execute_request'\u001b[0m",
        "\u001b[37m/usr/local/rvm/gems/ruby-2.0.0-p0/gems/iruby-0.1.13/lib/iruby/kernel.rb:62:in `run'\u001b[0m",
        "\u001b[37m/usr/local/rvm/gems/ruby-2.0.0-p0/gems/iruby-0.1.13/lib/iruby/command.rb:30:in `run_kernel'\u001b[0m",
        "\u001b[37m/usr/local/rvm/gems/ruby-2.0.0-p0/gems/iruby-0.1.13/lib/iruby/command.rb:16:in `run'\u001b[0m",
        "\u001b[37m/usr/local/rvm/gems/ruby-2.0.0-p0/gems/iruby-0.1.13/bin/iruby:6:in `<top (required)>'\u001b[0m",
        "\u001b[37m/usr/local/rvm/gems/ruby-2.0.0-p0/bin/iruby:23:in `load'\u001b[0m",
        "\u001b[37m/usr/local/rvm/gems/ruby-2.0.0-p0/bin/iruby:23:in `<main>'\u001b[0m",
        "\u001b[37m/usr/local/rvm/gems/ruby-2.0.0-p0/bin/ruby_noexec_wrapper:14:in `eval'\u001b[0m",
        "\u001b[37m/usr/local/rvm/gems/ruby-2.0.0-p0/bin/ruby_noexec_wrapper:14:in `<main>'\u001b[0m"
       ]
      }
     ],
     "prompt_number": 22
    },
    {
     "cell_type": "code",
     "collapsed": false,
     "input": [
      "p Book"
     ],
     "language": "python",
     "metadata": {},
     "outputs": [
      {
       "output_type": "stream",
       "stream": "stdout",
       "text": [
        "Book(id: integer, title: string, language: string, author_id: integer, published: integer, image_url: string)"
       ]
      },
      {
       "output_type": "stream",
       "stream": "stdout",
       "text": [
        "\n"
       ]
      },
      {
       "metadata": {},
       "output_type": "pyout",
       "prompt_number": 27,
       "text": [
        "Book(id: integer, title: string, language: string, author_id: integer, published: integer, image_url: string)"
       ]
      }
     ],
     "prompt_number": 27
    },
    {
     "cell_type": "code",
     "collapsed": false,
     "input": [
      "p Author"
     ],
     "language": "python",
     "metadata": {},
     "outputs": [
      {
       "output_type": "stream",
       "stream": "stdout",
       "text": [
        "Author(id: integer, name: string, surname: string, born: date, died: date, image_url: string)"
       ]
      },
      {
       "output_type": "stream",
       "stream": "stdout",
       "text": [
        "\n"
       ]
      },
      {
       "metadata": {},
       "output_type": "pyout",
       "prompt_number": 52,
       "text": [
        "Author(id: integer, name: string, surname: string, born: date, died: date, image_url: string)"
       ]
      }
     ],
     "prompt_number": 52
    },
    {
     "cell_type": "heading",
     "level": 3,
     "metadata": {},
     "source": [
      "Zadanie 9"
     ]
    },
    {
     "cell_type": "markdown",
     "metadata": {},
     "source": [
      "Wy\u015bwietl wszystkie ksi\u0105\u017cki znajduj\u0105ce si\u0119 w bazie. Opis powinien zawiera\u0107 tytu\u0142, imi\u0119 i nazwisko autora, rok wydania oraz \n",
      "obraz przedstawiaj\u0105cy ksi\u0105\u017ck\u0119 (o ile istnieje)."
     ]
    },
    {
     "cell_type": "code",
     "collapsed": false,
     "input": [
      "html = \"\"\n",
      "authors = Author.all\n",
      "books = Book.all\n",
      "books.each do |book|\n",
      "  html << \"<h1>#{book.title}</h1><h2>#{author.books}</h2><h3>Published: #{book.published}</h3>#<img src='#{book.image_url}'/>\"\n",
      "end\n",
      "\n",
      "IRuby.html html"
     ],
     "language": "python",
     "metadata": {},
     "outputs": [
      {
       "html": [
        "<h1>V\u00e9gj\u00e1t\u00e9k (reg\u00e9ny)</h1><h2>#<Book::ActiveRecord_Associations_CollectionProxy:0x00000002a54f90></h2><h3>Published: </h3>#<img src=''/><h1>Pani Jeziora (powie\u015b\u0107)</h1><h2>#<Book::ActiveRecord_Associations_CollectionProxy:0x00000002a54f90></h2><h3>Published: 1999</h3>#<img src=''/><h1>Bellew Zawierucha</h1><h2>#<Book::ActiveRecord_Associations_CollectionProxy:0x00000002a54f90></h2><h3>Published: 1912</h3>#<img src=''/><h1>Fa\u0142szywy trop (powie\u015b\u0107)</h1><h2>#<Book::ActiveRecord_Associations_CollectionProxy:0x00000002a54f90></h2><h3>Published: 1995</h3>#<img src=''/><h1>Bajki robot\u00f3w</h1><h2>#<Book::ActiveRecord_Associations_CollectionProxy:0x00000002a54f90></h2><h3>Published: 1964</h3>#<img src=''/><h1>Boles\u0142aw Chrobry (powie\u015b\u0107)</h1><h2>#<Book::ActiveRecord_Associations_CollectionProxy:0x00000002a54f90></h2><h3>Published: 1947</h3>#<img src=''/><h1>De revolutionibus orbium coelestium</h1><h2>#<Book::ActiveRecord_Associations_CollectionProxy:0x00000002a54f90></h2><h3>Published: 1543</h3>#<img src=''/><h1>Dzie\u0142o Wielkiego Mi\u0142osierdzia</h1><h2>#<Book::ActiveRecord_Associations_CollectionProxy:0x00000002a54f90></h2><h3>Published: 1922</h3>#<img src=''/><h1>Folwark zwierz\u0119cy</h1><h2>#<Book::ActiveRecord_Associations_CollectionProxy:0x00000002a54f90></h2><h3>Published: 1945</h3>#<img src='http://commons.wikimedia.org/wiki/Special:FilePath/Animalism_flag.svg?width=300'/><h1>Hamlet</h1><h2>#<Book::ActiveRecord_Associations_CollectionProxy:0x00000002a54f90></h2><h3>Published: </h3>#<img src='http://commons.wikimedia.org/wiki/Special:FilePath/Hamlet_quarto_3rd.jpg?width=300'/><h1>Harry Potter</h1><h2>#<Book::ActiveRecord_Associations_CollectionProxy:0x00000002a54f90></h2><h3>Published: 1997</h3>#<img src='http://commons.wikimedia.org/wiki/Special:FilePath/Harry_Potter_wordmark.svg?width=300'/><h1>Hobbit, czyli tam i z powrotem</h1><h2>#<Book::ActiveRecord_Associations_CollectionProxy:0x00000002a54f90></h2><h3>Published: 1937</h3>#<img src=''/><h1>Hrabia Monte Christo</h1><h2>#<Book::ActiveRecord_Associations_CollectionProxy:0x00000002a54f90></h2><h3>Published: 1844</h3>#<img src='http://commons.wikimedia.org/wiki/Special:FilePath/Louis_Fran\u00e7ais-Dant\u00e8s_sur_son_rocher.jpg?width=300'/><h1>Kariera Nikodema Dyzmy</h1><h2>#<Book::ActiveRecord_Associations_CollectionProxy:0x00000002a54f90></h2><h3>Published: 1932</h3>#<img src=''/><h1>Krzy\u017cacy (powie\u015b\u0107)</h1><h2>#<Book::ActiveRecord_Associations_CollectionProxy:0x00000002a54f90></h2><h3>Published: 1900</h3>#<img src='http://commons.wikimedia.org/wiki/Special:FilePath/PL_Henryk_Sienkiewicz-Krzy\u017cacy_0005.jpeg?width=300'/><h1>Lolita</h1><h2>#<Book::ActiveRecord_Associations_CollectionProxy:0x00000002a54f90></h2><h3>Published: 1955</h3>#<img src=''/><h1>Mein Kampf</h1><h2>#<Book::ActiveRecord_Associations_CollectionProxy:0x00000002a54f90></h2><h3>Published: 1925</h3>#<img src='http://commons.wikimedia.org/wiki/Special:FilePath/Landsberg.Jail.jpg?width=300'/><h1>Nad Niemnem</h1><h2>#<Book::ActiveRecord_Associations_CollectionProxy:0x00000002a54f90></h2><h3>Published: 1888</h3>#<img src='http://commons.wikimedia.org/wiki/Special:FilePath/Nad_Niemnem_-_manuscript.jpg?width=300'/><h1>Niedoko\u0144czone opowie\u015bci</h1><h2>#<Book::ActiveRecord_Associations_CollectionProxy:0x00000002a54f90></h2><h3>Published: 1980</h3>#<img src=''/><h1>Nowe Ateny</h1><h2>#<Book::ActiveRecord_Associations_CollectionProxy:0x00000002a54f90></h2><h3>Published: 1745</h3>#<img src='http://commons.wikimedia.org/wiki/Special:FilePath/Nowe_ateny1.jpg?width=300'/><h1>Nowy wspania\u0142y \u015bwiat</h1><h2>#<Book::ActiveRecord_Associations_CollectionProxy:0x00000002a54f90></h2><h3>Published: 1932</h3>#<img src=''/><h1>Ogniem i mieczem</h1><h2>#<Book::ActiveRecord_Associations_CollectionProxy:0x00000002a54f90></h2><h3>Published: 1884</h3>#<img src='http://commons.wikimedia.org/wiki/Special:FilePath/Podbipieta.JPG?width=300'/><h1>Ojciec Goriot</h1><h2>#<Book::ActiveRecord_Associations_CollectionProxy:0x00000002a54f90></h2><h3>Published: 1835</h3>#<img src='http://commons.wikimedia.org/wiki/Special:FilePath/Father_Goriot_by_H._Daumier_(1842).JPG?width=300'/><h1>Proces (powie\u015b\u0107)</h1><h2>#<Book::ActiveRecord_Associations_CollectionProxy:0x00000002a54f90></h2><h3>Published: 1925</h3>#<img src='http://commons.wikimedia.org/wiki/Special:FilePath/Kafka_Der_Prozess_1925.jpg?width=300'/><h1>Psa\u0142terz Dawid\u00f3w</h1><h2>#<Book::ActiveRecord_Associations_CollectionProxy:0x00000002a54f90></h2><h3>Published: 1579</h3>#<img src='http://commons.wikimedia.org/wiki/Special:FilePath/Kochanowski_-_Psa\u0142terz_Dawid\u00f3w_(1579).jpg?width=300'/><h1>Quo vadis</h1><h2>#<Book::ActiveRecord_Associations_CollectionProxy:0x00000002a54f90></h2><h3>Published: 1896</h3>#<img src='http://commons.wikimedia.org/wiki/Special:FilePath/Rzym_popiersie_Sienkiewicza_w_kosciele_Domine_Quo_Vadis.JPG?width=300'/><h1>Romeo i Julia</h1><h2>#<Book::ActiveRecord_Associations_CollectionProxy:0x00000002a54f90></h2><h3>Published: 1597</h3>#<img src='http://commons.wikimedia.org/wiki/Special:FilePath/Romeo_and_juliet_brown.jpg?width=300'/><h1>Silmarillion</h1><h2>#<Book::ActiveRecord_Associations_CollectionProxy:0x00000002a54f90></h2><h3>Published: 1977</h3>#<img src='http://commons.wikimedia.org/wiki/Special:FilePath/Silmarrillion,_Just_under_the_Cover.jpg?width=300'/><h1>Solaris (powie\u015b\u0107)</h1><h2>#<Book::ActiveRecord_Associations_CollectionProxy:0x00000002a54f90></h2><h3>Published: 1961</h3>#<img src='http://commons.wikimedia.org/wiki/Special:FilePath/Solaris,_various_editions_02.jpg?width=300'/><h1>W\u0142adca Pier\u015bcieni</h1><h2>#<Book::ActiveRecord_Associations_CollectionProxy:0x00000002a54f90></h2><h3>Published: 1954</h3>#<img src='http://commons.wikimedia.org/wiki/Special:FilePath/Unico_Anello.png?width=300'/><h1>Zew Cthulhu (opowiadanie)</h1><h2>#<Book::ActiveRecord_Associations_CollectionProxy:0x00000002a54f90></h2><h3>Published: 1928</h3>#<img src=''/><h1>Znaczy Kapitan</h1><h2>#<Book::ActiveRecord_Associations_CollectionProxy:0x00000002a54f90></h2><h3>Published: 1960</h3>#<img src=''/><h1>Anna Karenina</h1><h2>#<Book::ActiveRecord_Associations_CollectionProxy:0x00000002a54f90></h2><h3>Published: 1877</h3>#<img src='http://commons.wikimedia.org/wiki/Special:FilePath/AnnaKareninaTitle.jpg?width=300'/><h1>Azazel (powie\u015b\u0107)</h1><h2>#<Book::ActiveRecord_Associations_CollectionProxy:0x00000002a54f90></h2><h3>Published: 1998</h3>#<img src=''/><h1>Bezsenno\u015b\u0107 (zbi\u00f3r opowiada\u0144)</h1><h2>#<Book::ActiveRecord_Associations_CollectionProxy:0x00000002a54f90></h2><h3>Published: 1971</h3>#<img src=''/><h1>Ca\u0142a prawda o planecie Ksi</h1><h2>#<Book::ActiveRecord_Associations_CollectionProxy:0x00000002a54f90></h2><h3>Published: 1983</h3>#<img src=''/><h1>Dekorator</h1><h2>#<Book::ActiveRecord_Associations_CollectionProxy:0x00000002a54f90></h2><h3>Published: 1998</h3>#<img src=''/><h1>Diamentowa karoca</h1><h2>#<Book::ActiveRecord_Associations_CollectionProxy:0x00000002a54f90></h2><h3>Published: 2003</h3>#<img src=''/><h1>Dives in misericordia</h1><h2>#<Book::ActiveRecord_Associations_CollectionProxy:0x00000002a54f90></h2><h3>Published: 1980</h3>#<img src='http://commons.wikimedia.org/wiki/Special:FilePath/John_paul_2_coa.svg?width=300'/><h1>Droga na molo w Wigan</h1><h2>#<Book::ActiveRecord_Associations_CollectionProxy:0x00000002a54f90></h2><h3>Published: 1937</h3>#<img src=''/><h1>Druga Fundacja</h1><h2>#<Book::ActiveRecord_Associations_CollectionProxy:0x00000002a54f90></h2><h3>Published: 1953</h3>#<img src=''/><h1>Dwana\u015bcie krzese\u0142</h1><h2>#<Book::ActiveRecord_Associations_CollectionProxy:0x00000002a54f90></h2><h3>Published: 1928</h3>#<img src='http://commons.wikimedia.org/wiki/Special:FilePath/Ostap_Bender_Monument_in_Kharkiv.jpg?width=300'/><h1>Fundacja (powie\u015b\u0107)</h1><h2>#<Book::ActiveRecord_Associations_CollectionProxy:0x00000002a54f90></h2><h3>Published: 1951</h3>#<img src=''/><h1>Fundacja i Imperium</h1><h2>#<Book::ActiveRecord_Associations_CollectionProxy:0x00000002a54f90></h2><h3>Published: 1952</h3>#<img src=''/><h1>Gambit turecki</h1><h2>#<Book::ActiveRecord_Associations_CollectionProxy:0x00000002a54f90></h2><h3>Published: 1998</h3>#<img src=''/><h1>G\u0142os Pana</h1><h2>#<Book::ActiveRecord_Associations_CollectionProxy:0x00000002a54f90></h2><h3>Published: 1968</h3>#<img src=''/><h1>Ich czworo</h1><h2>#<Book::ActiveRecord_Associations_CollectionProxy:0x00000002a54f90></h2><h3>Published: 1907</h3>#<img src=''/><h1>Inwazja z Aldebarana (zbi\u00f3r opowiada\u0144)</h1><h2>#<Book::ActiveRecord_Associations_CollectionProxy:0x00000002a54f90></h2><h3>Published: 1959</h3>#<img src=''/><h1>Kamienna ma\u0142pa</h1><h2>#<Book::ActiveRecord_Associations_CollectionProxy:0x00000002a54f90></h2><h3>Published: 2002</h3>#<img src=''/><h1>Katar (powie\u015b\u0107)</h1><h2>#<Book::ActiveRecord_Associations_CollectionProxy:0x00000002a54f90></h2><h3>Published: 1976</h3>#<img src=''/><h1>Kochanek \u015amierci</h1><h2>#<Book::ActiveRecord_Associations_CollectionProxy:0x00000002a54f90></h2><h3>Published: 2001</h3>#<img src=''/><h1>Kochanka \u015amierci</h1><h2>#<Book::ActiveRecord_Associations_CollectionProxy:0x00000002a54f90></h2><h3>Published: 2001</h3>#<img src=''/><h1>Koronacja (powie\u015b\u0107)</h1><h2>#<Book::ActiveRecord_Associations_CollectionProxy:0x00000002a54f90></h2><h3>Published: 1999</h3>#<img src=''/><h1>Kot w stanie czystym</h1><h2>#<Book::ActiveRecord_Associations_CollectionProxy:0x00000002a54f90></h2><h3>Published: 1989</h3>#<img src=''/><h1>Ko\u0144 i jego ch\u0142opiec</h1><h2>#<Book::ActiveRecord_Associations_CollectionProxy:0x00000002a54f90></h2><h3>Published: 1954</h3>#<img src=''/><h1>Ksi\u0119ga robot\u00f3w</h1><h2>#<Book::ActiveRecord_Associations_CollectionProxy:0x00000002a54f90></h2><h3>Published: 1961</h3>#<img src=''/><h1>Ksi\u0119gi narodu polskiego i pielgrzymstwa polskiego</h1><h2>#<Book::ActiveRecord_Associations_CollectionProxy:0x00000002a54f90></h2><h3>Published: 1832</h3>#<img src='http://commons.wikimedia.org/wiki/Special:FilePath/PL_Ksi\u0119gi_narodu_polskiego_i_pielgrzymstwa_polskiego_008.png?width=300'/><h1>Kuzynki</h1><h2>#<Book::ActiveRecord_Associations_CollectionProxy:0x00000002a54f90></h2><h3>Published: 2003</h3>#<img src=''/><h1>Lewa r\u0119ka ciemno\u015bci</h1><h2>#<Book::ActiveRecord_Associations_CollectionProxy:0x00000002a54f90></h2><h3>Published: 1969</h3>#<img src=''/><h1>Lewiatan (powie\u015b\u0107)</h1><h2>#<Book::ActiveRecord_Associations_CollectionProxy:0x00000002a54f90></h2><h3>Published: 1998</h3>#<img src=''/><h1>Mag (powie\u015b\u0107 J. Deavera)</h1><h2>#<Book::ActiveRecord_Associations_CollectionProxy:0x00000002a54f90></h2><h3>Published: 2003</h3>#<img src=''/><h1>Maska (zbi\u00f3r dzie\u0142)</h1><h2>#<Book::ActiveRecord_Associations_CollectionProxy:0x00000002a54f90></h2><h3>Published: 1976</h3>#<img src=''/><h1>Niezwyci\u0119\u017cony i inne opowiadania</h1><h2>#<Book::ActiveRecord_Associations_CollectionProxy:0x00000002a54f90></h2><h3>Published: 1964</h3>#<img src=''/><h1>Noc ksi\u0119\u017cycowa</h1><h2>#<Book::ActiveRecord_Associations_CollectionProxy:0x00000002a54f90></h2><h3>Published: 1963</h3>#<img src=''/><h1>Ojcowie i dzieci</h1><h2>#<Book::ActiveRecord_Associations_CollectionProxy:0x00000002a54f90></h2><h3>Published: 0</h3>#<img src='http://commons.wikimedia.org/wiki/Special:FilePath/Otsy1880.jpg?width=300'/><h1>Pami\u0119tnik znaleziony w wannie</h1><h2>#<Book::ActiveRecord_Associations_CollectionProxy:0x00000002a54f90></h2><h3>Published: 1961</h3>#<img src=''/><h1>Pie\u015b\u0144 Lodu i Ognia</h1><h2>#<Book::ActiveRecord_Associations_CollectionProxy:0x00000002a54f90></h2><h3>Published: 1996</h3>#<img src=''/><h1>Podr\u00f3\u017ce z Herodotem</h1><h2>#<Book::ActiveRecord_Associations_CollectionProxy:0x00000002a54f90></h2><h3>Published: 2004</h3>#<img src=''/><h1>Polowanie (zbi\u00f3r opowiada\u0144)</h1><h2>#<Book::ActiveRecord_Associations_CollectionProxy:0x00000002a54f90></h2><h3>Published: 1965</h3>#<img src=''/><h1>Powt\u00f3rka (zbi\u00f3r dzie\u0142)</h1><h2>#<Book::ActiveRecord_Associations_CollectionProxy:0x00000002a54f90></h2><h3>Published: 1979</h3>#<img src=''/><h1>Po\u017cytek ze smoka</h1><h2>#<Book::ActiveRecord_Associations_CollectionProxy:0x00000002a54f90></h2><h3>Published: 1993</h3>#<img src=''/><h1>Preludium Fundacji</h1><h2>#<Book::ActiveRecord_Associations_CollectionProxy:0x00000002a54f90></h2><h3>Published: 1988</h3>#<img src=''/><h1>Radca stanu (powie\u015b\u0107)</h1><h2>#<Book::ActiveRecord_Associations_CollectionProxy:0x00000002a54f90></h2><h3>Published: 1998</h3>#<img src=''/><h1>Rasa drapie\u017cc\u00f3w. Teksty ostatnie</h1><h2>#<Book::ActiveRecord_Associations_CollectionProxy:0x00000002a54f90></h2><h3>Published: 2006</h3>#<img src=''/><h1>Rilla ze Z\u0142otego Brzegu</h1><h2>#<Book::ActiveRecord_Associations_CollectionProxy:0x00000002a54f90></h2><h3>Published: 1921</h3>#<img src=''/><h1>Sen nocy letniej</h1><h2>#<Book::ActiveRecord_Associations_CollectionProxy:0x00000002a54f90></h2><h3>Published: 1600</h3>#<img src='http://commons.wikimedia.org/wiki/Special:FilePath/MND_title_page.jpg?width=300'/><h1>Sezam i inne opowiadania</h1><h2>#<Book::ActiveRecord_Associations_CollectionProxy:0x00000002a54f90></h2><h3>Published: 1954</h3>#<img src=''/><h1>Slavorum apostoli</h1><h2>#<Book::ActiveRecord_Associations_CollectionProxy:0x00000002a54f90></h2><h3>Published: 1985</h3>#<img src='http://commons.wikimedia.org/wiki/Special:FilePath/John_paul_2_coa.svg?width=300'/><h1>Summa technologiae</h1><h2>#<Book::ActiveRecord_Associations_CollectionProxy:0x00000002a54f90></h2><h3>Published: 1964</h3>#<img src=''/><h1>Tam gdzie spadaj\u0105 anio\u0142y</h1><h2>#<Book::ActiveRecord_Associations_CollectionProxy:0x00000002a54f90></h2><h3>Published: 1998</h3>#<img src=''/><h1>Tomek u \u017ar\u00f3de\u0142 Amazonki</h1><h2>#<Book::ActiveRecord_Associations_CollectionProxy:0x00000002a54f90></h2><h3>Published: 1967</h3>#<img src=''/><h1>Tomek w Gran Chaco</h1><h2>#<Book::ActiveRecord_Associations_CollectionProxy:0x00000002a54f90></h2><h3>Published: 1987</h3>#<img src=''/><h1>Tomek w grobowcach faraon\u00f3w</h1><h2>#<Book::ActiveRecord_Associations_CollectionProxy:0x00000002a54f90></h2><h3>Published: 1994</h3>#<img src=''/><h1>Ut unum sint</h1><h2>#<Book::ActiveRecord_Associations_CollectionProxy:0x00000002a54f90></h2><h3>Published: 1995</h3>#<img src='http://commons.wikimedia.org/wiki/Special:FilePath/John_paul_2_coa.svg?width=300'/><h1>Veritatis splendor</h1><h2>#<Book::ActiveRecord_Associations_CollectionProxy:0x00000002a54f90></h2><h3>Published: 1993</h3>#<img src='http://commons.wikimedia.org/wiki/Special:FilePath/John_paul_2_coa.svg?width=300'/><h1>Walc stulecia</h1><h2>#<Book::ActiveRecord_Associations_CollectionProxy:0x00000002a54f90></h2><h3>Published: 1998</h3>#<img src=''/><h1>Walet pikowy (powie\u015b\u0107)</h1><h2>#<Book::ActiveRecord_Associations_CollectionProxy:0x00000002a54f90></h2><h3>Published: 1998</h3>#<img src=''/><h1>Wampir Lestat</h1><h2>#<Book::ActiveRecord_Associations_CollectionProxy:0x00000002a54f90></h2><h3>Published: 1985</h3>#<img src=''/><h1>Wizja lokalna (powie\u015b\u0107)</h1><h2>#<Book::ActiveRecord_Associations_CollectionProxy:0x00000002a54f90></h2><h3>Published: 1982</h3>#<img src=''/><h1>Wojna i pok\u00f3j</h1><h2>#<Book::ActiveRecord_Associations_CollectionProxy:0x00000002a54f90></h2><h3>Published: 1865</h3>#<img src='http://commons.wikimedia.org/wiki/Special:FilePath/War-and-peace_1873.gif?width=300'/><h1>\u015amier\u0107 Achillesa</h1><h2>#<Book::ActiveRecord_Associations_CollectionProxy:0x00000002a54f90></h2><h3>Published: 1998</h3>#<img src=''/><h1>\u017bycie i przygody Remusa</h1><h2>#<Book::ActiveRecord_Associations_CollectionProxy:0x00000002a54f90></h2><h3>Published: 1938</h3>#<img src=''/><h1>Casino Royale (powie\u015b\u0107)</h1><h2>#<Book::ActiveRecord_Associations_CollectionProxy:0x00000002a54f90></h2><h3>Published: 1953</h3>#<img src=''/><h1>Cie\u0144 kata</h1><h2>#<Book::ActiveRecord_Associations_CollectionProxy:0x00000002a54f90></h2><h3>Published: 1980</h3>#<img src=''/><h1>Czarnoksi\u0119\u017cnik z Archipelagu</h1><h2>#<Book::ActiveRecord_Associations_CollectionProxy:0x00000002a54f90></h2><h3>Published: 1968</h3>#<img src=''/><h1>Czarownica z Portobello</h1><h2>#<Book::ActiveRecord_Associations_CollectionProxy:0x00000002a54f90></h2><h3>Published: 2006</h3>#<img src=''/><h1>Czas patriot\u00f3w (powie\u015b\u0107)</h1><h2>#<Book::ActiveRecord_Associations_CollectionProxy:0x00000002a54f90></h2><h3>Published: 1987</h3>#<img src=''/>"
       ],
       "metadata": {},
       "output_type": "pyout",
       "prompt_number": 55,
       "text": [
        "\"<h1>V\u00e9gj\u00e1t\u00e9k (reg\u00e9ny)</h1><h2>#<Book::ActiveRecord_Associations_CollectionProxy:0x00000002a54f90></h2><h3>Published: </h3>#<img src=''/><h1>Pani Jeziora (powie\u015b\u0107)</h1><h2>#<Book::ActiveRecord_Associations_CollectionProxy:0x00000002a54f90></h2><h3>Published: 1999</h3>#<img src=''/><h1>Bellew Zawierucha</h1><h2>#<Book::ActiveRecord_Associations_CollectionProxy:0x00000002a54f90></h2><h3>Published: 1912</h3>#<img src=''/><h1>Fa\u0142szywy trop (powie\u015b\u0107)</h1><h2>#<Book::ActiveRecord_Associations_CollectionProxy:0x00000002a54f90></h2><h3>Published: 1995</h3>#<img src=''/><h1>Bajki robot\u00f3w</h1><h2>#<Book::ActiveRecord_Associations_CollectionProxy:0x00000002a54f90></h2><h3>Published: 1964</h3>#<img src=''/><h1>Boles\u0142aw Chrobry (powie\u015b\u0107)</h1><h2>#<Book::ActiveRecord_Associations_CollectionProxy:0x00000002a54f90></h2><h3>Published: 1947</h3>#<img src=''/><h1>De revolutionibus orbium coelestium</h1><h2>#<Book::ActiveRecord_Associations_CollectionProxy:0x00000002a54f90></h2><h3>Published: 1543</h3>#<img src=''/><h1>Dzie\u0142o Wielkiego Mi\u0142osierdzia</h1><h2>#<Book::ActiveRecord_Associations_CollectionProxy:0x00000002a54f90></h2><h3>Published: 1922</h3>#<img src=''/><h1>Folwark zwierz\u0119cy</h1><h2>#<Book::ActiveRecord_Associations_CollectionProxy:0x00000002a54f90></h2><h3>Published: 1945</h3>#<img src='http://commons.wikimedia.org/wiki/Special:FilePath/Animalism_flag.svg?width=300'/><h1>Hamlet</h1><h2>#<Book::ActiveRecord_Associations_CollectionProxy:0x00000002a54f90></h2><h3>Published: </h3>#<img src='http://commons.wikimedia.org/wiki/Special:FilePath/Hamlet_quarto_3rd.jpg?width=300'/><h1>Harry Potter</h1><h2>#<Book::ActiveRecord_Associations_CollectionProxy:0x00000002a54f90></h2><h3>Published: 1997</h3>#<img src='http://commons.wikimedia.org/wiki/Special:FilePath/Harry_Potter_wordmark.svg?width=300'/><h1>Hobbit, czyli tam i z powrotem</h1><h2>#<Book::ActiveRecord_Associations_CollectionProxy:0x00000002a54f90></h2><h3>Published: 1937</h3>#<img src=''/><h1>Hrabia Monte Christo</h1><h2>#<Book::ActiveRecord_Associations_CollectionProxy:0x00000002a54f90></h2><h3>Published: 1844</h3>#<img src='http://commons.wikimedia.org/wiki/Special:FilePath/Louis_Fran\u00e7ais-Dant\u00e8s_sur_son_rocher.jpg?width=300'/><h1>Kariera Nikodema Dyzmy</h1><h2>#<Book::ActiveRecord_Associations_CollectionProxy:0x00000002a54f90></h2><h3>Published: 1932</h3>#<img src=''/><h1>Krzy\u017cacy (powie\u015b\u0107)</h1><h2>#<Book::ActiveRecord_Associations_CollectionProxy:0x00000002a54f90></h2><h3>Published: 1900</h3>#<img src='http://commons.wikimedia.org/wiki/Special:FilePath/PL_Henryk_Sienkiewicz-Krzy\u017cacy_0005.jpeg?width=300'/><h1>Lolita</h1><h2>#<Book::ActiveRecord_Associations_CollectionProxy:0x00000002a54f90></h2><h3>Published: 1955</h3>#<img src=''/><h1>Mein Kampf</h1><h2>#<Book::ActiveRecord_Associations_CollectionProxy:0x00000002a54f90></h2><h3>Published: 1925</h3>#<img src='http://commons.wikimedia.org/wiki/Special:FilePath/Landsberg.Jail.jpg?width=300'/><h1>Nad Niemnem</h1><h2>#<Book::ActiveRecord_Associations_CollectionProxy:0x00000002a54f90></h2><h3>Published: 1888</h3>#<img src='http://commons.wikimedia.org/wiki/Special:FilePath/Nad_Niemnem_-_manuscript.jpg?width=300'/><h1>Niedoko\u0144czone opowie\u015bci</h1><h2>#<Book::ActiveRecord_Associations_CollectionProxy:0x00000002a54f90></h2><h3>Published: 1980</h3>#<img src=''/><h1>Nowe Ateny</h1><h2>#<Book::ActiveRecord_Associations_CollectionProxy:0x00000002a54f90></h2><h3>Published: 1745</h3>#<img src='http://commons.wikimedia.org/wiki/Special:FilePath/Nowe_ateny1.jpg?width=300'/><h1>Nowy wspania\u0142y \u015bwiat</h1><h2>#<Book::ActiveRecord_Associations_CollectionProxy:0x00000002a54f90></h2><h3>Published: 1932</h3>#<img src=''/><h1>Ogniem i mieczem</h1><h2>#<Book::ActiveRecord_Associations_CollectionProxy:0x00000002a54f90></h2><h3>Published: 1884</h3>#<img src='http://commons.wikimedia.org/wiki/Special:FilePath/Podbipieta.JPG?width=300'/><h1>Ojciec Goriot</h1><h2>#<Book::ActiveRecord_Associations_CollectionProxy:0x00000002a54f90></h2><h3>Published: 1835</h3>#<img src='http://commons.wikimedia.org/wiki/Special:FilePath/Father_Goriot_by_H._Daumier_(1842).JPG?width=300'/><h1>Proces (powie\u015b\u0107)</h1><h2>#<Book::ActiveRecord_Associations_CollectionProxy:0x00000002a54f90></h2><h3>Published: 1925</h3>#<img src='http://commons.wikimedia.org/wiki/Special:FilePath/Kafka_Der_Prozess_1925.jpg?width=300'/><h1>Psa\u0142terz Dawid\u00f3w</h1><h2>#<Book::ActiveRecord_Associations_CollectionProxy:0x00000002a54f90></h2><h3>Published: 1579</h3>#<img src='http://commons.wikimedia.org/wiki/Special:FilePath/Kochanowski_-_Psa\u0142terz_Dawid\u00f3w_(1579).jpg?width=300'/><h1>Quo vadis</h1><h2>#<Book::ActiveRecord_Associations_CollectionProxy:0x00000002a54f90></h2><h3>Published: 1896</h3>#<img src='http://commons.wikimedia.org/wiki/Special:FilePath/Rzym_popiersie_Sienkiewicza_w_kosciele_Domine_Quo_Vadis.JPG?width=300'/><h1>Romeo i Julia</h1><h2>#<Book::ActiveRecord_Associations_CollectionProxy:0x00000002a54f90></h2><h3>Published: 1597</h3>#<img src='http://commons.wikimedia.org/wiki/Special:FilePath/Romeo_and_juliet_brown.jpg?width=300'/><h1>Silmarillion</h1><h2>#<Book::ActiveRecord_Associations_CollectionProxy:0x00000002a54f90></h2><h3>Published: 1977</h3>#<img src='http://commons.wikimedia.org/wiki/Special:FilePath/Silmarrillion,_Just_under_the_Cover.jpg?width=300'/><h1>Solaris (powie\u015b\u0107)</h1><h2>#<Book::ActiveRecord_Associations_CollectionProxy:0x00000002a54f90></h2><h3>Published: 1961</h3>#<img src='http://commons.wikimedia.org/wiki/Special:FilePath/Solaris,_various_editions_02.jpg?width=300'/><h1>W\u0142adca Pier\u015bcieni</h1><h2>#<Book::ActiveRecord_Associations_CollectionProxy:0x00000002a54f90></h2><h3>Published: 1954</h3>#<img src='http://commons.wikimedia.org/wiki/Special:FilePath/Unico_Anello.png?width=300'/><h1>Zew Cthulhu (opowiadanie)</h1><h2>#<Book::ActiveRecord_Associations_CollectionProxy:0x00000002a54f90></h2><h3>Published: 1928</h3>#<img src=''/><h1>Znaczy Kapitan</h1><h2>#<Book::ActiveRecord_Associations_CollectionProxy:0x00000002a54f90></h2><h3>Published: 1960</h3>#<img src=''/><h1>Anna Karenina</h1><h2>#<Book::ActiveRecord_Associations_CollectionProxy:0x00000002a54f90></h2><h3>Published: 1877</h3>#<img src='http://commons.wikimedia.org/wiki/Special:FilePath/AnnaKareninaTitle.jpg?width=300'/><h1>Azazel (powie\u015b\u0107)</h1><h2>#<Book::ActiveRecord_Associations_CollectionProxy:0x00000002a54f90></h2><h3>Published: 1998</h3>#<img src=''/><h1>Bezsenno\u015b\u0107 (zbi\u00f3r opowiada\u0144)</h1><h2>#<Book::ActiveRecord_Associations_CollectionProxy:0x00000002a54f90></h2><h3>Published: 1971</h3>#<img src=''/><h1>Ca\u0142a prawda o planecie Ksi</h1><h2>#<Book::ActiveRecord_Associations_CollectionProxy:0x00000002a54f90></h2><h3>Published: 1983</h3>#<img src=''/><h1>Dekorator</h1><h2>#<Book::ActiveRecord_Associations_CollectionProxy:0x00000002a54f90></h2><h3>Published: 1998</h3>#<img src=''/><h1>Diamentowa karoca</h1><h2>#<Book::ActiveRecord_Associations_CollectionProxy:0x00000002a54f90></h2><h3>Published: 2003</h3>#<img src=''/><h1>Dives in misericordia</h1><h2>#<Book::ActiveRecord_Associations_CollectionProxy:0x00000002a54f90></h2><h3>Published: 1980</h3>#<img src='http://commons.wikimedia.org/wiki/Special:FilePath/John_paul_2_coa.svg?width=300'/><h1>Droga na molo w Wigan</h1><h2>#<Book::ActiveRecord_Associations_CollectionProxy:0x00000002a54f90></h2><h3>Published: 1937</h3>#<img src=''/><h1>Druga Fundacja</h1><h2>#<Book::ActiveRecord_Associations_CollectionProxy:0x00000002a54f90></h2><h3>Published: 1953</h3>#<img src=''/><h1>Dwana\u015bcie krzese\u0142</h1><h2>#<Book::ActiveRecord_Associations_CollectionProxy:0x00000002a54f90></h2><h3>Published: 1928</h3>#<img src='http://commons.wikimedia.org/wiki/Special:FilePath/Ostap_Bender_Monument_in_Kharkiv.jpg?width=300'/><h1>Fundacja (powie\u015b\u0107)</h1><h2>#<Book::ActiveRecord_Associations_CollectionProxy:0x00000002a54f90></h2><h3>Published: 1951</h3>#<img src=''/><h1>Fundacja i Imperium</h1><h2>#<Book::ActiveRecord_Associations_CollectionProxy:0x00000002a54f90></h2><h3>Published: 1952</h3>#<img src=''/><h1>Gambit turecki</h1><h2>#<Book::ActiveRecord_Associations_CollectionProxy:0x00000002a54f90></h2><h3>Published: 1998</h3>#<img src=''/><h1>G\u0142os Pana</h1><h2>#<Book::ActiveRecord_Associations_CollectionProxy:0x00000002a54f90></h2><h3>Published: 1968</h3>#<img src=''/><h1>Ich czworo</h1><h2>#<Book::ActiveRecord_Associations_CollectionProxy:0x00000002a54f90></h2><h3>Published: 1907</h3>#<img src=''/><h1>Inwazja z Aldebarana (zbi\u00f3r opowiada\u0144)</h1><h2>#<Book::ActiveRecord_Associations_CollectionProxy:0x00000002a54f90></h2><h3>Published: 1959</h3>#<img src=''/><h1>Kamienna ma\u0142pa</h1><h2>#<Book::ActiveRecord_Associations_CollectionProxy:0x00000002a54f90></h2><h3>Published: 2002</h3>#<img src=''/><h1>Katar (powie\u015b\u0107)</h1><h2>#<Book::ActiveRecord_Associations_CollectionProxy:0x00000002a54f90></h2><h3>Published: 1976</h3>#<img src=''/><h1>Kochanek \u015amierci</h1><h2>#<Book::ActiveRecord_Associations_CollectionProxy:0x00000002a54f90></h2><h3>Published: 2001</h3>#<img src=''/><h1>Kochanka \u015amierci</h1><h2>#<Book::ActiveRecord_Associations_CollectionProxy:0x00000002a54f90></h2><h3>Published: 2001</h3>#<img src=''/><h1>Koronacja (powie\u015b\u0107)</h1><h2>#<Book::ActiveRecord_Associations_CollectionProxy:0x00000002a54f90></h2><h3>Published: 1999</h3>#<img src=''/><h1>Kot w stanie czystym</h1><h2>#<Book::ActiveRecord_Associations_CollectionProxy:0x00000002a54f90></h2><h3>Published: 1989</h3>#<img src=''/><h1>Ko\u0144 i jego ch\u0142opiec</h1><h2>#<Book::ActiveRecord_Associations_CollectionProxy:0x00000002a54f90></h2><h3>Published: 1954</h3>#<img src=''/><h1>Ksi\u0119ga robot\u00f3w</h1><h2>#<Book::ActiveRecord_Associations_CollectionProxy:0x00000002a54f90></h2><h3>Published: 1961</h3>#<img src=''/><h1>Ksi\u0119gi narodu polskiego i pielgrzymstwa polskiego</h1><h2>#<Book::ActiveRecord_Associations_CollectionProxy:0x00000002a54f90></h2><h3>Published: 1832</h3>#<img src='http://commons.wikimedia.org/wiki/Special:FilePath/PL_Ksi\u0119gi_narodu_polskiego_i_pielgrzymstwa_polskiego_008.png?width=300'/><h1>Kuzynki</h1><h2>#<Book::ActiveRecord_Associations_CollectionProxy:0x00000002a54f90></h2><h3>Published: 2003</h3>#<img src=''/><h1>Lewa r\u0119ka ciemno\u015bci</h1><h2>#<Book::ActiveRecord_Associations_CollectionProxy:0x00000002a54f90></h2><h3>Published: 1969</h3>#<img src=''/><h1>Lewiatan (powie\u015b\u0107)</h1><h2>#<Book::ActiveRecord_Associations_CollectionProxy:0x00000002a54f90></h2><h3>Published: 1998</h3>#<img src=''/><h1>Mag (powie\u015b\u0107 J. Deavera)</h1><h2>#<Book::ActiveRecord_Associations_CollectionProxy:0x00000002a54f90></h2><h3>Published: 2003</h3>#<img src=''/><h1>Maska (zbi\u00f3r dzie\u0142)</h1><h2>#<Book::ActiveRecord_Associations_CollectionProxy:0x00000002a54f90></h2><h3>Published: 1976</h3>#<img src=''/><h1>Niezwyci\u0119\u017cony i inne opowiadania</h1><h2>#<Book::ActiveRecord_Associations_CollectionProxy:0x00000002a54f90></h2><h3>Published: 1964</h3>#<img src=''/><h1>Noc ksi\u0119\u017cycowa</h1><h2>#<Book::ActiveRecord_Associations_CollectionProxy:0x00000002a54f90></h2><h3>Published: 1963</h3>#<img src=''/><h1>Ojcowie i dzieci</h1><h2>#<Book::ActiveRecord_Associations_CollectionProxy:0x00000002a54f90></h2><h3>Published: 0</h3>#<img src='http://commons.wikimedia.org/wiki/Special:FilePath/Otsy1880.jpg?width=300'/><h1>Pami\u0119tnik znaleziony w wannie</h1><h2>#<Book::ActiveRecord_Associations_CollectionProxy:0x00000002a54f90></h2><h3>Published: 1961</h3>#<img src=''/><h1>Pie\u015b\u0144 Lodu i Ognia</h1><h2>#<Book::ActiveRecord_Associations_CollectionProxy:0x00000002a54f90></h2><h3>Published: 1996</h3>#<img src=''/><h1>Podr\u00f3\u017ce z Herodotem</h1><h2>#<Book::ActiveRecord_Associations_CollectionProxy:0x00000002a54f90></h2><h3>Published: 2004</h3>#<img src=''/><h1>Polowanie (zbi\u00f3r opowiada\u0144)</h1><h2>#<Book::ActiveRecord_Associations_CollectionProxy:0x00000002a54f90></h2><h3>Published: 1965</h3>#<img src=''/><h1>Powt\u00f3rka (zbi\u00f3r dzie\u0142)</h1><h2>#<Book::ActiveRecord_Associations_CollectionProxy:0x00000002a54f90></h2><h3>Published: 1979</h3>#<img src=''/><h1>Po\u017cytek ze smoka</h1><h2>#<Book::ActiveRecord_Associations_CollectionProxy:0x00000002a54f90></h2><h3>Published: 1993</h3>#<img src=''/><h1>Preludium Fundacji</h1><h2>#<Book::ActiveRecord_Associations_CollectionProxy:0x00000002a54f90></h2><h3>Published: 1988</h3>#<img src=''/><h1>Radca stanu (powie\u015b\u0107)</h1><h2>#<Book::ActiveRecord_Associations_CollectionProxy:0x00000002a54f90></h2><h3>Published: 1998</h3>#<img src=''/><h1>Rasa drapie\u017cc\u00f3w. Teksty ostatnie</h1><h2>#<Book::ActiveRecord_Associations_CollectionProxy:0x00000002a54f90></h2><h3>Published: 2006</h3>#<img src=''/><h1>Rilla ze Z\u0142otego Brzegu</h1><h2>#<Book::ActiveRecord_Associations_CollectionProxy:0x00000002a54f90></h2><h3>Published: 1921</h3>#<img src=''/><h1>Sen nocy letniej</h1><h2>#<Book::ActiveRecord_Associations_CollectionProxy:0x00000002a54f90></h2><h3>Published: 1600</h3>#<img src='http://commons.wikimedia.org/wiki/Special:FilePath/MND_title_page.jpg?width=300'/><h1>Sezam i inne opowiadania</h1><h2>#<Book::ActiveRecord_Associations_CollectionProxy:0x00000002a54f90></h2><h3>Published: 1954</h3>#<img src=''/><h1>Slavorum apostoli</h1><h2>#<Book::ActiveRecord_Associations_CollectionProxy:0x00000002a54f90></h2><h3>Published: 1985</h3>#<img src='http://commons.wikimedia.org/wiki/Special:FilePath/John_paul_2_coa.svg?width=300'/><h1>Summa technologiae</h1><h2>#<Book::ActiveRecord_Associations_CollectionProxy:0x00000002a54f90></h2><h3>Published: 1964</h3>#<img src=''/><h1>Tam gdzie spadaj\u0105 anio\u0142y</h1><h2>#<Book::ActiveRecord_Associations_CollectionProxy:0x00000002a54f90></h2><h3>Published: 1998</h3>#<img src=''/><h1>Tomek u \u017ar\u00f3de\u0142 Amazonki</h1><h2>#<Book::ActiveRecord_Associations_CollectionProxy:0x00000002a54f90></h2><h3>Published: 1967</h3>#<img src=''/><h1>Tomek w Gran Chaco</h1><h2>#<Book::ActiveRecord_Associations_CollectionProxy:0x00000002a54f90></h2><h3>Published: 1987</h3>#<img src=''/><h1>Tomek w grobowcach faraon\u00f3w</h1><h2>#<Book::ActiveRecord_Associations_CollectionProxy:0x00000002a54f90></h2><h3>Published: 1994</h3>#<img src=''/><h1>Ut unum sint</h1><h2>#<Book::ActiveRecord_Associations_CollectionProxy:0x00000002a54f90></h2><h3>Published: 1995</h3>#<img src='http://commons.wikimedia.org/wiki/Special:FilePath/John_paul_2_coa.svg?width=300'/><h1>Veritatis splendor</h1><h2>#<Book::ActiveRecord_Associations_CollectionProxy:0x00000002a54f90></h2><h3>Published: 1993</h3>#<img src='http://commons.wikimedia.org/wiki/Special:FilePath/John_paul_2_coa.svg?width=300'/><h1>Walc stulecia</h1><h2>#<Book::ActiveRecord_Associations_CollectionProxy:0x00000002a54f90></h2><h3>Published: 1998</h3>#<img src=''/><h1>Walet pikowy (powie\u015b\u0107)</h1><h2>#<Book::ActiveRecord_Associations_CollectionProxy:0x00000002a54f90></h2><h3>Published: 1998</h3>#<img src=''/><h1>Wampir Lestat</h1><h2>#<Book::ActiveRecord_Associations_CollectionProxy:0x00000002a54f90></h2><h3>Published: 1985</h3>#<img src=''/><h1>Wizja lokalna (powie\u015b\u0107)</h1><h2>#<Book::ActiveRecord_Associations_CollectionProxy:0x00000002a54f90></h2><h3>Published: 1982</h3>#<img src=''/><h1>Wojna i pok\u00f3j</h1><h2>#<Book::ActiveRecord_Associations_CollectionProxy:0x00000002a54f90></h2><h3>Published: 1865</h3>#<img src='http://commons.wikimedia.org/wiki/Special:FilePath/War-and-peace_1873.gif?width=300'/><h1>\u015amier\u0107 Achillesa</h1><h2>#<Book::ActiveRecord_Associations_CollectionProxy:0x00000002a54f90></h2><h3>Published: 1998</h3>#<img src=''/><h1>\u017bycie i przygody Remusa</h1><h2>#<Book::ActiveRecord_Associations_CollectionProxy:0x00000002a54f90></h2><h3>Published: 1938</h3>#<img src=''/><h1>Casino Royale (powie\u015b\u0107)</h1><h2>#<Book::ActiveRecord_Associations_CollectionProxy:0x00000002a54f90></h2><h3>Published: 1953</h3>#<img src=''/><h1>Cie\u0144 kata</h1><h2>#<Book::ActiveRecord_Associations_CollectionProxy:0x00000002a54f90></h2><h3>Published: 1980</h3>#<img src=''/><h1>Czarnoksi\u0119\u017cnik z Archipelagu</h1><h2>#<Book::ActiveRecord_Associations_CollectionProxy:0x00000002a54f90></h2><h3>Published: 1968</h3>#<img src=''/><h1>Czarownica z Portobello</h1><h2>#<Book::ActiveRecord_Associations_CollectionProxy:0x00000002a54f90></h2><h3>Published: 2006</h3>#<img src=''/><h1>Czas patriot\u00f3w (powie\u015b\u0107)</h1><h2>#<Book::ActiveRecord_Associations_CollectionProxy:0x00000002a54f90></h2><h3>Published: 1987</h3>#<img src=''/>\""
       ]
      }
     ],
     "prompt_number": 55
    },
    {
     "cell_type": "heading",
     "level": 3,
     "metadata": {},
     "source": [
      "Zadanie 10"
     ]
    },
    {
     "cell_type": "markdown",
     "metadata": {},
     "source": [
      "Wy\u015bwietl wszystkich autor\u00f3w znajduj\u0105cych si\u0119 w bazie wraz z opisem zawieraj\u0105cym ich zdj\u0119cie, dat\u0119 urodzin i \u015bmierci oraz spis \n",
      "opublikowanych ksi\u0105\u017cek. Pami\u0119taj o odpowiednim sformatowaniu dat oraz o tym, \u017ce nie wszyscy autorzy maj\u0105 przypisane wszystkie\n",
      "informacje."
     ]
    },
    {
     "cell_type": "code",
     "collapsed": false,
     "input": [],
     "language": "python",
     "metadata": {},
     "outputs": [],
     "prompt_number": 1
    }
   ],
   "metadata": {}
  }
 ]
}